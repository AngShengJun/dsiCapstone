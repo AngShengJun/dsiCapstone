{
 "cells": [
  {
   "cell_type": "markdown",
   "metadata": {},
   "source": [
    "## P5.1 Model Prep, Modelling, Evaluation & Recommendations"
   ]
  },
  {
   "cell_type": "markdown",
   "metadata": {},
   "source": [
    "### Model Prep\n",
    "---\n",
    "In model learning, data is usually segregated into\n",
    "- training set; where model learns from the pattern within this set of data,\n",
    "- validate set; where model or group of models are evaluated. This is the performance the model is expected to have on unseen data.\n",
    "- test set; the best performing model is then shortlisted and tested on the test set.\n",
    " \n",
    "Model workflow steps:\n",
    "- first split data into i) train and test set, then split the train set into train subsets and validate subsets.\n",
    "- only fit on the train set then score on validate set. (Similar principle applies on test set). \n",
    "- evaluate model\n",
    "This would prevent dataleakage (inadvertent countvectorize (a transformer) the entire data before doing train-test-split)."
   ]
  },
  {
   "cell_type": "code",
   "execution_count": 9,
   "metadata": {},
   "outputs": [],
   "source": [
    "import pandas as pd\n",
    "import numpy as np\n",
    "import matplotlib.pyplot as plt\n",
    "# increase default figure and font sizes for easier viewing\n",
    "plt.rcParams['figure.figsize'] = (8, 6)\n",
    "plt.rcParams['font.size'] = 14\n",
    "\n",
    "# always be stylish\n",
    "plt.style.use('ggplot')\n",
    "\n",
    "import re\n",
    "from nltk.corpus import stopwords\n",
    "from nltk.stem.porter import PorterStemmer\n",
    "\n",
    "from sklearn.model_selection import train_test_split, GridSearchCV\n",
    "from sklearn.pipeline import Pipeline\n",
    "from sklearn.feature_extraction.text import CountVectorizer\n",
    "from sklearn.linear_model import LogisticRegression\n",
    "from sklearn.naive_bayes import MultinomialNB\n",
    "\n",
    "from sklearn.metrics import confusion_matrix\n",
    "from sklearn.metrics import roc_auc_score"
   ]
  },
  {
   "cell_type": "code",
   "execution_count": 10,
   "metadata": {},
   "outputs": [],
   "source": [
    "# Setting - display all columns\n",
    "pd.set_option('display.max_columns', None)"
   ]
  },
  {
   "cell_type": "code",
   "execution_count": 11,
   "metadata": {},
   "outputs": [],
   "source": [
    "# Read in cleaned featured engineered data\n",
    "dframe = pd.read_csv('../assets/wordok.csv',encoding=\"ISO-8859-1\",index_col=0)"
   ]
  },
  {
   "cell_type": "code",
   "execution_count": 4,
   "metadata": {},
   "outputs": [
    {
     "data": {
      "text/plain": [
       "(32521, 24)"
      ]
     },
     "execution_count": 4,
     "metadata": {},
     "output_type": "execute_result"
    }
   ],
   "source": [
    "dframe.shape"
   ]
  },
  {
   "cell_type": "code",
   "execution_count": 5,
   "metadata": {},
   "outputs": [
    {
     "data": {
      "text/html": [
       "<div>\n",
       "<style scoped>\n",
       "    .dataframe tbody tr th:only-of-type {\n",
       "        vertical-align: middle;\n",
       "    }\n",
       "\n",
       "    .dataframe tbody tr th {\n",
       "        vertical-align: top;\n",
       "    }\n",
       "\n",
       "    .dataframe thead th {\n",
       "        text-align: right;\n",
       "    }\n",
       "</style>\n",
       "<table border=\"1\" class=\"dataframe\">\n",
       "  <thead>\n",
       "    <tr style=\"text-align: right;\">\n",
       "      <th></th>\n",
       "      <th>eventid</th>\n",
       "      <th>iyear</th>\n",
       "      <th>imonth</th>\n",
       "      <th>iday</th>\n",
       "      <th>country</th>\n",
       "      <th>region</th>\n",
       "      <th>lat</th>\n",
       "      <th>lon</th>\n",
       "      <th>crit1</th>\n",
       "      <th>crit2</th>\n",
       "      <th>crit3</th>\n",
       "      <th>success</th>\n",
       "      <th>suicide</th>\n",
       "      <th>atkmode</th>\n",
       "      <th>targtype</th>\n",
       "      <th>targnat</th>\n",
       "      <th>gname</th>\n",
       "      <th>motive</th>\n",
       "      <th>indiv</th>\n",
       "      <th>weaptype</th>\n",
       "      <th>nkill</th>\n",
       "      <th>nwound</th>\n",
       "      <th>property</th>\n",
       "      <th>bomb</th>\n",
       "    </tr>\n",
       "  </thead>\n",
       "  <tbody>\n",
       "    <tr>\n",
       "      <th>0</th>\n",
       "      <td>197001010002</td>\n",
       "      <td>1970</td>\n",
       "      <td>1</td>\n",
       "      <td>1</td>\n",
       "      <td>United States</td>\n",
       "      <td>North America</td>\n",
       "      <td>37.005105</td>\n",
       "      <td>-89.176269</td>\n",
       "      <td>1</td>\n",
       "      <td>1</td>\n",
       "      <td>1</td>\n",
       "      <td>1</td>\n",
       "      <td>0</td>\n",
       "      <td>armed assault</td>\n",
       "      <td>police</td>\n",
       "      <td>united states</td>\n",
       "      <td>black nationalists</td>\n",
       "      <td>to protest the cairo illinois police deparment</td>\n",
       "      <td>0</td>\n",
       "      <td>firearms</td>\n",
       "      <td>0</td>\n",
       "      <td>0</td>\n",
       "      <td>1</td>\n",
       "      <td>0</td>\n",
       "    </tr>\n",
       "    <tr>\n",
       "      <th>1</th>\n",
       "      <td>197001020003</td>\n",
       "      <td>1970</td>\n",
       "      <td>1</td>\n",
       "      <td>2</td>\n",
       "      <td>United States</td>\n",
       "      <td>North America</td>\n",
       "      <td>43.076592</td>\n",
       "      <td>-89.412488</td>\n",
       "      <td>1</td>\n",
       "      <td>1</td>\n",
       "      <td>1</td>\n",
       "      <td>1</td>\n",
       "      <td>0</td>\n",
       "      <td>facility attack</td>\n",
       "      <td>military</td>\n",
       "      <td>united states</td>\n",
       "      <td>new year's gang</td>\n",
       "      <td>to protest the war in vietnam and the draft</td>\n",
       "      <td>0</td>\n",
       "      <td>incendiary</td>\n",
       "      <td>0</td>\n",
       "      <td>0</td>\n",
       "      <td>1</td>\n",
       "      <td>0</td>\n",
       "    </tr>\n",
       "  </tbody>\n",
       "</table>\n",
       "</div>"
      ],
      "text/plain": [
       "        eventid  iyear  imonth  iday        country         region        lat  \\\n",
       "0  197001010002   1970       1     1  United States  North America  37.005105   \n",
       "1  197001020003   1970       1     2  United States  North America  43.076592   \n",
       "\n",
       "         lon  crit1  crit2  crit3  success  suicide          atkmode  \\\n",
       "0 -89.176269      1      1      1        1        0    armed assault   \n",
       "1 -89.412488      1      1      1        1        0  facility attack   \n",
       "\n",
       "   targtype        targnat               gname  \\\n",
       "0    police  united states  black nationalists   \n",
       "1  military  united states     new year's gang   \n",
       "\n",
       "                                           motive  indiv    weaptype  nkill  \\\n",
       "0  to protest the cairo illinois police deparment      0    firearms      0   \n",
       "1     to protest the war in vietnam and the draft      0  incendiary      0   \n",
       "\n",
       "   nwound  property  bomb  \n",
       "0       0         1     0  \n",
       "1       0         1     0  "
      ]
     },
     "execution_count": 5,
     "metadata": {},
     "output_type": "execute_result"
    }
   ],
   "source": [
    "dframe.head(2)"
   ]
  },
  {
   "cell_type": "code",
   "execution_count": 6,
   "metadata": {},
   "outputs": [],
   "source": [
    "# Create Train-Test split (80-20 split)\n",
    "# X is selftext. y is googlehome.\n",
    "X_train,X_test,y_train,y_test = train_test_split(dframe[['motive']],dframe['bomb'],test_size=0.20,\\\n",
    "                                                 stratify=dframe['bomb'],\\\n",
    "                                                 random_state=42)"
   ]
  },
  {
   "cell_type": "code",
   "execution_count": 7,
   "metadata": {},
   "outputs": [
    {
     "name": "stdout",
     "output_type": "stream",
     "text": [
      "0    0.523524\n",
      "1    0.476476\n",
      "Name: bomb, dtype: float64\n"
     ]
    },
    {
     "data": {
      "text/plain": [
       "0    0.523444\n",
       "1    0.476556\n",
       "Name: bomb, dtype: float64"
      ]
     },
     "execution_count": 7,
     "metadata": {},
     "output_type": "execute_result"
    }
   ],
   "source": [
    "# Equal proportion of classes split across train and test set\n",
    "print(y_train.value_counts(normalize=True))\n",
    "y_test.value_counts(normalize=True)"
   ]
  },
  {
   "cell_type": "code",
   "execution_count": 8,
   "metadata": {},
   "outputs": [],
   "source": [
    "# Create Train-Validate subsets (80-20 split) from the parent Train set\n",
    "# X is selftext. y is googlehome.\n",
    "X_trainsub,X_validate,y_trainsub,y_validate = train_test_split(X_train[['motive']],y_train,test_size=0.20,\\\n",
    "                                                           stratify=y_train,random_state=42)"
   ]
  },
  {
   "cell_type": "code",
   "execution_count": 9,
   "metadata": {},
   "outputs": [
    {
     "name": "stdout",
     "output_type": "stream",
     "text": [
      "Lines in train set: 20812\n",
      "Lines in validate set: 5204\n",
      "Lines in test set: 6505\n"
     ]
    }
   ],
   "source": [
    "# Lines of text in train set, validate set and test set\n",
    "row_trainsub = X_trainsub.shape[0]\n",
    "row_validate = X_validate.shape[0]\n",
    "row_test = X_test.shape[0]\n",
    "print(f\"Lines in train set: {row_trainsub}\")\n",
    "print(f\"Lines in validate set: {row_validate}\")\n",
    "print(f\"Lines in test set: {row_test}\")"
   ]
  },
  {
   "cell_type": "code",
   "execution_count": 10,
   "metadata": {},
   "outputs": [],
   "source": [
    "# Instantiate porterstemmer\n",
    "p_stemmer = PorterStemmer()"
   ]
  },
  {
   "cell_type": "code",
   "execution_count": 45,
   "metadata": {},
   "outputs": [],
   "source": [
    "# Create the list of custom stopwords\n",
    "# Built upon nltk stopwords (english)\n",
    "\"\"\"Define the stopword lists\"\"\"\n",
    "s_words = stopwords.words('english')\n",
    "# Instantiate the custom list of stopwords for modelling from P5_01\n",
    "own_stop = ['shiite','police', 'iraq' 'sunni', 'npa', 'maoist', 'day', 'maoists', 'ida', 'qa', 'islamic', 'isil',\\\n",
    "            'shabaab','levant','bombing','hartal','communist','bangladesh','cpi','2015','january','bangdad','iraqi',\\\n",
    "            'pakistan','united','aqi','india','bombings','thailand','tripoli','shiites','janmukti','puerto','bomb',\\\n",
    "            'morcha','planted','ttp','israeli','african', \n",
    "            'revenge','attempting','peace','upcoming','said','recent','attempt','time','religious','war','general',\\\n",
    "            'station','note','liberation','officials','president','groups','ltte','april','extremists','armed',\\\n",
    "            'leave','states','operations','2014','called','algeria','2013','related','authorities','algerian',\\\n",
    "            'parliamentary','national','alleged','source','death','recently','spokesperson','speculate',\\\n",
    "            'reported','area','province','boko','tehrik','al','target','haram','support','protest','held']"
   ]
  },
  {
   "cell_type": "code",
   "execution_count": 46,
   "metadata": {},
   "outputs": [
    {
     "data": {
      "text/plain": [
       "['target', 'haram', 'support', 'protest', 'held']"
      ]
     },
     "execution_count": 46,
     "metadata": {},
     "output_type": "execute_result"
    }
   ],
   "source": [
    "# Extend the Stop words\n",
    "s_words.extend(own_stop)\n",
    "# Check the addition of firstset_words\n",
    "s_words[-5:]"
   ]
  },
  {
   "cell_type": "code",
   "execution_count": 47,
   "metadata": {},
   "outputs": [],
   "source": [
    "# Define function to convert a raw selftext to a string of words\n",
    "# The input is a single string (a raw selftext), and \n",
    "# The output is a single string (a preprocessed selftext)\n",
    "# For Stop words with firstset_words and secondset_words\n",
    "\n",
    "def selftext_to_words(motive_text):\n",
    "    \n",
    "    # 1. Remove non-letters.\n",
    "    letters_only = re.sub(\"[^a-zA-Z]\", \" \", motive_text)\n",
    "    \n",
    "    # 2. Split into individual words\n",
    "    words = letters_only.split()\n",
    "    \n",
    "    # 3. In Python, searching a set is much faster than searching\n",
    "    # a list, so convert the stopwords to a set.\n",
    "    stops = set(s_words)\n",
    "\n",
    "    # 5. Remove stopwords.\n",
    "    meaningful_words = [w for w in words if w not in stops]\n",
    "    \n",
    "    # 5.5 Stemming of words\n",
    "    meaningful_words = [p_stemmer.stem(w) for w in words]\n",
    "    \n",
    "    # 6. Join the words back into one string separated by space, \n",
    "    # and return the result\n",
    "    return(\" \".join(meaningful_words))"
   ]
  },
  {
   "cell_type": "code",
   "execution_count": 48,
   "metadata": {},
   "outputs": [
    {
     "name": "stdout",
     "output_type": "stream",
     "text": [
      "Clean & parse 1000 of 32521.\n",
      "Clean & parse 2000 of 32521.\n",
      "Clean & parse 3000 of 32521.\n",
      "Clean & parse 4000 of 32521.\n",
      "Clean & parse 5000 of 32521.\n",
      "Clean & parse 6000 of 32521.\n",
      "Clean & parse 7000 of 32521.\n",
      "Clean & parse 8000 of 32521.\n",
      "Clean & parse 9000 of 32521.\n",
      "Clean & parse 10000 of 32521.\n",
      "Clean & parse 11000 of 32521.\n",
      "Clean & parse 12000 of 32521.\n",
      "Clean & parse 13000 of 32521.\n",
      "Clean & parse 14000 of 32521.\n",
      "Clean & parse 15000 of 32521.\n",
      "Clean & parse 16000 of 32521.\n",
      "Clean & parse 17000 of 32521.\n",
      "Clean & parse 18000 of 32521.\n",
      "Clean & parse 19000 of 32521.\n",
      "Clean & parse 20000 of 32521.\n",
      "Clean & parse 21000 of 32521.\n",
      "Clean & parse 22000 of 32521.\n",
      "Clean & parse 23000 of 32521.\n",
      "Clean & parse 24000 of 32521.\n",
      "Clean & parse 25000 of 32521.\n",
      "Clean & parse 26000 of 32521.\n",
      "Clean & parse 32521 of 32521.\n"
     ]
    }
   ],
   "source": [
    "# Initialize an empty list to hold the cleaned texts.\n",
    "\n",
    "X_trainsub_clean = []\n",
    "X_validate_clean = []\n",
    "X_test_clean = []\n",
    "\n",
    "#For trainsub set\n",
    "# Instantiate counter.\n",
    "j = 0\n",
    "for text in X_trainsub['motive']:\n",
    "    \"\"\"Convert text to words, then append to X_trainf_clean.\"\"\"\n",
    "    X_trainsub_clean.append(selftext_to_words(text))\n",
    "    \n",
    "    # If the index is divisible by 1000, print a message.\n",
    "    if (j + 1) % 1000 == 0:\n",
    "        print(f'Clean & parse {j + 1} of {row_trainsub+row_validate+row_test}.')\n",
    "    \n",
    "    j += 1\n",
    "    \n",
    "# For validate set\n",
    "for text in X_validate['motive']:\n",
    "    \"\"\"Convert text to words, then append to X_validate_clean.\"\"\"\n",
    "    X_validate_clean.append(selftext_to_words(text))\n",
    "    \n",
    "    # If the index is divisible by 1000, print a message.\n",
    "    if (j + 1) % 1000 == 0:\n",
    "        print(f'Clean & parse {j + 1} of {row_trainsub+row_validate+row_test}.')\n",
    "    \n",
    "    j += 1\n",
    "    \n",
    "# For test set\n",
    "for text in X_test['motive']:\n",
    "    \"\"\"Convert text to words, then append to X_test_clean.\"\"\"\n",
    "    X_test_clean.append(selftext_to_words(text))\n",
    "    \n",
    "    # If the index is divisible by 1000, print a message.\n",
    "    if (j + 1) % (row_trainsub+row_validate+row_test) == 0:\n",
    "        print(f'Clean & parse {j + 1} of {row_trainsub+row_validate+row_test}.')\n",
    "    \n",
    "    j += 1"
   ]
  },
  {
   "cell_type": "markdown",
   "metadata": {},
   "source": [
    "### Baseline accuracy\n",
    "---\n",
    "Derive the baseline accuracy so as to be able to determine if the subsequent models are better than the baseline (null) model (predicting the plurality class)."
   ]
  },
  {
   "cell_type": "code",
   "execution_count": 49,
   "metadata": {},
   "outputs": [
    {
     "data": {
      "text/plain": [
       "0    0.523444\n",
       "1    0.476556\n",
       "Name: bomb, dtype: float64"
      ]
     },
     "execution_count": 49,
     "metadata": {},
     "output_type": "execute_result"
    }
   ],
   "source": [
    "y_test.value_counts(normalize=True)"
   ]
  },
  {
   "cell_type": "markdown",
   "metadata": {},
   "source": [
    "The Baseline accuracy is the percentage of the majority class. In this case, the baseline accuracy is 0.48. \n",
    "This serves as benchmark for measuring model performance (i.e. model accuracy should be higher than this baseline).\n",
    "For model evaluation, use:\n",
    "- `sensitivity` (reduce false negatives) AND\n",
    "- `ROC-AUC` (measures model's skill in classification)"
   ]
  },
  {
   "cell_type": "markdown",
   "metadata": {},
   "source": [
    "### Logistic Regression Model\n",
    "---\n",
    "Logistic Regression model is explored in this section."
   ]
  },
  {
   "cell_type": "code",
   "execution_count": 50,
   "metadata": {},
   "outputs": [],
   "source": [
    "# Set up a pipeline with two stages\n",
    "# 1.CountVectorizer (transformer)\n",
    "# 2.LogisticRegression (estimator)\n",
    "\n",
    "pipe1 = Pipeline([('cvec',CountVectorizer()),\\\n",
    "                 ('logreg',LogisticRegression(random_state=42))\\\n",
    "                ])"
   ]
  },
  {
   "cell_type": "code",
   "execution_count": 51,
   "metadata": {
    "scrolled": true
   },
   "outputs": [
    {
     "data": {
      "text/plain": [
       "{'memory': None,\n",
       " 'steps': [('cvec',\n",
       "   CountVectorizer(analyzer='word', binary=False, decode_error='strict',\n",
       "                   dtype=<class 'numpy.int64'>, encoding='utf-8', input='content',\n",
       "                   lowercase=True, max_df=1.0, max_features=None, min_df=1,\n",
       "                   ngram_range=(1, 1), preprocessor=None, stop_words=None,\n",
       "                   strip_accents=None, token_pattern='(?u)\\\\b\\\\w\\\\w+\\\\b',\n",
       "                   tokenizer=None, vocabulary=None)),\n",
       "  ('logreg',\n",
       "   LogisticRegression(C=1.0, class_weight=None, dual=False, fit_intercept=True,\n",
       "                      intercept_scaling=1, l1_ratio=None, max_iter=100,\n",
       "                      multi_class='auto', n_jobs=None, penalty='l2',\n",
       "                      random_state=42, solver='lbfgs', tol=0.0001, verbose=0,\n",
       "                      warm_start=False))],\n",
       " 'verbose': False,\n",
       " 'cvec': CountVectorizer(analyzer='word', binary=False, decode_error='strict',\n",
       "                 dtype=<class 'numpy.int64'>, encoding='utf-8', input='content',\n",
       "                 lowercase=True, max_df=1.0, max_features=None, min_df=1,\n",
       "                 ngram_range=(1, 1), preprocessor=None, stop_words=None,\n",
       "                 strip_accents=None, token_pattern='(?u)\\\\b\\\\w\\\\w+\\\\b',\n",
       "                 tokenizer=None, vocabulary=None),\n",
       " 'logreg': LogisticRegression(C=1.0, class_weight=None, dual=False, fit_intercept=True,\n",
       "                    intercept_scaling=1, l1_ratio=None, max_iter=100,\n",
       "                    multi_class='auto', n_jobs=None, penalty='l2',\n",
       "                    random_state=42, solver='lbfgs', tol=0.0001, verbose=0,\n",
       "                    warm_start=False),\n",
       " 'cvec__analyzer': 'word',\n",
       " 'cvec__binary': False,\n",
       " 'cvec__decode_error': 'strict',\n",
       " 'cvec__dtype': numpy.int64,\n",
       " 'cvec__encoding': 'utf-8',\n",
       " 'cvec__input': 'content',\n",
       " 'cvec__lowercase': True,\n",
       " 'cvec__max_df': 1.0,\n",
       " 'cvec__max_features': None,\n",
       " 'cvec__min_df': 1,\n",
       " 'cvec__ngram_range': (1, 1),\n",
       " 'cvec__preprocessor': None,\n",
       " 'cvec__stop_words': None,\n",
       " 'cvec__strip_accents': None,\n",
       " 'cvec__token_pattern': '(?u)\\\\b\\\\w\\\\w+\\\\b',\n",
       " 'cvec__tokenizer': None,\n",
       " 'cvec__vocabulary': None,\n",
       " 'logreg__C': 1.0,\n",
       " 'logreg__class_weight': None,\n",
       " 'logreg__dual': False,\n",
       " 'logreg__fit_intercept': True,\n",
       " 'logreg__intercept_scaling': 1,\n",
       " 'logreg__l1_ratio': None,\n",
       " 'logreg__max_iter': 100,\n",
       " 'logreg__multi_class': 'auto',\n",
       " 'logreg__n_jobs': None,\n",
       " 'logreg__penalty': 'l2',\n",
       " 'logreg__random_state': 42,\n",
       " 'logreg__solver': 'lbfgs',\n",
       " 'logreg__tol': 0.0001,\n",
       " 'logreg__verbose': 0,\n",
       " 'logreg__warm_start': False}"
      ]
     },
     "execution_count": 51,
     "metadata": {},
     "output_type": "execute_result"
    }
   ],
   "source": [
    "# Parameters of pipeline object\n",
    "pipe1.get_params()"
   ]
  },
  {
   "cell_type": "code",
   "execution_count": 52,
   "metadata": {},
   "outputs": [],
   "source": [
    "# Load pipeline object into GridSearchCV to tune CountVectorizer\n",
    "# Search over the following values of hyperparameters:\n",
    "# Max. no. of features fit (top no. frequent occur words): 2000, 3000, 4000, 5000, 10000\n",
    "# Min. no. of documents (collection of text) needed to include token: 2, 3\n",
    "# Max. no. of documents needed to include token: 90%, 95%\n",
    "# n-gram: 1 token, 1-gram, or 1 token, 2-gram.\n",
    "# class weight \"balanced\"; adjust class weights inversely proportional to class frequencies in the input data\n",
    "pipe1_params = {\n",
    "    'cvec__max_features': [2_000,3_000,4_000,5_000,10_000],\\\n",
    "    'cvec__min_df': [2,3],\\\n",
    "    'cvec__max_df': [0.9,0.95],\\\n",
    "    'cvec__ngram_range': [(1, 1), (1,2)],\\\n",
    "    'logreg__max_iter': [500],\\\n",
    "    'logreg__solver':['lbfgs'],\\\n",
    "    'logreg__verbose': [1]\n",
    "}"
   ]
  },
  {
   "cell_type": "code",
   "execution_count": 53,
   "metadata": {},
   "outputs": [],
   "source": [
    "# Instantiate GridSearchCV.\n",
    "\"\"\"pipe1 refers to the object to optimize.\"\"\"\n",
    "\"\"\"param_grid refer to parameter values to search.\"\"\"\n",
    "\"\"\"10 folds for cross-validate.\"\"\"\n",
    "gs1 = GridSearchCV(pipe1,\\\n",
    "                  param_grid=pipe1_params,\\\n",
    "                  cv=10)"
   ]
  },
  {
   "cell_type": "code",
   "execution_count": 54,
   "metadata": {
    "scrolled": true
   },
   "outputs": [
    {
     "name": "stderr",
     "output_type": "stream",
     "text": [
      "[Parallel(n_jobs=1)]: Using backend SequentialBackend with 1 concurrent workers.\n",
      "[Parallel(n_jobs=1)]: Done   1 out of   1 | elapsed:    0.4s finished\n",
      "[Parallel(n_jobs=1)]: Using backend SequentialBackend with 1 concurrent workers.\n",
      "[Parallel(n_jobs=1)]: Done   1 out of   1 | elapsed:    0.4s finished\n",
      "[Parallel(n_jobs=1)]: Using backend SequentialBackend with 1 concurrent workers.\n",
      "[Parallel(n_jobs=1)]: Done   1 out of   1 | elapsed:    0.4s finished\n",
      "[Parallel(n_jobs=1)]: Using backend SequentialBackend with 1 concurrent workers.\n",
      "[Parallel(n_jobs=1)]: Done   1 out of   1 | elapsed:    0.4s finished\n",
      "[Parallel(n_jobs=1)]: Using backend SequentialBackend with 1 concurrent workers.\n",
      "[Parallel(n_jobs=1)]: Done   1 out of   1 | elapsed:    0.4s finished\n",
      "[Parallel(n_jobs=1)]: Using backend SequentialBackend with 1 concurrent workers.\n",
      "[Parallel(n_jobs=1)]: Done   1 out of   1 | elapsed:    0.5s finished\n",
      "[Parallel(n_jobs=1)]: Using backend SequentialBackend with 1 concurrent workers.\n",
      "[Parallel(n_jobs=1)]: Done   1 out of   1 | elapsed:    0.5s finished\n",
      "[Parallel(n_jobs=1)]: Using backend SequentialBackend with 1 concurrent workers.\n",
      "[Parallel(n_jobs=1)]: Done   1 out of   1 | elapsed:    0.4s finished\n",
      "[Parallel(n_jobs=1)]: Using backend SequentialBackend with 1 concurrent workers.\n",
      "[Parallel(n_jobs=1)]: Done   1 out of   1 | elapsed:    0.5s finished\n",
      "[Parallel(n_jobs=1)]: Using backend SequentialBackend with 1 concurrent workers.\n",
      "[Parallel(n_jobs=1)]: Done   1 out of   1 | elapsed:    0.4s finished\n",
      "[Parallel(n_jobs=1)]: Using backend SequentialBackend with 1 concurrent workers.\n",
      "[Parallel(n_jobs=1)]: Done   1 out of   1 | elapsed:    0.7s finished\n",
      "[Parallel(n_jobs=1)]: Using backend SequentialBackend with 1 concurrent workers.\n",
      "[Parallel(n_jobs=1)]: Done   1 out of   1 | elapsed:    0.7s finished\n",
      "[Parallel(n_jobs=1)]: Using backend SequentialBackend with 1 concurrent workers.\n",
      "[Parallel(n_jobs=1)]: Done   1 out of   1 | elapsed:    0.7s finished\n",
      "[Parallel(n_jobs=1)]: Using backend SequentialBackend with 1 concurrent workers.\n",
      "[Parallel(n_jobs=1)]: Done   1 out of   1 | elapsed:    0.7s finished\n",
      "[Parallel(n_jobs=1)]: Using backend SequentialBackend with 1 concurrent workers.\n",
      "[Parallel(n_jobs=1)]: Done   1 out of   1 | elapsed:    0.7s finished\n",
      "[Parallel(n_jobs=1)]: Using backend SequentialBackend with 1 concurrent workers.\n",
      "[Parallel(n_jobs=1)]: Done   1 out of   1 | elapsed:    0.7s finished\n",
      "[Parallel(n_jobs=1)]: Using backend SequentialBackend with 1 concurrent workers.\n",
      "[Parallel(n_jobs=1)]: Done   1 out of   1 | elapsed:    0.7s finished\n",
      "[Parallel(n_jobs=1)]: Using backend SequentialBackend with 1 concurrent workers.\n",
      "[Parallel(n_jobs=1)]: Done   1 out of   1 | elapsed:    0.7s finished\n",
      "[Parallel(n_jobs=1)]: Using backend SequentialBackend with 1 concurrent workers.\n",
      "[Parallel(n_jobs=1)]: Done   1 out of   1 | elapsed:    0.7s finished\n",
      "[Parallel(n_jobs=1)]: Using backend SequentialBackend with 1 concurrent workers.\n",
      "[Parallel(n_jobs=1)]: Done   1 out of   1 | elapsed:    0.7s finished\n",
      "[Parallel(n_jobs=1)]: Using backend SequentialBackend with 1 concurrent workers.\n",
      "[Parallel(n_jobs=1)]: Done   1 out of   1 | elapsed:    0.4s finished\n",
      "[Parallel(n_jobs=1)]: Using backend SequentialBackend with 1 concurrent workers.\n",
      "[Parallel(n_jobs=1)]: Done   1 out of   1 | elapsed:    0.4s finished\n",
      "[Parallel(n_jobs=1)]: Using backend SequentialBackend with 1 concurrent workers.\n",
      "[Parallel(n_jobs=1)]: Done   1 out of   1 | elapsed:    0.4s finished\n",
      "[Parallel(n_jobs=1)]: Using backend SequentialBackend with 1 concurrent workers.\n",
      "[Parallel(n_jobs=1)]: Done   1 out of   1 | elapsed:    0.4s finished\n",
      "[Parallel(n_jobs=1)]: Using backend SequentialBackend with 1 concurrent workers.\n",
      "[Parallel(n_jobs=1)]: Done   1 out of   1 | elapsed:    0.4s finished\n",
      "[Parallel(n_jobs=1)]: Using backend SequentialBackend with 1 concurrent workers.\n",
      "[Parallel(n_jobs=1)]: Done   1 out of   1 | elapsed:    0.4s finished\n",
      "[Parallel(n_jobs=1)]: Using backend SequentialBackend with 1 concurrent workers.\n",
      "[Parallel(n_jobs=1)]: Done   1 out of   1 | elapsed:    0.4s finished\n",
      "[Parallel(n_jobs=1)]: Using backend SequentialBackend with 1 concurrent workers.\n",
      "[Parallel(n_jobs=1)]: Done   1 out of   1 | elapsed:    0.4s finished\n",
      "[Parallel(n_jobs=1)]: Using backend SequentialBackend with 1 concurrent workers.\n",
      "[Parallel(n_jobs=1)]: Done   1 out of   1 | elapsed:    0.4s finished\n",
      "[Parallel(n_jobs=1)]: Using backend SequentialBackend with 1 concurrent workers.\n",
      "[Parallel(n_jobs=1)]: Done   1 out of   1 | elapsed:    0.4s finished\n",
      "[Parallel(n_jobs=1)]: Using backend SequentialBackend with 1 concurrent workers.\n",
      "[Parallel(n_jobs=1)]: Done   1 out of   1 | elapsed:    0.7s finished\n",
      "[Parallel(n_jobs=1)]: Using backend SequentialBackend with 1 concurrent workers.\n",
      "[Parallel(n_jobs=1)]: Done   1 out of   1 | elapsed:    0.7s finished\n",
      "[Parallel(n_jobs=1)]: Using backend SequentialBackend with 1 concurrent workers.\n",
      "[Parallel(n_jobs=1)]: Done   1 out of   1 | elapsed:    0.7s finished\n",
      "[Parallel(n_jobs=1)]: Using backend SequentialBackend with 1 concurrent workers.\n",
      "[Parallel(n_jobs=1)]: Done   1 out of   1 | elapsed:    0.6s finished\n",
      "[Parallel(n_jobs=1)]: Using backend SequentialBackend with 1 concurrent workers.\n",
      "[Parallel(n_jobs=1)]: Done   1 out of   1 | elapsed:    0.7s finished\n",
      "[Parallel(n_jobs=1)]: Using backend SequentialBackend with 1 concurrent workers.\n",
      "[Parallel(n_jobs=1)]: Done   1 out of   1 | elapsed:    0.7s finished\n",
      "[Parallel(n_jobs=1)]: Using backend SequentialBackend with 1 concurrent workers.\n",
      "[Parallel(n_jobs=1)]: Done   1 out of   1 | elapsed:    0.7s finished\n",
      "[Parallel(n_jobs=1)]: Using backend SequentialBackend with 1 concurrent workers.\n",
      "[Parallel(n_jobs=1)]: Done   1 out of   1 | elapsed:    0.8s finished\n",
      "[Parallel(n_jobs=1)]: Using backend SequentialBackend with 1 concurrent workers.\n",
      "[Parallel(n_jobs=1)]: Done   1 out of   1 | elapsed:    0.8s finished\n",
      "[Parallel(n_jobs=1)]: Using backend SequentialBackend with 1 concurrent workers.\n",
      "[Parallel(n_jobs=1)]: Done   1 out of   1 | elapsed:    0.7s finished\n",
      "[Parallel(n_jobs=1)]: Using backend SequentialBackend with 1 concurrent workers.\n",
      "[Parallel(n_jobs=1)]: Done   1 out of   1 | elapsed:    0.5s finished\n",
      "[Parallel(n_jobs=1)]: Using backend SequentialBackend with 1 concurrent workers.\n",
      "[Parallel(n_jobs=1)]: Done   1 out of   1 | elapsed:    0.5s finished\n",
      "[Parallel(n_jobs=1)]: Using backend SequentialBackend with 1 concurrent workers.\n",
      "[Parallel(n_jobs=1)]: Done   1 out of   1 | elapsed:    0.5s finished\n",
      "[Parallel(n_jobs=1)]: Using backend SequentialBackend with 1 concurrent workers.\n",
      "[Parallel(n_jobs=1)]: Done   1 out of   1 | elapsed:    0.5s finished\n",
      "[Parallel(n_jobs=1)]: Using backend SequentialBackend with 1 concurrent workers.\n",
      "[Parallel(n_jobs=1)]: Done   1 out of   1 | elapsed:    0.5s finished\n",
      "[Parallel(n_jobs=1)]: Using backend SequentialBackend with 1 concurrent workers.\n",
      "[Parallel(n_jobs=1)]: Done   1 out of   1 | elapsed:    0.5s finished\n",
      "[Parallel(n_jobs=1)]: Using backend SequentialBackend with 1 concurrent workers.\n",
      "[Parallel(n_jobs=1)]: Done   1 out of   1 | elapsed:    0.4s finished\n",
      "[Parallel(n_jobs=1)]: Using backend SequentialBackend with 1 concurrent workers.\n",
      "[Parallel(n_jobs=1)]: Done   1 out of   1 | elapsed:    0.4s finished\n",
      "[Parallel(n_jobs=1)]: Using backend SequentialBackend with 1 concurrent workers.\n",
      "[Parallel(n_jobs=1)]: Done   1 out of   1 | elapsed:    0.5s finished\n",
      "[Parallel(n_jobs=1)]: Using backend SequentialBackend with 1 concurrent workers.\n",
      "[Parallel(n_jobs=1)]: Done   1 out of   1 | elapsed:    0.4s finished\n",
      "[Parallel(n_jobs=1)]: Using backend SequentialBackend with 1 concurrent workers.\n",
      "[Parallel(n_jobs=1)]: Done   1 out of   1 | elapsed:    0.7s finished\n",
      "[Parallel(n_jobs=1)]: Using backend SequentialBackend with 1 concurrent workers.\n",
      "[Parallel(n_jobs=1)]: Done   1 out of   1 | elapsed:    0.8s finished\n",
      "[Parallel(n_jobs=1)]: Using backend SequentialBackend with 1 concurrent workers.\n",
      "[Parallel(n_jobs=1)]: Done   1 out of   1 | elapsed:    0.8s finished\n",
      "[Parallel(n_jobs=1)]: Using backend SequentialBackend with 1 concurrent workers.\n",
      "[Parallel(n_jobs=1)]: Done   1 out of   1 | elapsed:    0.7s finished\n",
      "[Parallel(n_jobs=1)]: Using backend SequentialBackend with 1 concurrent workers.\n"
     ]
    },
    {
     "name": "stderr",
     "output_type": "stream",
     "text": [
      "[Parallel(n_jobs=1)]: Done   1 out of   1 | elapsed:    0.8s finished\n",
      "[Parallel(n_jobs=1)]: Using backend SequentialBackend with 1 concurrent workers.\n",
      "[Parallel(n_jobs=1)]: Done   1 out of   1 | elapsed:    0.9s finished\n",
      "[Parallel(n_jobs=1)]: Using backend SequentialBackend with 1 concurrent workers.\n",
      "[Parallel(n_jobs=1)]: Done   1 out of   1 | elapsed:    0.9s finished\n",
      "[Parallel(n_jobs=1)]: Using backend SequentialBackend with 1 concurrent workers.\n",
      "[Parallel(n_jobs=1)]: Done   1 out of   1 | elapsed:    0.8s finished\n",
      "[Parallel(n_jobs=1)]: Using backend SequentialBackend with 1 concurrent workers.\n",
      "[Parallel(n_jobs=1)]: Done   1 out of   1 | elapsed:    0.8s finished\n",
      "[Parallel(n_jobs=1)]: Using backend SequentialBackend with 1 concurrent workers.\n",
      "[Parallel(n_jobs=1)]: Done   1 out of   1 | elapsed:    0.9s finished\n",
      "[Parallel(n_jobs=1)]: Using backend SequentialBackend with 1 concurrent workers.\n",
      "[Parallel(n_jobs=1)]: Done   1 out of   1 | elapsed:    0.6s finished\n",
      "[Parallel(n_jobs=1)]: Using backend SequentialBackend with 1 concurrent workers.\n",
      "[Parallel(n_jobs=1)]: Done   1 out of   1 | elapsed:    0.6s finished\n",
      "[Parallel(n_jobs=1)]: Using backend SequentialBackend with 1 concurrent workers.\n",
      "[Parallel(n_jobs=1)]: Done   1 out of   1 | elapsed:    0.5s finished\n",
      "[Parallel(n_jobs=1)]: Using backend SequentialBackend with 1 concurrent workers.\n",
      "[Parallel(n_jobs=1)]: Done   1 out of   1 | elapsed:    0.5s finished\n",
      "[Parallel(n_jobs=1)]: Using backend SequentialBackend with 1 concurrent workers.\n",
      "[Parallel(n_jobs=1)]: Done   1 out of   1 | elapsed:    0.5s finished\n",
      "[Parallel(n_jobs=1)]: Using backend SequentialBackend with 1 concurrent workers.\n",
      "[Parallel(n_jobs=1)]: Done   1 out of   1 | elapsed:    0.6s finished\n",
      "[Parallel(n_jobs=1)]: Using backend SequentialBackend with 1 concurrent workers.\n",
      "[Parallel(n_jobs=1)]: Done   1 out of   1 | elapsed:    0.5s finished\n",
      "[Parallel(n_jobs=1)]: Using backend SequentialBackend with 1 concurrent workers.\n",
      "[Parallel(n_jobs=1)]: Done   1 out of   1 | elapsed:    0.5s finished\n",
      "[Parallel(n_jobs=1)]: Using backend SequentialBackend with 1 concurrent workers.\n",
      "[Parallel(n_jobs=1)]: Done   1 out of   1 | elapsed:    0.5s finished\n",
      "[Parallel(n_jobs=1)]: Using backend SequentialBackend with 1 concurrent workers.\n",
      "[Parallel(n_jobs=1)]: Done   1 out of   1 | elapsed:    0.5s finished\n",
      "[Parallel(n_jobs=1)]: Using backend SequentialBackend with 1 concurrent workers.\n",
      "[Parallel(n_jobs=1)]: Done   1 out of   1 | elapsed:    0.8s finished\n",
      "[Parallel(n_jobs=1)]: Using backend SequentialBackend with 1 concurrent workers.\n",
      "[Parallel(n_jobs=1)]: Done   1 out of   1 | elapsed:    0.7s finished\n",
      "[Parallel(n_jobs=1)]: Using backend SequentialBackend with 1 concurrent workers.\n",
      "[Parallel(n_jobs=1)]: Done   1 out of   1 | elapsed:    0.7s finished\n",
      "[Parallel(n_jobs=1)]: Using backend SequentialBackend with 1 concurrent workers.\n",
      "[Parallel(n_jobs=1)]: Done   1 out of   1 | elapsed:    0.8s finished\n",
      "[Parallel(n_jobs=1)]: Using backend SequentialBackend with 1 concurrent workers.\n",
      "[Parallel(n_jobs=1)]: Done   1 out of   1 | elapsed:    0.6s finished\n",
      "[Parallel(n_jobs=1)]: Using backend SequentialBackend with 1 concurrent workers.\n",
      "[Parallel(n_jobs=1)]: Done   1 out of   1 | elapsed:    0.8s finished\n",
      "[Parallel(n_jobs=1)]: Using backend SequentialBackend with 1 concurrent workers.\n",
      "[Parallel(n_jobs=1)]: Done   1 out of   1 | elapsed:    0.8s finished\n",
      "[Parallel(n_jobs=1)]: Using backend SequentialBackend with 1 concurrent workers.\n",
      "[Parallel(n_jobs=1)]: Done   1 out of   1 | elapsed:    0.7s finished\n",
      "[Parallel(n_jobs=1)]: Using backend SequentialBackend with 1 concurrent workers.\n",
      "[Parallel(n_jobs=1)]: Done   1 out of   1 | elapsed:    0.7s finished\n",
      "[Parallel(n_jobs=1)]: Using backend SequentialBackend with 1 concurrent workers.\n",
      "[Parallel(n_jobs=1)]: Done   1 out of   1 | elapsed:    0.7s finished\n",
      "[Parallel(n_jobs=1)]: Using backend SequentialBackend with 1 concurrent workers.\n",
      "[Parallel(n_jobs=1)]: Done   1 out of   1 | elapsed:    0.7s finished\n",
      "[Parallel(n_jobs=1)]: Using backend SequentialBackend with 1 concurrent workers.\n",
      "[Parallel(n_jobs=1)]: Done   1 out of   1 | elapsed:    0.5s finished\n",
      "[Parallel(n_jobs=1)]: Using backend SequentialBackend with 1 concurrent workers.\n",
      "[Parallel(n_jobs=1)]: Done   1 out of   1 | elapsed:    0.5s finished\n",
      "[Parallel(n_jobs=1)]: Using backend SequentialBackend with 1 concurrent workers.\n",
      "[Parallel(n_jobs=1)]: Done   1 out of   1 | elapsed:    0.5s finished\n",
      "[Parallel(n_jobs=1)]: Using backend SequentialBackend with 1 concurrent workers.\n",
      "[Parallel(n_jobs=1)]: Done   1 out of   1 | elapsed:    0.5s finished\n",
      "[Parallel(n_jobs=1)]: Using backend SequentialBackend with 1 concurrent workers.\n",
      "[Parallel(n_jobs=1)]: Done   1 out of   1 | elapsed:    0.5s finished\n",
      "[Parallel(n_jobs=1)]: Using backend SequentialBackend with 1 concurrent workers.\n",
      "[Parallel(n_jobs=1)]: Done   1 out of   1 | elapsed:    0.5s finished\n",
      "[Parallel(n_jobs=1)]: Using backend SequentialBackend with 1 concurrent workers.\n",
      "[Parallel(n_jobs=1)]: Done   1 out of   1 | elapsed:    0.5s finished\n",
      "[Parallel(n_jobs=1)]: Using backend SequentialBackend with 1 concurrent workers.\n",
      "[Parallel(n_jobs=1)]: Done   1 out of   1 | elapsed:    0.5s finished\n",
      "[Parallel(n_jobs=1)]: Using backend SequentialBackend with 1 concurrent workers.\n",
      "[Parallel(n_jobs=1)]: Done   1 out of   1 | elapsed:    0.5s finished\n",
      "[Parallel(n_jobs=1)]: Using backend SequentialBackend with 1 concurrent workers.\n",
      "[Parallel(n_jobs=1)]: Done   1 out of   1 | elapsed:    0.9s finished\n",
      "[Parallel(n_jobs=1)]: Using backend SequentialBackend with 1 concurrent workers.\n",
      "[Parallel(n_jobs=1)]: Done   1 out of   1 | elapsed:    0.7s finished\n",
      "[Parallel(n_jobs=1)]: Using backend SequentialBackend with 1 concurrent workers.\n",
      "[Parallel(n_jobs=1)]: Done   1 out of   1 | elapsed:    0.8s finished\n",
      "[Parallel(n_jobs=1)]: Using backend SequentialBackend with 1 concurrent workers.\n",
      "[Parallel(n_jobs=1)]: Done   1 out of   1 | elapsed:    0.7s finished\n",
      "[Parallel(n_jobs=1)]: Using backend SequentialBackend with 1 concurrent workers.\n",
      "[Parallel(n_jobs=1)]: Done   1 out of   1 | elapsed:    0.8s finished\n",
      "[Parallel(n_jobs=1)]: Using backend SequentialBackend with 1 concurrent workers.\n",
      "[Parallel(n_jobs=1)]: Done   1 out of   1 | elapsed:    0.8s finished\n",
      "[Parallel(n_jobs=1)]: Using backend SequentialBackend with 1 concurrent workers.\n",
      "[Parallel(n_jobs=1)]: Done   1 out of   1 | elapsed:    0.8s finished\n",
      "[Parallel(n_jobs=1)]: Using backend SequentialBackend with 1 concurrent workers.\n",
      "[Parallel(n_jobs=1)]: Done   1 out of   1 | elapsed:    0.8s finished\n",
      "[Parallel(n_jobs=1)]: Using backend SequentialBackend with 1 concurrent workers.\n",
      "[Parallel(n_jobs=1)]: Done   1 out of   1 | elapsed:    0.8s finished\n",
      "[Parallel(n_jobs=1)]: Using backend SequentialBackend with 1 concurrent workers.\n",
      "[Parallel(n_jobs=1)]: Done   1 out of   1 | elapsed:    0.8s finished\n",
      "[Parallel(n_jobs=1)]: Using backend SequentialBackend with 1 concurrent workers.\n",
      "[Parallel(n_jobs=1)]: Done   1 out of   1 | elapsed:    0.5s finished\n",
      "[Parallel(n_jobs=1)]: Using backend SequentialBackend with 1 concurrent workers.\n",
      "[Parallel(n_jobs=1)]: Done   1 out of   1 | elapsed:    0.5s finished\n",
      "[Parallel(n_jobs=1)]: Using backend SequentialBackend with 1 concurrent workers.\n",
      "[Parallel(n_jobs=1)]: Done   1 out of   1 | elapsed:    0.4s finished\n",
      "[Parallel(n_jobs=1)]: Using backend SequentialBackend with 1 concurrent workers.\n",
      "[Parallel(n_jobs=1)]: Done   1 out of   1 | elapsed:    0.5s finished\n",
      "[Parallel(n_jobs=1)]: Using backend SequentialBackend with 1 concurrent workers.\n",
      "[Parallel(n_jobs=1)]: Done   1 out of   1 | elapsed:    0.4s finished\n",
      "[Parallel(n_jobs=1)]: Using backend SequentialBackend with 1 concurrent workers.\n",
      "[Parallel(n_jobs=1)]: Done   1 out of   1 | elapsed:    0.5s finished\n",
      "[Parallel(n_jobs=1)]: Using backend SequentialBackend with 1 concurrent workers.\n",
      "[Parallel(n_jobs=1)]: Done   1 out of   1 | elapsed:    0.4s finished\n",
      "[Parallel(n_jobs=1)]: Using backend SequentialBackend with 1 concurrent workers.\n",
      "[Parallel(n_jobs=1)]: Done   1 out of   1 | elapsed:    0.5s finished\n",
      "[Parallel(n_jobs=1)]: Using backend SequentialBackend with 1 concurrent workers.\n",
      "[Parallel(n_jobs=1)]: Done   1 out of   1 | elapsed:    0.4s finished\n"
     ]
    },
    {
     "name": "stderr",
     "output_type": "stream",
     "text": [
      "[Parallel(n_jobs=1)]: Using backend SequentialBackend with 1 concurrent workers.\n",
      "[Parallel(n_jobs=1)]: Done   1 out of   1 | elapsed:    0.5s finished\n",
      "[Parallel(n_jobs=1)]: Using backend SequentialBackend with 1 concurrent workers.\n",
      "[Parallel(n_jobs=1)]: Done   1 out of   1 | elapsed:    0.7s finished\n",
      "[Parallel(n_jobs=1)]: Using backend SequentialBackend with 1 concurrent workers.\n",
      "[Parallel(n_jobs=1)]: Done   1 out of   1 | elapsed:    0.8s finished\n",
      "[Parallel(n_jobs=1)]: Using backend SequentialBackend with 1 concurrent workers.\n",
      "[Parallel(n_jobs=1)]: Done   1 out of   1 | elapsed:    0.9s finished\n",
      "[Parallel(n_jobs=1)]: Using backend SequentialBackend with 1 concurrent workers.\n",
      "[Parallel(n_jobs=1)]: Done   1 out of   1 | elapsed:    0.8s finished\n",
      "[Parallel(n_jobs=1)]: Using backend SequentialBackend with 1 concurrent workers.\n",
      "[Parallel(n_jobs=1)]: Done   1 out of   1 | elapsed:    1.0s finished\n",
      "[Parallel(n_jobs=1)]: Using backend SequentialBackend with 1 concurrent workers.\n",
      "[Parallel(n_jobs=1)]: Done   1 out of   1 | elapsed:    1.3s finished\n",
      "[Parallel(n_jobs=1)]: Using backend SequentialBackend with 1 concurrent workers.\n",
      "[Parallel(n_jobs=1)]: Done   1 out of   1 | elapsed:    1.0s finished\n",
      "[Parallel(n_jobs=1)]: Using backend SequentialBackend with 1 concurrent workers.\n",
      "[Parallel(n_jobs=1)]: Done   1 out of   1 | elapsed:    0.9s finished\n",
      "[Parallel(n_jobs=1)]: Using backend SequentialBackend with 1 concurrent workers.\n",
      "[Parallel(n_jobs=1)]: Done   1 out of   1 | elapsed:    0.9s finished\n",
      "[Parallel(n_jobs=1)]: Using backend SequentialBackend with 1 concurrent workers.\n",
      "[Parallel(n_jobs=1)]: Done   1 out of   1 | elapsed:    1.0s finished\n",
      "[Parallel(n_jobs=1)]: Using backend SequentialBackend with 1 concurrent workers.\n",
      "[Parallel(n_jobs=1)]: Done   1 out of   1 | elapsed:    0.6s finished\n",
      "[Parallel(n_jobs=1)]: Using backend SequentialBackend with 1 concurrent workers.\n",
      "[Parallel(n_jobs=1)]: Done   1 out of   1 | elapsed:    0.6s finished\n",
      "[Parallel(n_jobs=1)]: Using backend SequentialBackend with 1 concurrent workers.\n",
      "[Parallel(n_jobs=1)]: Done   1 out of   1 | elapsed:    1.1s finished\n",
      "[Parallel(n_jobs=1)]: Using backend SequentialBackend with 1 concurrent workers.\n",
      "[Parallel(n_jobs=1)]: Done   1 out of   1 | elapsed:    1.1s finished\n",
      "[Parallel(n_jobs=1)]: Using backend SequentialBackend with 1 concurrent workers.\n",
      "[Parallel(n_jobs=1)]: Done   1 out of   1 | elapsed:    1.3s finished\n",
      "[Parallel(n_jobs=1)]: Using backend SequentialBackend with 1 concurrent workers.\n",
      "[Parallel(n_jobs=1)]: Done   1 out of   1 | elapsed:    1.0s finished\n",
      "[Parallel(n_jobs=1)]: Using backend SequentialBackend with 1 concurrent workers.\n",
      "[Parallel(n_jobs=1)]: Done   1 out of   1 | elapsed:    0.6s finished\n",
      "[Parallel(n_jobs=1)]: Using backend SequentialBackend with 1 concurrent workers.\n",
      "[Parallel(n_jobs=1)]: Done   1 out of   1 | elapsed:    0.6s finished\n",
      "[Parallel(n_jobs=1)]: Using backend SequentialBackend with 1 concurrent workers.\n",
      "[Parallel(n_jobs=1)]: Done   1 out of   1 | elapsed:    0.6s finished\n",
      "[Parallel(n_jobs=1)]: Using backend SequentialBackend with 1 concurrent workers.\n",
      "[Parallel(n_jobs=1)]: Done   1 out of   1 | elapsed:    0.7s finished\n",
      "[Parallel(n_jobs=1)]: Using backend SequentialBackend with 1 concurrent workers.\n",
      "[Parallel(n_jobs=1)]: Done   1 out of   1 | elapsed:    1.2s finished\n",
      "[Parallel(n_jobs=1)]: Using backend SequentialBackend with 1 concurrent workers.\n",
      "[Parallel(n_jobs=1)]: Done   1 out of   1 | elapsed:    1.1s finished\n",
      "[Parallel(n_jobs=1)]: Using backend SequentialBackend with 1 concurrent workers.\n",
      "[Parallel(n_jobs=1)]: Done   1 out of   1 | elapsed:    1.4s finished\n",
      "[Parallel(n_jobs=1)]: Using backend SequentialBackend with 1 concurrent workers.\n",
      "[Parallel(n_jobs=1)]: Done   1 out of   1 | elapsed:    1.4s finished\n",
      "[Parallel(n_jobs=1)]: Using backend SequentialBackend with 1 concurrent workers.\n",
      "[Parallel(n_jobs=1)]: Done   1 out of   1 | elapsed:    1.3s finished\n",
      "[Parallel(n_jobs=1)]: Using backend SequentialBackend with 1 concurrent workers.\n",
      "[Parallel(n_jobs=1)]: Done   1 out of   1 | elapsed:    1.3s finished\n",
      "[Parallel(n_jobs=1)]: Using backend SequentialBackend with 1 concurrent workers.\n",
      "[Parallel(n_jobs=1)]: Done   1 out of   1 | elapsed:    1.2s finished\n",
      "[Parallel(n_jobs=1)]: Using backend SequentialBackend with 1 concurrent workers.\n",
      "[Parallel(n_jobs=1)]: Done   1 out of   1 | elapsed:    1.1s finished\n",
      "[Parallel(n_jobs=1)]: Using backend SequentialBackend with 1 concurrent workers.\n",
      "[Parallel(n_jobs=1)]: Done   1 out of   1 | elapsed:    1.1s finished\n",
      "[Parallel(n_jobs=1)]: Using backend SequentialBackend with 1 concurrent workers.\n",
      "[Parallel(n_jobs=1)]: Done   1 out of   1 | elapsed:    1.3s finished\n",
      "[Parallel(n_jobs=1)]: Using backend SequentialBackend with 1 concurrent workers.\n",
      "[Parallel(n_jobs=1)]: Done   1 out of   1 | elapsed:    0.7s finished\n",
      "[Parallel(n_jobs=1)]: Using backend SequentialBackend with 1 concurrent workers.\n",
      "[Parallel(n_jobs=1)]: Done   1 out of   1 | elapsed:    0.6s finished\n",
      "[Parallel(n_jobs=1)]: Using backend SequentialBackend with 1 concurrent workers.\n",
      "[Parallel(n_jobs=1)]: Done   1 out of   1 | elapsed:    0.7s finished\n",
      "[Parallel(n_jobs=1)]: Using backend SequentialBackend with 1 concurrent workers.\n",
      "[Parallel(n_jobs=1)]: Done   1 out of   1 | elapsed:    0.6s finished\n",
      "[Parallel(n_jobs=1)]: Using backend SequentialBackend with 1 concurrent workers.\n",
      "[Parallel(n_jobs=1)]: Done   1 out of   1 | elapsed:    0.6s finished\n",
      "[Parallel(n_jobs=1)]: Using backend SequentialBackend with 1 concurrent workers.\n",
      "[Parallel(n_jobs=1)]: Done   1 out of   1 | elapsed:    0.6s finished\n",
      "[Parallel(n_jobs=1)]: Using backend SequentialBackend with 1 concurrent workers.\n",
      "[Parallel(n_jobs=1)]: Done   1 out of   1 | elapsed:    0.5s finished\n",
      "[Parallel(n_jobs=1)]: Using backend SequentialBackend with 1 concurrent workers.\n",
      "[Parallel(n_jobs=1)]: Done   1 out of   1 | elapsed:    0.7s finished\n",
      "[Parallel(n_jobs=1)]: Using backend SequentialBackend with 1 concurrent workers.\n",
      "[Parallel(n_jobs=1)]: Done   1 out of   1 | elapsed:    0.7s finished\n",
      "[Parallel(n_jobs=1)]: Using backend SequentialBackend with 1 concurrent workers.\n",
      "[Parallel(n_jobs=1)]: Done   1 out of   1 | elapsed:    0.5s finished\n",
      "[Parallel(n_jobs=1)]: Using backend SequentialBackend with 1 concurrent workers.\n",
      "[Parallel(n_jobs=1)]: Done   1 out of   1 | elapsed:    1.3s finished\n",
      "[Parallel(n_jobs=1)]: Using backend SequentialBackend with 1 concurrent workers.\n",
      "[Parallel(n_jobs=1)]: Done   1 out of   1 | elapsed:    1.0s finished\n",
      "[Parallel(n_jobs=1)]: Using backend SequentialBackend with 1 concurrent workers.\n",
      "[Parallel(n_jobs=1)]: Done   1 out of   1 | elapsed:    1.2s finished\n",
      "[Parallel(n_jobs=1)]: Using backend SequentialBackend with 1 concurrent workers.\n",
      "[Parallel(n_jobs=1)]: Done   1 out of   1 | elapsed:    1.0s finished\n",
      "[Parallel(n_jobs=1)]: Using backend SequentialBackend with 1 concurrent workers.\n",
      "[Parallel(n_jobs=1)]: Done   1 out of   1 | elapsed:    1.1s finished\n",
      "[Parallel(n_jobs=1)]: Using backend SequentialBackend with 1 concurrent workers.\n",
      "[Parallel(n_jobs=1)]: Done   1 out of   1 | elapsed:    1.4s finished\n",
      "[Parallel(n_jobs=1)]: Using backend SequentialBackend with 1 concurrent workers.\n",
      "[Parallel(n_jobs=1)]: Done   1 out of   1 | elapsed:    1.0s finished\n",
      "[Parallel(n_jobs=1)]: Using backend SequentialBackend with 1 concurrent workers.\n",
      "[Parallel(n_jobs=1)]: Done   1 out of   1 | elapsed:    1.0s finished\n",
      "[Parallel(n_jobs=1)]: Using backend SequentialBackend with 1 concurrent workers.\n",
      "[Parallel(n_jobs=1)]: Done   1 out of   1 | elapsed:    0.8s finished\n",
      "[Parallel(n_jobs=1)]: Using backend SequentialBackend with 1 concurrent workers.\n",
      "[Parallel(n_jobs=1)]: Done   1 out of   1 | elapsed:    1.0s finished\n",
      "[Parallel(n_jobs=1)]: Using backend SequentialBackend with 1 concurrent workers.\n",
      "[Parallel(n_jobs=1)]: Done   1 out of   1 | elapsed:    0.6s finished\n",
      "[Parallel(n_jobs=1)]: Using backend SequentialBackend with 1 concurrent workers.\n",
      "[Parallel(n_jobs=1)]: Done   1 out of   1 | elapsed:    0.7s finished\n",
      "[Parallel(n_jobs=1)]: Using backend SequentialBackend with 1 concurrent workers.\n",
      "[Parallel(n_jobs=1)]: Done   1 out of   1 | elapsed:    0.6s finished\n",
      "[Parallel(n_jobs=1)]: Using backend SequentialBackend with 1 concurrent workers.\n"
     ]
    },
    {
     "name": "stderr",
     "output_type": "stream",
     "text": [
      "[Parallel(n_jobs=1)]: Done   1 out of   1 | elapsed:    0.5s finished\n",
      "[Parallel(n_jobs=1)]: Using backend SequentialBackend with 1 concurrent workers.\n",
      "[Parallel(n_jobs=1)]: Done   1 out of   1 | elapsed:    0.6s finished\n",
      "[Parallel(n_jobs=1)]: Using backend SequentialBackend with 1 concurrent workers.\n",
      "[Parallel(n_jobs=1)]: Done   1 out of   1 | elapsed:    0.9s finished\n",
      "[Parallel(n_jobs=1)]: Using backend SequentialBackend with 1 concurrent workers.\n",
      "[Parallel(n_jobs=1)]: Done   1 out of   1 | elapsed:    1.3s finished\n",
      "[Parallel(n_jobs=1)]: Using backend SequentialBackend with 1 concurrent workers.\n",
      "[Parallel(n_jobs=1)]: Done   1 out of   1 | elapsed:    0.8s finished\n",
      "[Parallel(n_jobs=1)]: Using backend SequentialBackend with 1 concurrent workers.\n",
      "[Parallel(n_jobs=1)]: Done   1 out of   1 | elapsed:    1.5s finished\n",
      "[Parallel(n_jobs=1)]: Using backend SequentialBackend with 1 concurrent workers.\n",
      "[Parallel(n_jobs=1)]: Done   1 out of   1 | elapsed:    0.7s finished\n",
      "[Parallel(n_jobs=1)]: Using backend SequentialBackend with 1 concurrent workers.\n",
      "[Parallel(n_jobs=1)]: Done   1 out of   1 | elapsed:    1.6s finished\n",
      "[Parallel(n_jobs=1)]: Using backend SequentialBackend with 1 concurrent workers.\n",
      "[Parallel(n_jobs=1)]: Done   1 out of   1 | elapsed:    1.6s finished\n",
      "[Parallel(n_jobs=1)]: Using backend SequentialBackend with 1 concurrent workers.\n",
      "[Parallel(n_jobs=1)]: Done   1 out of   1 | elapsed:    1.4s finished\n",
      "[Parallel(n_jobs=1)]: Using backend SequentialBackend with 1 concurrent workers.\n",
      "[Parallel(n_jobs=1)]: Done   1 out of   1 | elapsed:    1.8s finished\n",
      "[Parallel(n_jobs=1)]: Using backend SequentialBackend with 1 concurrent workers.\n",
      "[Parallel(n_jobs=1)]: Done   1 out of   1 | elapsed:    1.5s finished\n",
      "[Parallel(n_jobs=1)]: Using backend SequentialBackend with 1 concurrent workers.\n",
      "[Parallel(n_jobs=1)]: Done   1 out of   1 | elapsed:    1.5s finished\n",
      "[Parallel(n_jobs=1)]: Using backend SequentialBackend with 1 concurrent workers.\n",
      "[Parallel(n_jobs=1)]: Done   1 out of   1 | elapsed:    1.2s finished\n",
      "[Parallel(n_jobs=1)]: Using backend SequentialBackend with 1 concurrent workers.\n",
      "[Parallel(n_jobs=1)]: Done   1 out of   1 | elapsed:    1.6s finished\n",
      "[Parallel(n_jobs=1)]: Using backend SequentialBackend with 1 concurrent workers.\n",
      "[Parallel(n_jobs=1)]: Done   1 out of   1 | elapsed:    1.4s finished\n",
      "[Parallel(n_jobs=1)]: Using backend SequentialBackend with 1 concurrent workers.\n",
      "[Parallel(n_jobs=1)]: Done   1 out of   1 | elapsed:    1.9s finished\n",
      "[Parallel(n_jobs=1)]: Using backend SequentialBackend with 1 concurrent workers.\n",
      "[Parallel(n_jobs=1)]: Done   1 out of   1 | elapsed:    0.6s finished\n",
      "[Parallel(n_jobs=1)]: Using backend SequentialBackend with 1 concurrent workers.\n",
      "[Parallel(n_jobs=1)]: Done   1 out of   1 | elapsed:    0.5s finished\n",
      "[Parallel(n_jobs=1)]: Using backend SequentialBackend with 1 concurrent workers.\n",
      "[Parallel(n_jobs=1)]: Done   1 out of   1 | elapsed:    0.5s finished\n",
      "[Parallel(n_jobs=1)]: Using backend SequentialBackend with 1 concurrent workers.\n",
      "[Parallel(n_jobs=1)]: Done   1 out of   1 | elapsed:    0.5s finished\n",
      "[Parallel(n_jobs=1)]: Using backend SequentialBackend with 1 concurrent workers.\n",
      "[Parallel(n_jobs=1)]: Done   1 out of   1 | elapsed:    0.5s finished\n",
      "[Parallel(n_jobs=1)]: Using backend SequentialBackend with 1 concurrent workers.\n",
      "[Parallel(n_jobs=1)]: Done   1 out of   1 | elapsed:    0.5s finished\n",
      "[Parallel(n_jobs=1)]: Using backend SequentialBackend with 1 concurrent workers.\n",
      "[Parallel(n_jobs=1)]: Done   1 out of   1 | elapsed:    0.4s finished\n",
      "[Parallel(n_jobs=1)]: Using backend SequentialBackend with 1 concurrent workers.\n",
      "[Parallel(n_jobs=1)]: Done   1 out of   1 | elapsed:    0.5s finished\n",
      "[Parallel(n_jobs=1)]: Using backend SequentialBackend with 1 concurrent workers.\n",
      "[Parallel(n_jobs=1)]: Done   1 out of   1 | elapsed:    0.7s finished\n",
      "[Parallel(n_jobs=1)]: Using backend SequentialBackend with 1 concurrent workers.\n",
      "[Parallel(n_jobs=1)]: Done   1 out of   1 | elapsed:    0.5s finished\n",
      "[Parallel(n_jobs=1)]: Using backend SequentialBackend with 1 concurrent workers.\n",
      "[Parallel(n_jobs=1)]: Done   1 out of   1 | elapsed:    1.4s finished\n",
      "[Parallel(n_jobs=1)]: Using backend SequentialBackend with 1 concurrent workers.\n",
      "[Parallel(n_jobs=1)]: Done   1 out of   1 | elapsed:    1.3s finished\n",
      "[Parallel(n_jobs=1)]: Using backend SequentialBackend with 1 concurrent workers.\n",
      "[Parallel(n_jobs=1)]: Done   1 out of   1 | elapsed:    1.5s finished\n",
      "[Parallel(n_jobs=1)]: Using backend SequentialBackend with 1 concurrent workers.\n",
      "[Parallel(n_jobs=1)]: Done   1 out of   1 | elapsed:    1.4s finished\n",
      "[Parallel(n_jobs=1)]: Using backend SequentialBackend with 1 concurrent workers.\n",
      "[Parallel(n_jobs=1)]: Done   1 out of   1 | elapsed:    1.3s finished\n",
      "[Parallel(n_jobs=1)]: Using backend SequentialBackend with 1 concurrent workers.\n",
      "[Parallel(n_jobs=1)]: Done   1 out of   1 | elapsed:    1.5s finished\n",
      "[Parallel(n_jobs=1)]: Using backend SequentialBackend with 1 concurrent workers.\n",
      "[Parallel(n_jobs=1)]: Done   1 out of   1 | elapsed:    1.3s finished\n",
      "[Parallel(n_jobs=1)]: Using backend SequentialBackend with 1 concurrent workers.\n",
      "[Parallel(n_jobs=1)]: Done   1 out of   1 | elapsed:    1.2s finished\n",
      "[Parallel(n_jobs=1)]: Using backend SequentialBackend with 1 concurrent workers.\n",
      "[Parallel(n_jobs=1)]: Done   1 out of   1 | elapsed:    1.3s finished\n",
      "[Parallel(n_jobs=1)]: Using backend SequentialBackend with 1 concurrent workers.\n",
      "[Parallel(n_jobs=1)]: Done   1 out of   1 | elapsed:    1.3s finished\n",
      "[Parallel(n_jobs=1)]: Using backend SequentialBackend with 1 concurrent workers.\n",
      "[Parallel(n_jobs=1)]: Done   1 out of   1 | elapsed:    0.5s finished\n",
      "[Parallel(n_jobs=1)]: Using backend SequentialBackend with 1 concurrent workers.\n",
      "[Parallel(n_jobs=1)]: Done   1 out of   1 | elapsed:    0.5s finished\n",
      "[Parallel(n_jobs=1)]: Using backend SequentialBackend with 1 concurrent workers.\n",
      "[Parallel(n_jobs=1)]: Done   1 out of   1 | elapsed:    0.4s finished\n",
      "[Parallel(n_jobs=1)]: Using backend SequentialBackend with 1 concurrent workers.\n",
      "[Parallel(n_jobs=1)]: Done   1 out of   1 | elapsed:    0.4s finished\n",
      "[Parallel(n_jobs=1)]: Using backend SequentialBackend with 1 concurrent workers.\n",
      "[Parallel(n_jobs=1)]: Done   1 out of   1 | elapsed:    0.5s finished\n",
      "[Parallel(n_jobs=1)]: Using backend SequentialBackend with 1 concurrent workers.\n",
      "[Parallel(n_jobs=1)]: Done   1 out of   1 | elapsed:    0.4s finished\n",
      "[Parallel(n_jobs=1)]: Using backend SequentialBackend with 1 concurrent workers.\n",
      "[Parallel(n_jobs=1)]: Done   1 out of   1 | elapsed:    0.4s finished\n",
      "[Parallel(n_jobs=1)]: Using backend SequentialBackend with 1 concurrent workers.\n",
      "[Parallel(n_jobs=1)]: Done   1 out of   1 | elapsed:    0.4s finished\n",
      "[Parallel(n_jobs=1)]: Using backend SequentialBackend with 1 concurrent workers.\n",
      "[Parallel(n_jobs=1)]: Done   1 out of   1 | elapsed:    0.4s finished\n",
      "[Parallel(n_jobs=1)]: Using backend SequentialBackend with 1 concurrent workers.\n",
      "[Parallel(n_jobs=1)]: Done   1 out of   1 | elapsed:    0.4s finished\n",
      "[Parallel(n_jobs=1)]: Using backend SequentialBackend with 1 concurrent workers.\n",
      "[Parallel(n_jobs=1)]: Done   1 out of   1 | elapsed:    0.8s finished\n",
      "[Parallel(n_jobs=1)]: Using backend SequentialBackend with 1 concurrent workers.\n",
      "[Parallel(n_jobs=1)]: Done   1 out of   1 | elapsed:    0.7s finished\n",
      "[Parallel(n_jobs=1)]: Using backend SequentialBackend with 1 concurrent workers.\n",
      "[Parallel(n_jobs=1)]: Done   1 out of   1 | elapsed:    0.7s finished\n",
      "[Parallel(n_jobs=1)]: Using backend SequentialBackend with 1 concurrent workers.\n",
      "[Parallel(n_jobs=1)]: Done   1 out of   1 | elapsed:    0.7s finished\n",
      "[Parallel(n_jobs=1)]: Using backend SequentialBackend with 1 concurrent workers.\n",
      "[Parallel(n_jobs=1)]: Done   1 out of   1 | elapsed:    0.7s finished\n",
      "[Parallel(n_jobs=1)]: Using backend SequentialBackend with 1 concurrent workers.\n",
      "[Parallel(n_jobs=1)]: Done   1 out of   1 | elapsed:    0.9s finished\n",
      "[Parallel(n_jobs=1)]: Using backend SequentialBackend with 1 concurrent workers.\n",
      "[Parallel(n_jobs=1)]: Done   1 out of   1 | elapsed:    0.8s finished\n",
      "[Parallel(n_jobs=1)]: Using backend SequentialBackend with 1 concurrent workers.\n",
      "[Parallel(n_jobs=1)]: Done   1 out of   1 | elapsed:    0.9s finished\n"
     ]
    },
    {
     "name": "stderr",
     "output_type": "stream",
     "text": [
      "[Parallel(n_jobs=1)]: Using backend SequentialBackend with 1 concurrent workers.\n",
      "[Parallel(n_jobs=1)]: Done   1 out of   1 | elapsed:    0.7s finished\n",
      "[Parallel(n_jobs=1)]: Using backend SequentialBackend with 1 concurrent workers.\n",
      "[Parallel(n_jobs=1)]: Done   1 out of   1 | elapsed:    0.7s finished\n",
      "[Parallel(n_jobs=1)]: Using backend SequentialBackend with 1 concurrent workers.\n",
      "[Parallel(n_jobs=1)]: Done   1 out of   1 | elapsed:    0.4s finished\n",
      "[Parallel(n_jobs=1)]: Using backend SequentialBackend with 1 concurrent workers.\n",
      "[Parallel(n_jobs=1)]: Done   1 out of   1 | elapsed:    0.4s finished\n",
      "[Parallel(n_jobs=1)]: Using backend SequentialBackend with 1 concurrent workers.\n",
      "[Parallel(n_jobs=1)]: Done   1 out of   1 | elapsed:    0.4s finished\n",
      "[Parallel(n_jobs=1)]: Using backend SequentialBackend with 1 concurrent workers.\n",
      "[Parallel(n_jobs=1)]: Done   1 out of   1 | elapsed:    0.4s finished\n",
      "[Parallel(n_jobs=1)]: Using backend SequentialBackend with 1 concurrent workers.\n",
      "[Parallel(n_jobs=1)]: Done   1 out of   1 | elapsed:    0.4s finished\n",
      "[Parallel(n_jobs=1)]: Using backend SequentialBackend with 1 concurrent workers.\n",
      "[Parallel(n_jobs=1)]: Done   1 out of   1 | elapsed:    0.5s finished\n",
      "[Parallel(n_jobs=1)]: Using backend SequentialBackend with 1 concurrent workers.\n",
      "[Parallel(n_jobs=1)]: Done   1 out of   1 | elapsed:    0.4s finished\n",
      "[Parallel(n_jobs=1)]: Using backend SequentialBackend with 1 concurrent workers.\n",
      "[Parallel(n_jobs=1)]: Done   1 out of   1 | elapsed:    0.4s finished\n",
      "[Parallel(n_jobs=1)]: Using backend SequentialBackend with 1 concurrent workers.\n",
      "[Parallel(n_jobs=1)]: Done   1 out of   1 | elapsed:    0.5s finished\n",
      "[Parallel(n_jobs=1)]: Using backend SequentialBackend with 1 concurrent workers.\n",
      "[Parallel(n_jobs=1)]: Done   1 out of   1 | elapsed:    0.6s finished\n",
      "[Parallel(n_jobs=1)]: Using backend SequentialBackend with 1 concurrent workers.\n",
      "[Parallel(n_jobs=1)]: Done   1 out of   1 | elapsed:    0.9s finished\n",
      "[Parallel(n_jobs=1)]: Using backend SequentialBackend with 1 concurrent workers.\n",
      "[Parallel(n_jobs=1)]: Done   1 out of   1 | elapsed:    0.6s finished\n",
      "[Parallel(n_jobs=1)]: Using backend SequentialBackend with 1 concurrent workers.\n",
      "[Parallel(n_jobs=1)]: Done   1 out of   1 | elapsed:    0.7s finished\n",
      "[Parallel(n_jobs=1)]: Using backend SequentialBackend with 1 concurrent workers.\n",
      "[Parallel(n_jobs=1)]: Done   1 out of   1 | elapsed:    0.7s finished\n",
      "[Parallel(n_jobs=1)]: Using backend SequentialBackend with 1 concurrent workers.\n",
      "[Parallel(n_jobs=1)]: Done   1 out of   1 | elapsed:    0.7s finished\n",
      "[Parallel(n_jobs=1)]: Using backend SequentialBackend with 1 concurrent workers.\n",
      "[Parallel(n_jobs=1)]: Done   1 out of   1 | elapsed:    0.9s finished\n",
      "[Parallel(n_jobs=1)]: Using backend SequentialBackend with 1 concurrent workers.\n",
      "[Parallel(n_jobs=1)]: Done   1 out of   1 | elapsed:    0.8s finished\n",
      "[Parallel(n_jobs=1)]: Using backend SequentialBackend with 1 concurrent workers.\n",
      "[Parallel(n_jobs=1)]: Done   1 out of   1 | elapsed:    0.7s finished\n",
      "[Parallel(n_jobs=1)]: Using backend SequentialBackend with 1 concurrent workers.\n",
      "[Parallel(n_jobs=1)]: Done   1 out of   1 | elapsed:    0.7s finished\n",
      "[Parallel(n_jobs=1)]: Using backend SequentialBackend with 1 concurrent workers.\n",
      "[Parallel(n_jobs=1)]: Done   1 out of   1 | elapsed:    0.7s finished\n",
      "[Parallel(n_jobs=1)]: Using backend SequentialBackend with 1 concurrent workers.\n",
      "[Parallel(n_jobs=1)]: Done   1 out of   1 | elapsed:    0.5s finished\n",
      "[Parallel(n_jobs=1)]: Using backend SequentialBackend with 1 concurrent workers.\n",
      "[Parallel(n_jobs=1)]: Done   1 out of   1 | elapsed:    0.5s finished\n",
      "[Parallel(n_jobs=1)]: Using backend SequentialBackend with 1 concurrent workers.\n",
      "[Parallel(n_jobs=1)]: Done   1 out of   1 | elapsed:    0.5s finished\n",
      "[Parallel(n_jobs=1)]: Using backend SequentialBackend with 1 concurrent workers.\n",
      "[Parallel(n_jobs=1)]: Done   1 out of   1 | elapsed:    0.5s finished\n",
      "[Parallel(n_jobs=1)]: Using backend SequentialBackend with 1 concurrent workers.\n",
      "[Parallel(n_jobs=1)]: Done   1 out of   1 | elapsed:    0.5s finished\n",
      "[Parallel(n_jobs=1)]: Using backend SequentialBackend with 1 concurrent workers.\n",
      "[Parallel(n_jobs=1)]: Done   1 out of   1 | elapsed:    0.5s finished\n",
      "[Parallel(n_jobs=1)]: Using backend SequentialBackend with 1 concurrent workers.\n",
      "[Parallel(n_jobs=1)]: Done   1 out of   1 | elapsed:    0.5s finished\n",
      "[Parallel(n_jobs=1)]: Using backend SequentialBackend with 1 concurrent workers.\n",
      "[Parallel(n_jobs=1)]: Done   1 out of   1 | elapsed:    0.5s finished\n",
      "[Parallel(n_jobs=1)]: Using backend SequentialBackend with 1 concurrent workers.\n",
      "[Parallel(n_jobs=1)]: Done   1 out of   1 | elapsed:    0.5s finished\n",
      "[Parallel(n_jobs=1)]: Using backend SequentialBackend with 1 concurrent workers.\n",
      "[Parallel(n_jobs=1)]: Done   1 out of   1 | elapsed:    0.5s finished\n",
      "[Parallel(n_jobs=1)]: Using backend SequentialBackend with 1 concurrent workers.\n",
      "[Parallel(n_jobs=1)]: Done   1 out of   1 | elapsed:    0.8s finished\n",
      "[Parallel(n_jobs=1)]: Using backend SequentialBackend with 1 concurrent workers.\n",
      "[Parallel(n_jobs=1)]: Done   1 out of   1 | elapsed:    0.8s finished\n",
      "[Parallel(n_jobs=1)]: Using backend SequentialBackend with 1 concurrent workers.\n",
      "[Parallel(n_jobs=1)]: Done   1 out of   1 | elapsed:    0.9s finished\n",
      "[Parallel(n_jobs=1)]: Using backend SequentialBackend with 1 concurrent workers.\n",
      "[Parallel(n_jobs=1)]: Done   1 out of   1 | elapsed:    1.0s finished\n",
      "[Parallel(n_jobs=1)]: Using backend SequentialBackend with 1 concurrent workers.\n",
      "[Parallel(n_jobs=1)]: Done   1 out of   1 | elapsed:    1.1s finished\n",
      "[Parallel(n_jobs=1)]: Using backend SequentialBackend with 1 concurrent workers.\n",
      "[Parallel(n_jobs=1)]: Done   1 out of   1 | elapsed:    0.8s finished\n",
      "[Parallel(n_jobs=1)]: Using backend SequentialBackend with 1 concurrent workers.\n",
      "[Parallel(n_jobs=1)]: Done   1 out of   1 | elapsed:    0.9s finished\n",
      "[Parallel(n_jobs=1)]: Using backend SequentialBackend with 1 concurrent workers.\n",
      "[Parallel(n_jobs=1)]: Done   1 out of   1 | elapsed:    0.8s finished\n",
      "[Parallel(n_jobs=1)]: Using backend SequentialBackend with 1 concurrent workers.\n",
      "[Parallel(n_jobs=1)]: Done   1 out of   1 | elapsed:    1.1s finished\n",
      "[Parallel(n_jobs=1)]: Using backend SequentialBackend with 1 concurrent workers.\n",
      "[Parallel(n_jobs=1)]: Done   1 out of   1 | elapsed:    0.8s finished\n",
      "[Parallel(n_jobs=1)]: Using backend SequentialBackend with 1 concurrent workers.\n",
      "[Parallel(n_jobs=1)]: Done   1 out of   1 | elapsed:    0.8s finished\n",
      "[Parallel(n_jobs=1)]: Using backend SequentialBackend with 1 concurrent workers.\n",
      "[Parallel(n_jobs=1)]: Done   1 out of   1 | elapsed:    0.6s finished\n",
      "[Parallel(n_jobs=1)]: Using backend SequentialBackend with 1 concurrent workers.\n",
      "[Parallel(n_jobs=1)]: Done   1 out of   1 | elapsed:    0.5s finished\n",
      "[Parallel(n_jobs=1)]: Using backend SequentialBackend with 1 concurrent workers.\n",
      "[Parallel(n_jobs=1)]: Done   1 out of   1 | elapsed:    0.7s finished\n",
      "[Parallel(n_jobs=1)]: Using backend SequentialBackend with 1 concurrent workers.\n",
      "[Parallel(n_jobs=1)]: Done   1 out of   1 | elapsed:    0.7s finished\n",
      "[Parallel(n_jobs=1)]: Using backend SequentialBackend with 1 concurrent workers.\n",
      "[Parallel(n_jobs=1)]: Done   1 out of   1 | elapsed:    0.7s finished\n",
      "[Parallel(n_jobs=1)]: Using backend SequentialBackend with 1 concurrent workers.\n",
      "[Parallel(n_jobs=1)]: Done   1 out of   1 | elapsed:    0.8s finished\n",
      "[Parallel(n_jobs=1)]: Using backend SequentialBackend with 1 concurrent workers.\n",
      "[Parallel(n_jobs=1)]: Done   1 out of   1 | elapsed:    0.7s finished\n",
      "[Parallel(n_jobs=1)]: Using backend SequentialBackend with 1 concurrent workers.\n",
      "[Parallel(n_jobs=1)]: Done   1 out of   1 | elapsed:    0.5s finished\n",
      "[Parallel(n_jobs=1)]: Using backend SequentialBackend with 1 concurrent workers.\n",
      "[Parallel(n_jobs=1)]: Done   1 out of   1 | elapsed:    0.5s finished\n",
      "[Parallel(n_jobs=1)]: Using backend SequentialBackend with 1 concurrent workers.\n",
      "[Parallel(n_jobs=1)]: Done   1 out of   1 | elapsed:    1.2s finished\n",
      "[Parallel(n_jobs=1)]: Using backend SequentialBackend with 1 concurrent workers.\n",
      "[Parallel(n_jobs=1)]: Done   1 out of   1 | elapsed:    1.0s finished\n",
      "[Parallel(n_jobs=1)]: Using backend SequentialBackend with 1 concurrent workers.\n"
     ]
    },
    {
     "name": "stderr",
     "output_type": "stream",
     "text": [
      "[Parallel(n_jobs=1)]: Done   1 out of   1 | elapsed:    0.9s finished\n",
      "[Parallel(n_jobs=1)]: Using backend SequentialBackend with 1 concurrent workers.\n",
      "[Parallel(n_jobs=1)]: Done   1 out of   1 | elapsed:    1.0s finished\n",
      "[Parallel(n_jobs=1)]: Using backend SequentialBackend with 1 concurrent workers.\n",
      "[Parallel(n_jobs=1)]: Done   1 out of   1 | elapsed:    0.8s finished\n",
      "[Parallel(n_jobs=1)]: Using backend SequentialBackend with 1 concurrent workers.\n",
      "[Parallel(n_jobs=1)]: Done   1 out of   1 | elapsed:    1.1s finished\n",
      "[Parallel(n_jobs=1)]: Using backend SequentialBackend with 1 concurrent workers.\n",
      "[Parallel(n_jobs=1)]: Done   1 out of   1 | elapsed:    1.3s finished\n",
      "[Parallel(n_jobs=1)]: Using backend SequentialBackend with 1 concurrent workers.\n",
      "[Parallel(n_jobs=1)]: Done   1 out of   1 | elapsed:    0.9s finished\n",
      "[Parallel(n_jobs=1)]: Using backend SequentialBackend with 1 concurrent workers.\n",
      "[Parallel(n_jobs=1)]: Done   1 out of   1 | elapsed:    0.9s finished\n",
      "[Parallel(n_jobs=1)]: Using backend SequentialBackend with 1 concurrent workers.\n",
      "[Parallel(n_jobs=1)]: Done   1 out of   1 | elapsed:    0.8s finished\n",
      "[Parallel(n_jobs=1)]: Using backend SequentialBackend with 1 concurrent workers.\n",
      "[Parallel(n_jobs=1)]: Done   1 out of   1 | elapsed:    0.6s finished\n",
      "[Parallel(n_jobs=1)]: Using backend SequentialBackend with 1 concurrent workers.\n",
      "[Parallel(n_jobs=1)]: Done   1 out of   1 | elapsed:    0.6s finished\n",
      "[Parallel(n_jobs=1)]: Using backend SequentialBackend with 1 concurrent workers.\n",
      "[Parallel(n_jobs=1)]: Done   1 out of   1 | elapsed:    0.5s finished\n",
      "[Parallel(n_jobs=1)]: Using backend SequentialBackend with 1 concurrent workers.\n",
      "[Parallel(n_jobs=1)]: Done   1 out of   1 | elapsed:    0.5s finished\n",
      "[Parallel(n_jobs=1)]: Using backend SequentialBackend with 1 concurrent workers.\n",
      "[Parallel(n_jobs=1)]: Done   1 out of   1 | elapsed:    0.6s finished\n",
      "[Parallel(n_jobs=1)]: Using backend SequentialBackend with 1 concurrent workers.\n",
      "[Parallel(n_jobs=1)]: Done   1 out of   1 | elapsed:    0.6s finished\n",
      "[Parallel(n_jobs=1)]: Using backend SequentialBackend with 1 concurrent workers.\n",
      "[Parallel(n_jobs=1)]: Done   1 out of   1 | elapsed:    0.5s finished\n",
      "[Parallel(n_jobs=1)]: Using backend SequentialBackend with 1 concurrent workers.\n",
      "[Parallel(n_jobs=1)]: Done   1 out of   1 | elapsed:    0.5s finished\n",
      "[Parallel(n_jobs=1)]: Using backend SequentialBackend with 1 concurrent workers.\n",
      "[Parallel(n_jobs=1)]: Done   1 out of   1 | elapsed:    0.6s finished\n",
      "[Parallel(n_jobs=1)]: Using backend SequentialBackend with 1 concurrent workers.\n",
      "[Parallel(n_jobs=1)]: Done   1 out of   1 | elapsed:    0.6s finished\n",
      "[Parallel(n_jobs=1)]: Using backend SequentialBackend with 1 concurrent workers.\n",
      "[Parallel(n_jobs=1)]: Done   1 out of   1 | elapsed:    0.8s finished\n",
      "[Parallel(n_jobs=1)]: Using backend SequentialBackend with 1 concurrent workers.\n",
      "[Parallel(n_jobs=1)]: Done   1 out of   1 | elapsed:    0.8s finished\n",
      "[Parallel(n_jobs=1)]: Using backend SequentialBackend with 1 concurrent workers.\n",
      "[Parallel(n_jobs=1)]: Done   1 out of   1 | elapsed:    0.9s finished\n",
      "[Parallel(n_jobs=1)]: Using backend SequentialBackend with 1 concurrent workers.\n",
      "[Parallel(n_jobs=1)]: Done   1 out of   1 | elapsed:    0.8s finished\n",
      "[Parallel(n_jobs=1)]: Using backend SequentialBackend with 1 concurrent workers.\n",
      "[Parallel(n_jobs=1)]: Done   1 out of   1 | elapsed:    0.9s finished\n",
      "[Parallel(n_jobs=1)]: Using backend SequentialBackend with 1 concurrent workers.\n",
      "[Parallel(n_jobs=1)]: Done   1 out of   1 | elapsed:    0.8s finished\n",
      "[Parallel(n_jobs=1)]: Using backend SequentialBackend with 1 concurrent workers.\n",
      "[Parallel(n_jobs=1)]: Done   1 out of   1 | elapsed:    1.0s finished\n",
      "[Parallel(n_jobs=1)]: Using backend SequentialBackend with 1 concurrent workers.\n",
      "[Parallel(n_jobs=1)]: Done   1 out of   1 | elapsed:    0.8s finished\n",
      "[Parallel(n_jobs=1)]: Using backend SequentialBackend with 1 concurrent workers.\n",
      "[Parallel(n_jobs=1)]: Done   1 out of   1 | elapsed:    0.8s finished\n",
      "[Parallel(n_jobs=1)]: Using backend SequentialBackend with 1 concurrent workers.\n",
      "[Parallel(n_jobs=1)]: Done   1 out of   1 | elapsed:    0.9s finished\n",
      "[Parallel(n_jobs=1)]: Using backend SequentialBackend with 1 concurrent workers.\n",
      "[Parallel(n_jobs=1)]: Done   1 out of   1 | elapsed:    0.5s finished\n",
      "[Parallel(n_jobs=1)]: Using backend SequentialBackend with 1 concurrent workers.\n",
      "[Parallel(n_jobs=1)]: Done   1 out of   1 | elapsed:    0.5s finished\n",
      "[Parallel(n_jobs=1)]: Using backend SequentialBackend with 1 concurrent workers.\n",
      "[Parallel(n_jobs=1)]: Done   1 out of   1 | elapsed:    0.5s finished\n",
      "[Parallel(n_jobs=1)]: Using backend SequentialBackend with 1 concurrent workers.\n",
      "[Parallel(n_jobs=1)]: Done   1 out of   1 | elapsed:    0.5s finished\n",
      "[Parallel(n_jobs=1)]: Using backend SequentialBackend with 1 concurrent workers.\n",
      "[Parallel(n_jobs=1)]: Done   1 out of   1 | elapsed:    0.5s finished\n",
      "[Parallel(n_jobs=1)]: Using backend SequentialBackend with 1 concurrent workers.\n",
      "[Parallel(n_jobs=1)]: Done   1 out of   1 | elapsed:    0.5s finished\n",
      "[Parallel(n_jobs=1)]: Using backend SequentialBackend with 1 concurrent workers.\n",
      "[Parallel(n_jobs=1)]: Done   1 out of   1 | elapsed:    0.4s finished\n",
      "[Parallel(n_jobs=1)]: Using backend SequentialBackend with 1 concurrent workers.\n",
      "[Parallel(n_jobs=1)]: Done   1 out of   1 | elapsed:    0.5s finished\n",
      "[Parallel(n_jobs=1)]: Using backend SequentialBackend with 1 concurrent workers.\n",
      "[Parallel(n_jobs=1)]: Done   1 out of   1 | elapsed:    0.5s finished\n",
      "[Parallel(n_jobs=1)]: Using backend SequentialBackend with 1 concurrent workers.\n",
      "[Parallel(n_jobs=1)]: Done   1 out of   1 | elapsed:    0.5s finished\n",
      "[Parallel(n_jobs=1)]: Using backend SequentialBackend with 1 concurrent workers.\n",
      "[Parallel(n_jobs=1)]: Done   1 out of   1 | elapsed:    0.8s finished\n",
      "[Parallel(n_jobs=1)]: Using backend SequentialBackend with 1 concurrent workers.\n",
      "[Parallel(n_jobs=1)]: Done   1 out of   1 | elapsed:    0.8s finished\n",
      "[Parallel(n_jobs=1)]: Using backend SequentialBackend with 1 concurrent workers.\n",
      "[Parallel(n_jobs=1)]: Done   1 out of   1 | elapsed:    0.9s finished\n",
      "[Parallel(n_jobs=1)]: Using backend SequentialBackend with 1 concurrent workers.\n",
      "[Parallel(n_jobs=1)]: Done   1 out of   1 | elapsed:    1.0s finished\n",
      "[Parallel(n_jobs=1)]: Using backend SequentialBackend with 1 concurrent workers.\n",
      "[Parallel(n_jobs=1)]: Done   1 out of   1 | elapsed:    1.1s finished\n",
      "[Parallel(n_jobs=1)]: Using backend SequentialBackend with 1 concurrent workers.\n",
      "[Parallel(n_jobs=1)]: Done   1 out of   1 | elapsed:    1.0s finished\n",
      "[Parallel(n_jobs=1)]: Using backend SequentialBackend with 1 concurrent workers.\n",
      "[Parallel(n_jobs=1)]: Done   1 out of   1 | elapsed:    1.0s finished\n",
      "[Parallel(n_jobs=1)]: Using backend SequentialBackend with 1 concurrent workers.\n",
      "[Parallel(n_jobs=1)]: Done   1 out of   1 | elapsed:    0.9s finished\n",
      "[Parallel(n_jobs=1)]: Using backend SequentialBackend with 1 concurrent workers.\n",
      "[Parallel(n_jobs=1)]: Done   1 out of   1 | elapsed:    0.8s finished\n",
      "[Parallel(n_jobs=1)]: Using backend SequentialBackend with 1 concurrent workers.\n",
      "[Parallel(n_jobs=1)]: Done   1 out of   1 | elapsed:    0.9s finished\n",
      "[Parallel(n_jobs=1)]: Using backend SequentialBackend with 1 concurrent workers.\n",
      "[Parallel(n_jobs=1)]: Done   1 out of   1 | elapsed:    0.5s finished\n",
      "[Parallel(n_jobs=1)]: Using backend SequentialBackend with 1 concurrent workers.\n",
      "[Parallel(n_jobs=1)]: Done   1 out of   1 | elapsed:    0.5s finished\n",
      "[Parallel(n_jobs=1)]: Using backend SequentialBackend with 1 concurrent workers.\n",
      "[Parallel(n_jobs=1)]: Done   1 out of   1 | elapsed:    0.5s finished\n",
      "[Parallel(n_jobs=1)]: Using backend SequentialBackend with 1 concurrent workers.\n",
      "[Parallel(n_jobs=1)]: Done   1 out of   1 | elapsed:    0.5s finished\n",
      "[Parallel(n_jobs=1)]: Using backend SequentialBackend with 1 concurrent workers.\n",
      "[Parallel(n_jobs=1)]: Done   1 out of   1 | elapsed:    0.5s finished\n",
      "[Parallel(n_jobs=1)]: Using backend SequentialBackend with 1 concurrent workers.\n",
      "[Parallel(n_jobs=1)]: Done   1 out of   1 | elapsed:    0.6s finished\n",
      "[Parallel(n_jobs=1)]: Using backend SequentialBackend with 1 concurrent workers.\n",
      "[Parallel(n_jobs=1)]: Done   1 out of   1 | elapsed:    0.5s finished\n"
     ]
    },
    {
     "name": "stderr",
     "output_type": "stream",
     "text": [
      "[Parallel(n_jobs=1)]: Using backend SequentialBackend with 1 concurrent workers.\n",
      "[Parallel(n_jobs=1)]: Done   1 out of   1 | elapsed:    0.6s finished\n",
      "[Parallel(n_jobs=1)]: Using backend SequentialBackend with 1 concurrent workers.\n",
      "[Parallel(n_jobs=1)]: Done   1 out of   1 | elapsed:    0.5s finished\n",
      "[Parallel(n_jobs=1)]: Using backend SequentialBackend with 1 concurrent workers.\n",
      "[Parallel(n_jobs=1)]: Done   1 out of   1 | elapsed:    0.6s finished\n",
      "[Parallel(n_jobs=1)]: Using backend SequentialBackend with 1 concurrent workers.\n",
      "[Parallel(n_jobs=1)]: Done   1 out of   1 | elapsed:    1.2s finished\n",
      "[Parallel(n_jobs=1)]: Using backend SequentialBackend with 1 concurrent workers.\n",
      "[Parallel(n_jobs=1)]: Done   1 out of   1 | elapsed:    1.0s finished\n",
      "[Parallel(n_jobs=1)]: Using backend SequentialBackend with 1 concurrent workers.\n",
      "[Parallel(n_jobs=1)]: Done   1 out of   1 | elapsed:    1.2s finished\n",
      "[Parallel(n_jobs=1)]: Using backend SequentialBackend with 1 concurrent workers.\n",
      "[Parallel(n_jobs=1)]: Done   1 out of   1 | elapsed:    1.1s finished\n",
      "[Parallel(n_jobs=1)]: Using backend SequentialBackend with 1 concurrent workers.\n",
      "[Parallel(n_jobs=1)]: Done   1 out of   1 | elapsed:    1.0s finished\n",
      "[Parallel(n_jobs=1)]: Using backend SequentialBackend with 1 concurrent workers.\n",
      "[Parallel(n_jobs=1)]: Done   1 out of   1 | elapsed:    1.1s finished\n",
      "[Parallel(n_jobs=1)]: Using backend SequentialBackend with 1 concurrent workers.\n",
      "[Parallel(n_jobs=1)]: Done   1 out of   1 | elapsed:    1.3s finished\n",
      "[Parallel(n_jobs=1)]: Using backend SequentialBackend with 1 concurrent workers.\n",
      "[Parallel(n_jobs=1)]: Done   1 out of   1 | elapsed:    1.0s finished\n",
      "[Parallel(n_jobs=1)]: Using backend SequentialBackend with 1 concurrent workers.\n",
      "[Parallel(n_jobs=1)]: Done   1 out of   1 | elapsed:    1.1s finished\n",
      "[Parallel(n_jobs=1)]: Using backend SequentialBackend with 1 concurrent workers.\n",
      "[Parallel(n_jobs=1)]: Done   1 out of   1 | elapsed:    1.1s finished\n",
      "[Parallel(n_jobs=1)]: Using backend SequentialBackend with 1 concurrent workers.\n",
      "[Parallel(n_jobs=1)]: Done   1 out of   1 | elapsed:    0.6s finished\n",
      "[Parallel(n_jobs=1)]: Using backend SequentialBackend with 1 concurrent workers.\n",
      "[Parallel(n_jobs=1)]: Done   1 out of   1 | elapsed:    0.6s finished\n",
      "[Parallel(n_jobs=1)]: Using backend SequentialBackend with 1 concurrent workers.\n",
      "[Parallel(n_jobs=1)]: Done   1 out of   1 | elapsed:    0.6s finished\n",
      "[Parallel(n_jobs=1)]: Using backend SequentialBackend with 1 concurrent workers.\n",
      "[Parallel(n_jobs=1)]: Done   1 out of   1 | elapsed:    0.5s finished\n",
      "[Parallel(n_jobs=1)]: Using backend SequentialBackend with 1 concurrent workers.\n",
      "[Parallel(n_jobs=1)]: Done   1 out of   1 | elapsed:    0.5s finished\n",
      "[Parallel(n_jobs=1)]: Using backend SequentialBackend with 1 concurrent workers.\n",
      "[Parallel(n_jobs=1)]: Done   1 out of   1 | elapsed:    0.6s finished\n",
      "[Parallel(n_jobs=1)]: Using backend SequentialBackend with 1 concurrent workers.\n",
      "[Parallel(n_jobs=1)]: Done   1 out of   1 | elapsed:    0.5s finished\n",
      "[Parallel(n_jobs=1)]: Using backend SequentialBackend with 1 concurrent workers.\n",
      "[Parallel(n_jobs=1)]: Done   1 out of   1 | elapsed:    0.6s finished\n",
      "[Parallel(n_jobs=1)]: Using backend SequentialBackend with 1 concurrent workers.\n",
      "[Parallel(n_jobs=1)]: Done   1 out of   1 | elapsed:    0.6s finished\n",
      "[Parallel(n_jobs=1)]: Using backend SequentialBackend with 1 concurrent workers.\n",
      "[Parallel(n_jobs=1)]: Done   1 out of   1 | elapsed:    0.5s finished\n",
      "[Parallel(n_jobs=1)]: Using backend SequentialBackend with 1 concurrent workers.\n",
      "[Parallel(n_jobs=1)]: Done   1 out of   1 | elapsed:    1.1s finished\n",
      "[Parallel(n_jobs=1)]: Using backend SequentialBackend with 1 concurrent workers.\n",
      "[Parallel(n_jobs=1)]: Done   1 out of   1 | elapsed:    1.0s finished\n",
      "[Parallel(n_jobs=1)]: Using backend SequentialBackend with 1 concurrent workers.\n",
      "[Parallel(n_jobs=1)]: Done   1 out of   1 | elapsed:    1.1s finished\n",
      "[Parallel(n_jobs=1)]: Using backend SequentialBackend with 1 concurrent workers.\n",
      "[Parallel(n_jobs=1)]: Done   1 out of   1 | elapsed:    1.0s finished\n",
      "[Parallel(n_jobs=1)]: Using backend SequentialBackend with 1 concurrent workers.\n",
      "[Parallel(n_jobs=1)]: Done   1 out of   1 | elapsed:    1.0s finished\n",
      "[Parallel(n_jobs=1)]: Using backend SequentialBackend with 1 concurrent workers.\n",
      "[Parallel(n_jobs=1)]: Done   1 out of   1 | elapsed:    1.0s finished\n",
      "[Parallel(n_jobs=1)]: Using backend SequentialBackend with 1 concurrent workers.\n",
      "[Parallel(n_jobs=1)]: Done   1 out of   1 | elapsed:    1.0s finished\n",
      "[Parallel(n_jobs=1)]: Using backend SequentialBackend with 1 concurrent workers.\n",
      "[Parallel(n_jobs=1)]: Done   1 out of   1 | elapsed:    1.1s finished\n",
      "[Parallel(n_jobs=1)]: Using backend SequentialBackend with 1 concurrent workers.\n",
      "[Parallel(n_jobs=1)]: Done   1 out of   1 | elapsed:    1.0s finished\n",
      "[Parallel(n_jobs=1)]: Using backend SequentialBackend with 1 concurrent workers.\n",
      "[Parallel(n_jobs=1)]: Done   1 out of   1 | elapsed:    1.1s finished\n",
      "[Parallel(n_jobs=1)]: Using backend SequentialBackend with 1 concurrent workers.\n",
      "[Parallel(n_jobs=1)]: Done   1 out of   1 | elapsed:    0.7s finished\n",
      "[Parallel(n_jobs=1)]: Using backend SequentialBackend with 1 concurrent workers.\n",
      "[Parallel(n_jobs=1)]: Done   1 out of   1 | elapsed:    0.6s finished\n",
      "[Parallel(n_jobs=1)]: Using backend SequentialBackend with 1 concurrent workers.\n",
      "[Parallel(n_jobs=1)]: Done   1 out of   1 | elapsed:    0.6s finished\n",
      "[Parallel(n_jobs=1)]: Using backend SequentialBackend with 1 concurrent workers.\n",
      "[Parallel(n_jobs=1)]: Done   1 out of   1 | elapsed:    1.0s finished\n",
      "[Parallel(n_jobs=1)]: Using backend SequentialBackend with 1 concurrent workers.\n",
      "[Parallel(n_jobs=1)]: Done   1 out of   1 | elapsed:    1.0s finished\n",
      "[Parallel(n_jobs=1)]: Using backend SequentialBackend with 1 concurrent workers.\n",
      "[Parallel(n_jobs=1)]: Done   1 out of   1 | elapsed:    0.9s finished\n",
      "[Parallel(n_jobs=1)]: Using backend SequentialBackend with 1 concurrent workers.\n",
      "[Parallel(n_jobs=1)]: Done   1 out of   1 | elapsed:    0.6s finished\n",
      "[Parallel(n_jobs=1)]: Using backend SequentialBackend with 1 concurrent workers.\n",
      "[Parallel(n_jobs=1)]: Done   1 out of   1 | elapsed:    0.7s finished\n",
      "[Parallel(n_jobs=1)]: Using backend SequentialBackend with 1 concurrent workers.\n",
      "[Parallel(n_jobs=1)]: Done   1 out of   1 | elapsed:    0.8s finished\n",
      "[Parallel(n_jobs=1)]: Using backend SequentialBackend with 1 concurrent workers.\n",
      "[Parallel(n_jobs=1)]: Done   1 out of   1 | elapsed:    0.9s finished\n",
      "[Parallel(n_jobs=1)]: Using backend SequentialBackend with 1 concurrent workers.\n",
      "[Parallel(n_jobs=1)]: Done   1 out of   1 | elapsed:    1.6s finished\n",
      "[Parallel(n_jobs=1)]: Using backend SequentialBackend with 1 concurrent workers.\n",
      "[Parallel(n_jobs=1)]: Done   1 out of   1 | elapsed:    1.5s finished\n",
      "[Parallel(n_jobs=1)]: Using backend SequentialBackend with 1 concurrent workers.\n",
      "[Parallel(n_jobs=1)]: Done   1 out of   1 | elapsed:    1.4s finished\n",
      "[Parallel(n_jobs=1)]: Using backend SequentialBackend with 1 concurrent workers.\n",
      "[Parallel(n_jobs=1)]: Done   1 out of   1 | elapsed:    1.7s finished\n",
      "[Parallel(n_jobs=1)]: Using backend SequentialBackend with 1 concurrent workers.\n",
      "[Parallel(n_jobs=1)]: Done   1 out of   1 | elapsed:    1.5s finished\n",
      "[Parallel(n_jobs=1)]: Using backend SequentialBackend with 1 concurrent workers.\n",
      "[Parallel(n_jobs=1)]: Done   1 out of   1 | elapsed:    2.7s finished\n",
      "[Parallel(n_jobs=1)]: Using backend SequentialBackend with 1 concurrent workers.\n",
      "[Parallel(n_jobs=1)]: Done   1 out of   1 | elapsed:    1.9s finished\n",
      "[Parallel(n_jobs=1)]: Using backend SequentialBackend with 1 concurrent workers.\n",
      "[Parallel(n_jobs=1)]: Done   1 out of   1 | elapsed:    1.7s finished\n",
      "[Parallel(n_jobs=1)]: Using backend SequentialBackend with 1 concurrent workers.\n",
      "[Parallel(n_jobs=1)]: Done   1 out of   1 | elapsed:    1.8s finished\n",
      "[Parallel(n_jobs=1)]: Using backend SequentialBackend with 1 concurrent workers.\n",
      "[Parallel(n_jobs=1)]: Done   1 out of   1 | elapsed:    1.4s finished\n",
      "[Parallel(n_jobs=1)]: Using backend SequentialBackend with 1 concurrent workers.\n",
      "[Parallel(n_jobs=1)]: Done   1 out of   1 | elapsed:    0.6s finished\n",
      "[Parallel(n_jobs=1)]: Using backend SequentialBackend with 1 concurrent workers.\n"
     ]
    },
    {
     "name": "stderr",
     "output_type": "stream",
     "text": [
      "[Parallel(n_jobs=1)]: Done   1 out of   1 | elapsed:    0.6s finished\n",
      "[Parallel(n_jobs=1)]: Using backend SequentialBackend with 1 concurrent workers.\n",
      "[Parallel(n_jobs=1)]: Done   1 out of   1 | elapsed:    0.5s finished\n",
      "[Parallel(n_jobs=1)]: Using backend SequentialBackend with 1 concurrent workers.\n",
      "[Parallel(n_jobs=1)]: Done   1 out of   1 | elapsed:    0.7s finished\n",
      "[Parallel(n_jobs=1)]: Using backend SequentialBackend with 1 concurrent workers.\n",
      "[Parallel(n_jobs=1)]: Done   1 out of   1 | elapsed:    0.6s finished\n",
      "[Parallel(n_jobs=1)]: Using backend SequentialBackend with 1 concurrent workers.\n",
      "[Parallel(n_jobs=1)]: Done   1 out of   1 | elapsed:    0.6s finished\n",
      "[Parallel(n_jobs=1)]: Using backend SequentialBackend with 1 concurrent workers.\n",
      "[Parallel(n_jobs=1)]: Done   1 out of   1 | elapsed:    0.6s finished\n",
      "[Parallel(n_jobs=1)]: Using backend SequentialBackend with 1 concurrent workers.\n",
      "[Parallel(n_jobs=1)]: Done   1 out of   1 | elapsed:    1.1s finished\n",
      "[Parallel(n_jobs=1)]: Using backend SequentialBackend with 1 concurrent workers.\n",
      "[Parallel(n_jobs=1)]: Done   1 out of   1 | elapsed:    1.0s finished\n",
      "[Parallel(n_jobs=1)]: Using backend SequentialBackend with 1 concurrent workers.\n",
      "[Parallel(n_jobs=1)]: Done   1 out of   1 | elapsed:    1.0s finished\n",
      "[Parallel(n_jobs=1)]: Using backend SequentialBackend with 1 concurrent workers.\n",
      "[Parallel(n_jobs=1)]: Done   1 out of   1 | elapsed:    2.4s finished\n",
      "[Parallel(n_jobs=1)]: Using backend SequentialBackend with 1 concurrent workers.\n",
      "[Parallel(n_jobs=1)]: Done   1 out of   1 | elapsed:    1.7s finished\n",
      "[Parallel(n_jobs=1)]: Using backend SequentialBackend with 1 concurrent workers.\n",
      "[Parallel(n_jobs=1)]: Done   1 out of   1 | elapsed:    2.0s finished\n",
      "[Parallel(n_jobs=1)]: Using backend SequentialBackend with 1 concurrent workers.\n",
      "[Parallel(n_jobs=1)]: Done   1 out of   1 | elapsed:    1.7s finished\n",
      "[Parallel(n_jobs=1)]: Using backend SequentialBackend with 1 concurrent workers.\n",
      "[Parallel(n_jobs=1)]: Done   1 out of   1 | elapsed:    1.7s finished\n",
      "[Parallel(n_jobs=1)]: Using backend SequentialBackend with 1 concurrent workers.\n",
      "[Parallel(n_jobs=1)]: Done   1 out of   1 | elapsed:    1.5s finished\n",
      "[Parallel(n_jobs=1)]: Using backend SequentialBackend with 1 concurrent workers.\n",
      "[Parallel(n_jobs=1)]: Done   1 out of   1 | elapsed:    1.4s finished\n",
      "[Parallel(n_jobs=1)]: Using backend SequentialBackend with 1 concurrent workers.\n",
      "[Parallel(n_jobs=1)]: Done   1 out of   1 | elapsed:    1.4s finished\n",
      "[Parallel(n_jobs=1)]: Using backend SequentialBackend with 1 concurrent workers.\n",
      "[Parallel(n_jobs=1)]: Done   1 out of   1 | elapsed:    1.9s finished\n",
      "[Parallel(n_jobs=1)]: Using backend SequentialBackend with 1 concurrent workers.\n",
      "[Parallel(n_jobs=1)]: Done   1 out of   1 | elapsed:    2.3s finished\n",
      "[Parallel(n_jobs=1)]: Using backend SequentialBackend with 1 concurrent workers.\n",
      "[Parallel(n_jobs=1)]: Done   1 out of   1 | elapsed:    2.7s finished\n"
     ]
    },
    {
     "data": {
      "text/plain": [
       "GridSearchCV(cv=10, error_score=nan,\n",
       "             estimator=Pipeline(memory=None,\n",
       "                                steps=[('cvec',\n",
       "                                        CountVectorizer(analyzer='word',\n",
       "                                                        binary=False,\n",
       "                                                        decode_error='strict',\n",
       "                                                        dtype=<class 'numpy.int64'>,\n",
       "                                                        encoding='utf-8',\n",
       "                                                        input='content',\n",
       "                                                        lowercase=True,\n",
       "                                                        max_df=1.0,\n",
       "                                                        max_features=None,\n",
       "                                                        min_df=1,\n",
       "                                                        ngram_range=(1, 1),\n",
       "                                                        preprocessor=None,\n",
       "                                                        stop_words=None,\n",
       "                                                        strip_accents=None,\n",
       "                                                        token_pattern='(?u...\n",
       "                                                           warm_start=False))],\n",
       "                                verbose=False),\n",
       "             iid='deprecated', n_jobs=None,\n",
       "             param_grid={'cvec__max_df': [0.9, 0.95],\n",
       "                         'cvec__max_features': [2000, 3000, 4000, 5000, 10000],\n",
       "                         'cvec__min_df': [2, 3],\n",
       "                         'cvec__ngram_range': [(1, 1), (1, 2)],\n",
       "                         'logreg__max_iter': [500], 'logreg__solver': ['lbfgs'],\n",
       "                         'logreg__verbose': [1]},\n",
       "             pre_dispatch='2*n_jobs', refit=True, return_train_score=False,\n",
       "             scoring=None, verbose=0)"
      ]
     },
     "execution_count": 54,
     "metadata": {},
     "output_type": "execute_result"
    }
   ],
   "source": [
    "# Fit GridSearch to the cleaned training data.\n",
    "gs1.fit(X_trainsub_clean,y_trainsub)"
   ]
  },
  {
   "cell_type": "code",
   "execution_count": 55,
   "metadata": {},
   "outputs": [
    {
     "name": "stdout",
     "output_type": "stream",
     "text": [
      "Best parameters: {'cvec__max_df': 0.9, 'cvec__max_features': 10000, 'cvec__min_df': 3, 'cvec__ngram_range': (1, 2), 'logreg__max_iter': 500, 'logreg__solver': 'lbfgs', 'logreg__verbose': 1}\n",
      "Best score: 0.6750910183670841\n"
     ]
    }
   ],
   "source": [
    "# Check the results of the grid search\n",
    "\n",
    "print(f\"Best parameters: {gs1.best_params_}\")\n",
    "print(f\"Best score: {gs1.best_score_}\")"
   ]
  },
  {
   "cell_type": "code",
   "execution_count": 56,
   "metadata": {},
   "outputs": [],
   "source": [
    "# Save best model as model_1\n",
    "\n",
    "model_1 = gs1.best_estimator_"
   ]
  },
  {
   "cell_type": "code",
   "execution_count": 57,
   "metadata": {},
   "outputs": [
    {
     "name": "stdout",
     "output_type": "stream",
     "text": [
      "Accuracy on train set: 0.7604266769171631\n",
      "Accuracy on validate set: 0.6781322059953881\n"
     ]
    }
   ],
   "source": [
    "# Score model on train set and validate set\n",
    "print(f\"Accuracy on train set: {model_1.score(X_trainsub_clean, y_trainsub)}\")\n",
    "print(f\"Accuracy on validate set: {model_1.score(X_validate_clean, y_validate)}\")"
   ]
  },
  {
   "cell_type": "markdown",
   "metadata": {},
   "source": [
    "Modelling helps with classification as the model accuracy is higher than the baseline accuracy (0.48). The model is overfitted with about 10% drop in test accuracy compared to train accuracy."
   ]
  },
  {
   "cell_type": "code",
   "execution_count": 58,
   "metadata": {},
   "outputs": [
    {
     "data": {
      "text/html": [
       "<div>\n",
       "<style scoped>\n",
       "    .dataframe tbody tr th:only-of-type {\n",
       "        vertical-align: middle;\n",
       "    }\n",
       "\n",
       "    .dataframe tbody tr th {\n",
       "        vertical-align: top;\n",
       "    }\n",
       "\n",
       "    .dataframe thead th {\n",
       "        text-align: right;\n",
       "    }\n",
       "</style>\n",
       "<table border=\"1\" class=\"dataframe\">\n",
       "  <thead>\n",
       "    <tr style=\"text-align: right;\">\n",
       "      <th></th>\n",
       "      <th>pred non-bomb</th>\n",
       "      <th>pred bomb</th>\n",
       "    </tr>\n",
       "  </thead>\n",
       "  <tbody>\n",
       "    <tr>\n",
       "      <th>Actual non-bomb</th>\n",
       "      <td>1413</td>\n",
       "      <td>1311</td>\n",
       "    </tr>\n",
       "    <tr>\n",
       "      <th>Actual bomb</th>\n",
       "      <td>364</td>\n",
       "      <td>2116</td>\n",
       "    </tr>\n",
       "  </tbody>\n",
       "</table>\n",
       "</div>"
      ],
      "text/plain": [
       "                 pred non-bomb  pred bomb\n",
       "Actual non-bomb           1413       1311\n",
       "Actual bomb                364       2116"
      ]
     },
     "execution_count": 58,
     "metadata": {},
     "output_type": "execute_result"
    }
   ],
   "source": [
    "# Confusion matrix on the first log reg model\n",
    "# Pass in true values, predicted values to confusion matrix\n",
    "# Convert confusion matrix into dataframe\n",
    "# Positive class (class 1) is bomb\n",
    "preds = gs1.predict(X_validate_clean)\n",
    "cm = confusion_matrix(y_validate, preds)\n",
    "cm_df = pd.DataFrame(cm,columns=['pred non-bomb','pred bomb'], index=['Actual non-bomb','Actual bomb'])\n",
    "cm_df"
   ]
  },
  {
   "cell_type": "markdown",
   "metadata": {},
   "source": [
    "The positive class (class 1) refers to `bomb`. False positive means the observation is classified as `bomb` when it is actually `non-bomb`. \n",
    "False negative means the observation is classified as `non-bomb` when it is actually `bomb`.\n"
   ]
  },
  {
   "cell_type": "code",
   "execution_count": 59,
   "metadata": {},
   "outputs": [],
   "source": [
    "# return nparray as a 1-D array.\n",
    "confusion_matrix(y_validate, preds).ravel()\n",
    "# Save TN/FP/FN/TP values.\n",
    "tn, fp, fn, tp = confusion_matrix(y_validate,preds).ravel()"
   ]
  },
  {
   "cell_type": "code",
   "execution_count": 60,
   "metadata": {},
   "outputs": [
    {
     "name": "stdout",
     "output_type": "stream",
     "text": [
      "Specificity: 0.5187\n",
      "Sensitivity: 0.8532\n"
     ]
    }
   ],
   "source": [
    "# Summary of metrics for log reg model\n",
    "spec = tn/(tn+fp)\n",
    "sens = tp/(tp+fn)\n",
    "print(f\"Specificity: {round(spec,4)}\")\n",
    "print(f\"Sensitivity: {round(sens,4)}\")"
   ]
  },
  {
   "cell_type": "markdown",
   "metadata": {},
   "source": [
    "The Receiver Operating Characteristic (ROC) curve visualizes the overlap between the positive class and negative class as the classification threshold moves from 0 to 1 (i.e. trade-off between sensitivity (or TruePositiveRate) and specificity (1 – FalsePositiveRate). \n",
    "As a baseline, a no-skill classifier is expected to give points lying along the diagonal (FPRate = TPRate); (i.e. the closer the curve is to the diagonal line, the less accurate the classifier). \n",
    "\n",
    "- Better performing classifiers give curves closer to the top-left corner. \n",
    "- The more area under the blue curve, the better separated the class distributions are. \n",
    "- Best trade-off between sensitivity and specificity is the top-left point along the ROC curve."
   ]
  },
  {
   "cell_type": "code",
   "execution_count": 61,
   "metadata": {},
   "outputs": [
    {
     "data": {
      "text/html": [
       "<div>\n",
       "<style scoped>\n",
       "    .dataframe tbody tr th:only-of-type {\n",
       "        vertical-align: middle;\n",
       "    }\n",
       "\n",
       "    .dataframe tbody tr th {\n",
       "        vertical-align: top;\n",
       "    }\n",
       "\n",
       "    .dataframe thead th {\n",
       "        text-align: right;\n",
       "    }\n",
       "</style>\n",
       "<table border=\"1\" class=\"dataframe\">\n",
       "  <thead>\n",
       "    <tr style=\"text-align: right;\">\n",
       "      <th></th>\n",
       "      <th>validate_values</th>\n",
       "      <th>pred_probs</th>\n",
       "    </tr>\n",
       "  </thead>\n",
       "  <tbody>\n",
       "    <tr>\n",
       "      <th>11714</th>\n",
       "      <td>0</td>\n",
       "      <td>0.555791</td>\n",
       "    </tr>\n",
       "    <tr>\n",
       "      <th>6933</th>\n",
       "      <td>1</td>\n",
       "      <td>0.555791</td>\n",
       "    </tr>\n",
       "    <tr>\n",
       "      <th>21031</th>\n",
       "      <td>0</td>\n",
       "      <td>0.074948</td>\n",
       "    </tr>\n",
       "    <tr>\n",
       "      <th>29689</th>\n",
       "      <td>0</td>\n",
       "      <td>0.715893</td>\n",
       "    </tr>\n",
       "    <tr>\n",
       "      <th>25274</th>\n",
       "      <td>0</td>\n",
       "      <td>0.193212</td>\n",
       "    </tr>\n",
       "  </tbody>\n",
       "</table>\n",
       "</div>"
      ],
      "text/plain": [
       "       validate_values  pred_probs\n",
       "11714                0    0.555791\n",
       "6933                 1    0.555791\n",
       "21031                0    0.074948\n",
       "29689                0    0.715893\n",
       "25274                0    0.193212"
      ]
     },
     "execution_count": 61,
     "metadata": {},
     "output_type": "execute_result"
    }
   ],
   "source": [
    "# To visualize the ROC AUC curve, first\n",
    "# Create a dataframe called pred_df that contains:\n",
    "# 1. The list of true values of our validate set.\n",
    "# 2. The list of predicted probabilities based on our model.\n",
    "\n",
    "pred_proba = [i[1] for i in gs1.predict_proba(X_validate_clean)]\n",
    "\n",
    "pred_df = pd.DataFrame({'validate_values': y_validate,\n",
    "                        'pred_probs':pred_proba})\n",
    "pred_df.head()"
   ]
  },
  {
   "cell_type": "code",
   "execution_count": 62,
   "metadata": {},
   "outputs": [
    {
     "data": {
      "text/plain": [
       "0.7460434577945148"
      ]
     },
     "execution_count": 62,
     "metadata": {},
     "output_type": "execute_result"
    }
   ],
   "source": [
    "# Calculate ROC AUC.\n",
    "roc_auc_score(pred_df['validate_values'],pred_df['pred_probs'])"
   ]
  },
  {
   "cell_type": "code",
   "execution_count": 63,
   "metadata": {},
   "outputs": [
    {
     "data": {
      "image/png": "[encoded data removed]",
      "text/plain": [
       "<Figure size 720x504 with 1 Axes>"
      ]
     },
     "metadata": {},
     "output_type": "display_data"
    }
   ],
   "source": [
    "#Create figure\n",
    "plt.figure(figsize = (10,7))\n",
    "\n",
    "# Create threshold values. (Dashed orange line in plot.)\n",
    "thresholds = np.linspace(0, 1, 200)\n",
    "\n",
    "# Define function to calculate sensitivity. (True positive rate.)\n",
    "def TPR(df, true_col, pred_prob_col, threshold):\n",
    "    true_positive = df[(df[true_col] == 1) & (df[pred_prob_col] >= threshold)].shape[0]\n",
    "    false_negative = df[(df[true_col] == 1) & (df[pred_prob_col] < threshold)].shape[0]\n",
    "    return true_positive / (true_positive + false_negative)\n",
    "    \n",
    "# Define function to calculate 1 - specificity. (False positive rate.)\n",
    "def FPR(df, true_col, pred_prob_col, threshold):\n",
    "    true_negative = df[(df[true_col] == 0) & (df[pred_prob_col] <= threshold)].shape[0]\n",
    "    false_positive = df[(df[true_col] == 0) & (df[pred_prob_col] > threshold)].shape[0]\n",
    "    return 1 - (true_negative / (true_negative + false_positive))\n",
    "    \n",
    "# Calculate sensitivity & 1-specificity for each threshold between 0 and 1.\n",
    "tpr_values = [TPR(pred_df, 'validate_values', 'pred_probs', prob) for prob in thresholds]\n",
    "fpr_values = [FPR(pred_df, 'validate_values', 'pred_probs', prob) for prob in thresholds]\n",
    "\n",
    "# Plot ROC curve.\n",
    "plt.plot(fpr_values, # False Positive Rate on X-axis\n",
    "         tpr_values, # True Positive Rate on Y-axis\n",
    "         label='ROC Curve')\n",
    "\n",
    "# Plot baseline. (Perfect overlap between the two populations.)\n",
    "plt.plot(np.linspace(0, 1, 200),\n",
    "         np.linspace(0, 1, 200),\n",
    "         label='baseline',\n",
    "         linestyle='--')\n",
    "\n",
    "# Label axes.\n",
    "plt.title(f'ROC Curve with AUC = {round(roc_auc_score(pred_df[\"validate_values\"], pred_df[\"pred_probs\"]),4)}', fontsize=22)\n",
    "plt.ylabel('Sensitivity', fontsize=18)\n",
    "plt.xlabel('1 - Specificity', fontsize=18)\n",
    "\n",
    "# Create legend.\n",
    "plt.legend(fontsize=16);"
   ]
  },
  {
   "cell_type": "markdown",
   "metadata": {},
   "source": [
    "An ROC AUC of 1 means the positive and negative populations are perfectly separated and that the model is as good as it can get. The closer the ROC AUC is to 1, the better. (1 is the maximum score.)\n",
    "Before exploring the stopwords to further potentially improve the classification ability of a model, examine the performance of a Naive Bayes model."
   ]
  },
  {
   "cell_type": "code",
   "execution_count": null,
   "metadata": {},
   "outputs": [],
   "source": []
  },
  {
   "cell_type": "markdown",
   "metadata": {},
   "source": [
    "### Naive Bayes Model\n",
    "---\n",
    "We explore the Naive Bayes Model, and apply the removal of identifed common overlapped words identified earlier. "
   ]
  },
  {
   "cell_type": "code",
   "execution_count": 64,
   "metadata": {},
   "outputs": [],
   "source": [
    "# Set up a pipeline, p2 with two stages\n",
    "# 1.CountVectorizer (transformer)\n",
    "# 2.Naive Bayes(multinomial) (estimator)\n",
    "pipe2 = Pipeline([('cvec',CountVectorizer()),\\\n",
    "                  ('nb',MultinomialNB())\\\n",
    "                 ])"
   ]
  },
  {
   "cell_type": "code",
   "execution_count": 65,
   "metadata": {},
   "outputs": [
    {
     "data": {
      "text/plain": [
       "{'memory': None,\n",
       " 'steps': [('cvec',\n",
       "   CountVectorizer(analyzer='word', binary=False, decode_error='strict',\n",
       "                   dtype=<class 'numpy.int64'>, encoding='utf-8', input='content',\n",
       "                   lowercase=True, max_df=1.0, max_features=None, min_df=1,\n",
       "                   ngram_range=(1, 1), preprocessor=None, stop_words=None,\n",
       "                   strip_accents=None, token_pattern='(?u)\\\\b\\\\w\\\\w+\\\\b',\n",
       "                   tokenizer=None, vocabulary=None)),\n",
       "  ('nb', MultinomialNB(alpha=1.0, class_prior=None, fit_prior=True))],\n",
       " 'verbose': False,\n",
       " 'cvec': CountVectorizer(analyzer='word', binary=False, decode_error='strict',\n",
       "                 dtype=<class 'numpy.int64'>, encoding='utf-8', input='content',\n",
       "                 lowercase=True, max_df=1.0, max_features=None, min_df=1,\n",
       "                 ngram_range=(1, 1), preprocessor=None, stop_words=None,\n",
       "                 strip_accents=None, token_pattern='(?u)\\\\b\\\\w\\\\w+\\\\b',\n",
       "                 tokenizer=None, vocabulary=None),\n",
       " 'nb': MultinomialNB(alpha=1.0, class_prior=None, fit_prior=True),\n",
       " 'cvec__analyzer': 'word',\n",
       " 'cvec__binary': False,\n",
       " 'cvec__decode_error': 'strict',\n",
       " 'cvec__dtype': numpy.int64,\n",
       " 'cvec__encoding': 'utf-8',\n",
       " 'cvec__input': 'content',\n",
       " 'cvec__lowercase': True,\n",
       " 'cvec__max_df': 1.0,\n",
       " 'cvec__max_features': None,\n",
       " 'cvec__min_df': 1,\n",
       " 'cvec__ngram_range': (1, 1),\n",
       " 'cvec__preprocessor': None,\n",
       " 'cvec__stop_words': None,\n",
       " 'cvec__strip_accents': None,\n",
       " 'cvec__token_pattern': '(?u)\\\\b\\\\w\\\\w+\\\\b',\n",
       " 'cvec__tokenizer': None,\n",
       " 'cvec__vocabulary': None,\n",
       " 'nb__alpha': 1.0,\n",
       " 'nb__class_prior': None,\n",
       " 'nb__fit_prior': True}"
      ]
     },
     "execution_count": 65,
     "metadata": {},
     "output_type": "execute_result"
    }
   ],
   "source": [
    "# Parameters of pipeline object\n",
    "pipe2.get_params()"
   ]
  },
  {
   "cell_type": "code",
   "execution_count": 66,
   "metadata": {},
   "outputs": [],
   "source": [
    "# Load pipeline object into GridSearchCV to tune CountVectorizer\n",
    "# Search over the following values of hyperparameters:\n",
    "# Maximum number of features fit (top no. frequent occur words): 2000, 3000, 4000, 5000, 10000\n",
    "# Minimum number of documents (collection of text) needed to include token: 2, 3\n",
    "# Maximum number of documents needed to include token: 90%, 95%\n",
    "# Check (individual tokens) and also check (individual tokens and 2-grams).\n",
    "\n",
    "# n-gram: 1 token, 1-gram, or 1 token, 2-gram.\n",
    "pipe2_params = {\n",
    "    'cvec__max_features': [2_000,3_000,4_000,5_000,10_000],\\\n",
    "    'cvec__min_df': [2,3],\\\n",
    "    'cvec__max_df': [0.9,0.95],\\\n",
    "    'cvec__ngram_range': [(1, 1), (1,2)]\\\n",
    "}"
   ]
  },
  {
   "cell_type": "code",
   "execution_count": 67,
   "metadata": {},
   "outputs": [],
   "source": [
    "# Instantiate GridSearchCV.\n",
    "\"\"\"pipe refers to the object to optimize.\"\"\"\n",
    "\"\"\"param_grid refer to parameter values to search.\"\"\"\n",
    "\"\"\"cv refers to number of cross-validate fold.\"\"\"\n",
    "gs2 = GridSearchCV(pipe2,\\\n",
    "                  param_grid=pipe2_params,\\\n",
    "                  cv=10)"
   ]
  },
  {
   "cell_type": "code",
   "execution_count": 68,
   "metadata": {},
   "outputs": [
    {
     "data": {
      "text/plain": [
       "GridSearchCV(cv=10, error_score=nan,\n",
       "             estimator=Pipeline(memory=None,\n",
       "                                steps=[('cvec',\n",
       "                                        CountVectorizer(analyzer='word',\n",
       "                                                        binary=False,\n",
       "                                                        decode_error='strict',\n",
       "                                                        dtype=<class 'numpy.int64'>,\n",
       "                                                        encoding='utf-8',\n",
       "                                                        input='content',\n",
       "                                                        lowercase=True,\n",
       "                                                        max_df=1.0,\n",
       "                                                        max_features=None,\n",
       "                                                        min_df=1,\n",
       "                                                        ngram_range=(1, 1),\n",
       "                                                        preprocessor=None,\n",
       "                                                        stop_words=None,\n",
       "                                                        strip_accents=None,\n",
       "                                                        token_pattern='(?u...\n",
       "                                                        vocabulary=None)),\n",
       "                                       ('nb',\n",
       "                                        MultinomialNB(alpha=1.0,\n",
       "                                                      class_prior=None,\n",
       "                                                      fit_prior=True))],\n",
       "                                verbose=False),\n",
       "             iid='deprecated', n_jobs=None,\n",
       "             param_grid={'cvec__max_df': [0.9, 0.95],\n",
       "                         'cvec__max_features': [2000, 3000, 4000, 5000, 10000],\n",
       "                         'cvec__min_df': [2, 3],\n",
       "                         'cvec__ngram_range': [(1, 1), (1, 2)]},\n",
       "             pre_dispatch='2*n_jobs', refit=True, return_train_score=False,\n",
       "             scoring=None, verbose=0)"
      ]
     },
     "execution_count": 68,
     "metadata": {},
     "output_type": "execute_result"
    }
   ],
   "source": [
    "# Fit GridSearch to the cleaned training data.\n",
    "\n",
    "gs2.fit(X_trainsub_clean,y_trainsub)"
   ]
  },
  {
   "cell_type": "code",
   "execution_count": 69,
   "metadata": {},
   "outputs": [
    {
     "name": "stdout",
     "output_type": "stream",
     "text": [
      "Best parameters: {'cvec__max_df': 0.9, 'cvec__max_features': 10000, 'cvec__min_df': 3, 'cvec__ngram_range': (1, 2)}\n",
      "Best score: 0.6577453433724734\n"
     ]
    }
   ],
   "source": [
    "# Check the results of the grid search\n",
    "print(f\"Best parameters: {gs2.best_params_}\")\n",
    "print(f\"Best score: {gs2.best_score_}\")"
   ]
  },
  {
   "cell_type": "code",
   "execution_count": 70,
   "metadata": {},
   "outputs": [],
   "source": [
    "# Save best model as model_2\n",
    "\n",
    "model_2 = gs2.best_estimator_"
   ]
  },
  {
   "cell_type": "code",
   "execution_count": 71,
   "metadata": {},
   "outputs": [
    {
     "name": "stdout",
     "output_type": "stream",
     "text": [
      "Logistic Regression Model\n",
      "Accuracy on train set: 0.7604266769171631\n",
      "Accuracy on validate set: 0.6781322059953881\n",
      "\n",
      "Naive Bayes Model\n",
      "Accuracy on train set: 0.6883528733423026\n",
      "Accuracy on validate set: 0.6593005380476556\n"
     ]
    }
   ],
   "source": [
    "# Score model on training set & validate set\n",
    "print(f\"Logistic Regression Model\")\n",
    "print(f\"Accuracy on train set: {model_1.score(X_trainsub_clean, y_trainsub)}\")\n",
    "print(f\"Accuracy on validate set: {model_1.score(X_validate_clean, y_validate)}\")\n",
    "print()\n",
    "print(f\"Naive Bayes Model\")\n",
    "print(f\"Accuracy on train set: {model_2.score(X_trainsub_clean, y_trainsub)}\")\n",
    "print(f\"Accuracy on validate set: {model_2.score(X_validate_clean, y_validate)}\")"
   ]
  },
  {
   "cell_type": "markdown",
   "metadata": {},
   "source": [
    "The Naive Bayes model is overfitted on the train data, with lower validate accuracy compared to the train accuracy. It doesn't appear to be performing better than the logistic regression model, with a lower validate accuracy. However, compared to the logistic regression model, it has a smaller overfit (approx. 3% overfit). \n",
    "\n",
    "We review the sensitivity and specificity, and roc_auc scores next."
   ]
  },
  {
   "cell_type": "code",
   "execution_count": 72,
   "metadata": {},
   "outputs": [
    {
     "data": {
      "text/html": [
       "<div>\n",
       "<style scoped>\n",
       "    .dataframe tbody tr th:only-of-type {\n",
       "        vertical-align: middle;\n",
       "    }\n",
       "\n",
       "    .dataframe tbody tr th {\n",
       "        vertical-align: top;\n",
       "    }\n",
       "\n",
       "    .dataframe thead th {\n",
       "        text-align: right;\n",
       "    }\n",
       "</style>\n",
       "<table border=\"1\" class=\"dataframe\">\n",
       "  <thead>\n",
       "    <tr style=\"text-align: right;\">\n",
       "      <th></th>\n",
       "      <th>pred non-bomb</th>\n",
       "      <th>pred bomb</th>\n",
       "    </tr>\n",
       "  </thead>\n",
       "  <tbody>\n",
       "    <tr>\n",
       "      <th>Actual non-bomb</th>\n",
       "      <td>1386</td>\n",
       "      <td>1338</td>\n",
       "    </tr>\n",
       "    <tr>\n",
       "      <th>Actual bomb</th>\n",
       "      <td>435</td>\n",
       "      <td>2045</td>\n",
       "    </tr>\n",
       "  </tbody>\n",
       "</table>\n",
       "</div>"
      ],
      "text/plain": [
       "                 pred non-bomb  pred bomb\n",
       "Actual non-bomb           1386       1338\n",
       "Actual bomb                435       2045"
      ]
     },
     "execution_count": 72,
     "metadata": {},
     "output_type": "execute_result"
    }
   ],
   "source": [
    "# Confusion matrix on the first naive bayes model\n",
    "# Pass in true values, predicted values to confusion matrix\n",
    "# Convert Confusion matrix into dataframe\n",
    "# Positive class (class 1) is googlehome\n",
    "preds2 = gs2.predict(X_validate_clean)\n",
    "cm = confusion_matrix(y_validate, preds2)\n",
    "cm_df = pd.DataFrame(cm,columns=['pred non-bomb','pred bomb'], index=['Actual non-bomb','Actual bomb'])\n",
    "cm_df"
   ]
  },
  {
   "cell_type": "code",
   "execution_count": 73,
   "metadata": {},
   "outputs": [],
   "source": [
    "# return nparray as a 1-D array.\n",
    "confusion_matrix(y_validate, preds2).ravel()\n",
    "# Save TN/FP/FN/TP values.\n",
    "tn, fp, fn, tp = confusion_matrix(y_validate,preds2).ravel()"
   ]
  },
  {
   "cell_type": "code",
   "execution_count": 74,
   "metadata": {},
   "outputs": [
    {
     "name": "stdout",
     "output_type": "stream",
     "text": [
      "Specificity: 0.5088\n",
      "Sensitivity: 0.8246\n"
     ]
    }
   ],
   "source": [
    "# Summary of metrics for naive bayes model\n",
    "spec = tn/(tn+fp)\n",
    "sens = tp/(tp+fn)\n",
    "print(f\"Specificity: {round(spec,4)}\")\n",
    "print(f\"Sensitivity: {round(sens,4)}\")"
   ]
  },
  {
   "cell_type": "code",
   "execution_count": 75,
   "metadata": {},
   "outputs": [
    {
     "data": {
      "text/html": [
       "<div>\n",
       "<style scoped>\n",
       "    .dataframe tbody tr th:only-of-type {\n",
       "        vertical-align: middle;\n",
       "    }\n",
       "\n",
       "    .dataframe tbody tr th {\n",
       "        vertical-align: top;\n",
       "    }\n",
       "\n",
       "    .dataframe thead th {\n",
       "        text-align: right;\n",
       "    }\n",
       "</style>\n",
       "<table border=\"1\" class=\"dataframe\">\n",
       "  <thead>\n",
       "    <tr style=\"text-align: right;\">\n",
       "      <th></th>\n",
       "      <th>validate_values</th>\n",
       "      <th>pred_probs</th>\n",
       "    </tr>\n",
       "  </thead>\n",
       "  <tbody>\n",
       "    <tr>\n",
       "      <th>11714</th>\n",
       "      <td>0</td>\n",
       "      <td>0.858199</td>\n",
       "    </tr>\n",
       "    <tr>\n",
       "      <th>6933</th>\n",
       "      <td>1</td>\n",
       "      <td>0.858199</td>\n",
       "    </tr>\n",
       "    <tr>\n",
       "      <th>21031</th>\n",
       "      <td>0</td>\n",
       "      <td>0.114334</td>\n",
       "    </tr>\n",
       "    <tr>\n",
       "      <th>29689</th>\n",
       "      <td>0</td>\n",
       "      <td>0.991767</td>\n",
       "    </tr>\n",
       "    <tr>\n",
       "      <th>25274</th>\n",
       "      <td>0</td>\n",
       "      <td>0.002280</td>\n",
       "    </tr>\n",
       "  </tbody>\n",
       "</table>\n",
       "</div>"
      ],
      "text/plain": [
       "       validate_values  pred_probs\n",
       "11714                0    0.858199\n",
       "6933                 1    0.858199\n",
       "21031                0    0.114334\n",
       "29689                0    0.991767\n",
       "25274                0    0.002280"
      ]
     },
     "execution_count": 75,
     "metadata": {},
     "output_type": "execute_result"
    }
   ],
   "source": [
    "# To visualize the ROC AUC curve, first\n",
    "# Create a dataframe called pred_df that contains:\n",
    "# 1. The list of true values of our test set.\n",
    "# 2. The list of predicted probabilities based on our model.\n",
    "\n",
    "pred_proba = [i[1] for i in gs2.predict_proba(X_validate_clean)]\n",
    "\n",
    "pred_df = pd.DataFrame({'validate_values': y_validate,\n",
    "                        'pred_probs':pred_proba})\n",
    "pred_df.head()"
   ]
  },
  {
   "cell_type": "code",
   "execution_count": 77,
   "metadata": {},
   "outputs": [
    {
     "data": {
      "text/plain": [
       "0.7272474953815546"
      ]
     },
     "execution_count": 77,
     "metadata": {},
     "output_type": "execute_result"
    }
   ],
   "source": [
    "# Calculate ROC AUC.\n",
    "roc_auc_score(pred_df['validate_values'],pred_df['pred_probs'])"
   ]
  },
  {
   "cell_type": "code",
   "execution_count": 78,
   "metadata": {},
   "outputs": [
    {
     "data": {
      "image/png": "[encoded data removed]",
      "text/plain": [
       "<Figure size 720x504 with 1 Axes>"
      ]
     },
     "metadata": {},
     "output_type": "display_data"
    }
   ],
   "source": [
    "#Create figure\n",
    "plt.figure(figsize = (10,7))\n",
    "\n",
    "# Create threshold values. (Dashed blue line in plot.)\n",
    "thresholds = np.linspace(0, 1, 200)\n",
    "\n",
    "# Define function to calculate sensitivity. (True positive rate.)\n",
    "def TPR(df, true_col, pred_prob_col, threshold):\n",
    "    true_positive = df[(df[true_col] == 1) & (df[pred_prob_col] >= threshold)].shape[0]\n",
    "    false_negative = df[(df[true_col] == 1) & (df[pred_prob_col] < threshold)].shape[0]\n",
    "    return true_positive / (true_positive + false_negative)\n",
    "    \n",
    "# Define function to calculate 1 - specificity. (False positive rate.)\n",
    "def FPR(df, true_col, pred_prob_col, threshold):\n",
    "    true_negative = df[(df[true_col] == 0) & (df[pred_prob_col] <= threshold)].shape[0]\n",
    "    false_positive = df[(df[true_col] == 0) & (df[pred_prob_col] > threshold)].shape[0]\n",
    "    return 1 - (true_negative / (true_negative + false_positive))\n",
    "    \n",
    "# Calculate sensitivity & 1-specificity for each threshold between 0 and 1.\n",
    "tpr_values = [TPR(pred_df, 'validate_values', 'pred_probs', prob) for prob in thresholds]\n",
    "fpr_values = [FPR(pred_df, 'validate_values', 'pred_probs', prob) for prob in thresholds]\n",
    "\n",
    "# Plot ROC curve.\n",
    "plt.plot(fpr_values, # False Positive Rate on X-axis\n",
    "         tpr_values, # True Positive Rate on Y-axis\n",
    "         label='ROC Curve')\n",
    "\n",
    "# Plot baseline. (Perfect overlap between the two populations.)\n",
    "plt.plot(np.linspace(0, 1, 200),\n",
    "         np.linspace(0, 1, 200),\n",
    "         label='baseline',\n",
    "         linestyle='--')\n",
    "\n",
    "# Label axes.\n",
    "plt.title(f'ROC Curve with AUC = {round(roc_auc_score(pred_df[\"validate_values\"], pred_df[\"pred_probs\"]),4)}', fontsize=22)\n",
    "plt.ylabel('Sensitivity', fontsize=18)\n",
    "plt.xlabel('1 - Specificity', fontsize=18)\n",
    "\n",
    "# Create legend.\n",
    "plt.legend(fontsize=16);"
   ]
  },
  {
   "cell_type": "markdown",
   "metadata": {},
   "source": [
    "The roc_auc of the Naive Bayes model is slightly lower (approx. 2%) than that of logistic regression model."
   ]
  },
  {
   "cell_type": "code",
   "execution_count": 79,
   "metadata": {},
   "outputs": [
    {
     "data": {
      "text/html": [
       "<div>\n",
       "<style scoped>\n",
       "    .dataframe tbody tr th:only-of-type {\n",
       "        vertical-align: middle;\n",
       "    }\n",
       "\n",
       "    .dataframe tbody tr th {\n",
       "        vertical-align: top;\n",
       "    }\n",
       "\n",
       "    .dataframe thead th {\n",
       "        text-align: right;\n",
       "    }\n",
       "</style>\n",
       "<table border=\"1\" class=\"dataframe\">\n",
       "  <thead>\n",
       "    <tr style=\"text-align: right;\">\n",
       "      <th></th>\n",
       "      <th>LogReg</th>\n",
       "      <th>NB</th>\n",
       "    </tr>\n",
       "  </thead>\n",
       "  <tbody>\n",
       "    <tr>\n",
       "      <th>accuracy</th>\n",
       "      <td>0.6781</td>\n",
       "      <td>0.6593</td>\n",
       "    </tr>\n",
       "    <tr>\n",
       "      <th>specificity</th>\n",
       "      <td>0.5187</td>\n",
       "      <td>0.5088</td>\n",
       "    </tr>\n",
       "    <tr>\n",
       "      <th>sensitivity</th>\n",
       "      <td>0.8512</td>\n",
       "      <td>0.8246</td>\n",
       "    </tr>\n",
       "    <tr>\n",
       "      <th>roc_auc</th>\n",
       "      <td>0.7460</td>\n",
       "      <td>0.7272</td>\n",
       "    </tr>\n",
       "  </tbody>\n",
       "</table>\n",
       "</div>"
      ],
      "text/plain": [
       "             LogReg      NB\n",
       "accuracy     0.6781  0.6593\n",
       "specificity  0.5187  0.5088\n",
       "sensitivity  0.8512  0.8246\n",
       "roc_auc      0.7460  0.7272"
      ]
     },
     "execution_count": 79,
     "metadata": {},
     "output_type": "execute_result"
    }
   ],
   "source": [
    "# Summary of Model scores in Dataframe\n",
    "summary_df = pd.DataFrame({'accuracy' : [0.6781, 0.6593],\n",
    "                          'specificity' : [0.5187, 0.5088],\n",
    "                          'sensitivity' : [0.8512, 0.8246],\n",
    "                          'roc_auc' : [0.7460, 0.7272]})\n",
    "# Transpose dataframe\n",
    "summary_dft = summary_df.T\n",
    "# Rename columns\n",
    "summary_dft.columns = ['LogReg','NB']\n",
    "summary_dft"
   ]
  },
  {
   "cell_type": "markdown",
   "metadata": {},
   "source": [
    "Prioritization is on correct classification of bomb attack mode as a misclassified actual bomb attack mode could lead to relatively more dire consequences (more casaulties). In this regard, we would want to pick the model with highest True Positive Rate (sensitivity), for as much correct classification of the bomb attack modes as possible. \n",
    "\n",
    "Considering \n",
    "- both models sensitivity and roc_auc are quite close (within 5%) \n",
    "- logistic regression model can only provide the positive class features (unable to examine the words contributing to negative classification and false negative classification,\n",
    "- NB model can provide both positve and negative class features (false positive and false negative examinable for tuning of model)\n",
    "- we pick the Naive Bayes model as the production model\n",
    "\n",
    "Fit NB model on full train set, test on test set, review misclassified samples, tune the production model."
   ]
  },
  {
   "cell_type": "markdown",
   "metadata": {},
   "source": [
    "### Deeper Look at Production Model (NB model)\n",
    "---\n",
    "For the test accuracy and roc_auc scores, this section examines \n",
    "- model performance on test data\n",
    "- the features that helps with negative (non-bomb) and positive (bomb) classifications,\n",
    "- what could be the features that lead to misclassifications."
   ]
  },
  {
   "cell_type": "code",
   "execution_count": 80,
   "metadata": {},
   "outputs": [],
   "source": [
    "#Initialize an empty list to hold the clean test text.\n",
    "X_train_clean = []\n",
    "\n",
    "# Using whole of train set (i.e. trainsub and validate set)\n",
    "# Instantiate counter.\n",
    "j = 0\n",
    "for text in X_train['motive']:\n",
    "    \"\"\"Convert text to words, then append to X_trainf_clean.\"\"\"\n",
    "    X_train_clean.append(selftext_to_words(text))"
   ]
  },
  {
   "cell_type": "code",
   "execution_count": 81,
   "metadata": {},
   "outputs": [],
   "source": [
    "# using best parameters discovered above in gs2\n",
    "\n",
    "# Instantiate our CountVectorizer\n",
    "cv = CountVectorizer(ngram_range=(1,2),max_df=0.9,min_df=3,max_features=10000)\n",
    "\n",
    "# Fit and transform on whole training data\n",
    "X_train_cleancv = cv.fit_transform(X_train_clean)\n",
    "\n",
    "# Transform test data\n",
    "X_test_cleancv = cv.transform(X_test_clean)"
   ]
  },
  {
   "cell_type": "markdown",
   "metadata": {},
   "source": [
    "---"
   ]
  },
  {
   "cell_type": "code",
   "execution_count": 82,
   "metadata": {},
   "outputs": [
    {
     "name": "stdout",
     "output_type": "stream",
     "text": [
      "Accuracy on whole test set: 0.6733282090699462\n"
     ]
    }
   ],
   "source": [
    "# Instantiate model\n",
    "nb = MultinomialNB()\n",
    "\n",
    "# Fit model on whole training data\n",
    "model = nb.fit(X_train_cleancv,y_train)\n",
    "\n",
    "# Generate predictions from test set\n",
    "predictions = nb.predict(X_test_cleancv)\n",
    "print(f\"Accuracy on whole test set: {model.score(X_test_cleancv, y_test)}\")"
   ]
  },
  {
   "cell_type": "code",
   "execution_count": 83,
   "metadata": {},
   "outputs": [
    {
     "data": {
      "text/html": [
       "<div>\n",
       "<style scoped>\n",
       "    .dataframe tbody tr th:only-of-type {\n",
       "        vertical-align: middle;\n",
       "    }\n",
       "\n",
       "    .dataframe tbody tr th {\n",
       "        vertical-align: top;\n",
       "    }\n",
       "\n",
       "    .dataframe thead th {\n",
       "        text-align: right;\n",
       "    }\n",
       "</style>\n",
       "<table border=\"1\" class=\"dataframe\">\n",
       "  <thead>\n",
       "    <tr style=\"text-align: right;\">\n",
       "      <th></th>\n",
       "      <th>pred non-bomb</th>\n",
       "      <th>pred bomb</th>\n",
       "    </tr>\n",
       "  </thead>\n",
       "  <tbody>\n",
       "    <tr>\n",
       "      <th>Actual non-bomb</th>\n",
       "      <td>1800</td>\n",
       "      <td>1605</td>\n",
       "    </tr>\n",
       "    <tr>\n",
       "      <th>Actual bomb</th>\n",
       "      <td>520</td>\n",
       "      <td>2580</td>\n",
       "    </tr>\n",
       "  </tbody>\n",
       "</table>\n",
       "</div>"
      ],
      "text/plain": [
       "                 pred non-bomb  pred bomb\n",
       "Actual non-bomb           1800       1605\n",
       "Actual bomb                520       2580"
      ]
     },
     "execution_count": 83,
     "metadata": {},
     "output_type": "execute_result"
    }
   ],
   "source": [
    "# Confusion matrix for test set using NB model\n",
    "# Pass in true values, predicted values to confusion matrix\n",
    "# Convert Confusion matrix into dataframe\n",
    "# Positive class (class 1) is bomb\n",
    "cm = confusion_matrix(y_test, predictions)\n",
    "cm_df = pd.DataFrame(cm,columns=['pred non-bomb','pred bomb'], index=['Actual non-bomb','Actual bomb'])\n",
    "cm_df"
   ]
  },
  {
   "cell_type": "code",
   "execution_count": 84,
   "metadata": {},
   "outputs": [
    {
     "name": "stdout",
     "output_type": "stream",
     "text": [
      "Specificity: 0.5286\n",
      "Sensitivity: 0.8323\n"
     ]
    },
    {
     "data": {
      "text/plain": [
       "0.7410603950547108"
      ]
     },
     "execution_count": 84,
     "metadata": {},
     "output_type": "execute_result"
    }
   ],
   "source": [
    "# return nparray as a 1-D array.\n",
    "confusion_matrix(y_test, predictions).ravel()\n",
    "\n",
    "# Save TN/FP/FN/TP values.\n",
    "tn, fp, fn, tp = confusion_matrix(y_test, predictions).ravel()\n",
    "\n",
    "# Summary of metrics for naive bayes model\n",
    "spec = tn/(tn+fp)\n",
    "sens = tp/(tp+fn)\n",
    "print(f\"Specificity: {round(spec,4)}\")\n",
    "print(f\"Sensitivity: {round(sens,4)}\")\n",
    "\n",
    "# To compute the ROC AUC curve, first\n",
    "# Create a dataframe called pred_df that contains:\n",
    "# 1. The list of true values of our test set.\n",
    "# 2. The list of predicted probabilities based on our model.\n",
    "\n",
    "pred_proba = [i[1] for i in nb.predict_proba(X_test_cleancv)]\n",
    "\n",
    "pred_df = pd.DataFrame({'test_values': y_test,\n",
    "                        'pred_probs':pred_proba})\n",
    "\n",
    "# Calculate ROC AUC.\n",
    "print(f\"roc_auc: {round(roc_auc_score(pred_df['test_values'],pred_df['pred_probs']),4)}\")"
   ]
  },
  {
   "cell_type": "code",
   "execution_count": 85,
   "metadata": {},
   "outputs": [
    {
     "data": {
      "text/html": [
       "<div>\n",
       "<style scoped>\n",
       "    .dataframe tbody tr th:only-of-type {\n",
       "        vertical-align: middle;\n",
       "    }\n",
       "\n",
       "    .dataframe tbody tr th {\n",
       "        vertical-align: top;\n",
       "    }\n",
       "\n",
       "    .dataframe thead th {\n",
       "        text-align: right;\n",
       "    }\n",
       "</style>\n",
       "<table border=\"1\" class=\"dataframe\">\n",
       "  <thead>\n",
       "    <tr style=\"text-align: right;\">\n",
       "      <th></th>\n",
       "      <th>Whole Train set</th>\n",
       "      <th>Test set</th>\n",
       "    </tr>\n",
       "  </thead>\n",
       "  <tbody>\n",
       "    <tr>\n",
       "      <th>accuracy</th>\n",
       "      <td>0.6593</td>\n",
       "      <td>0.6733</td>\n",
       "    </tr>\n",
       "    <tr>\n",
       "      <th>specificity</th>\n",
       "      <td>0.5088</td>\n",
       "      <td>0.5286</td>\n",
       "    </tr>\n",
       "    <tr>\n",
       "      <th>sensitivity</th>\n",
       "      <td>0.8246</td>\n",
       "      <td>0.8323</td>\n",
       "    </tr>\n",
       "    <tr>\n",
       "      <th>roc_auc</th>\n",
       "      <td>0.7272</td>\n",
       "      <td>0.7411</td>\n",
       "    </tr>\n",
       "  </tbody>\n",
       "</table>\n",
       "</div>"
      ],
      "text/plain": [
       "             Whole Train set  Test set\n",
       "accuracy              0.6593    0.6733\n",
       "specificity           0.5088    0.5286\n",
       "sensitivity           0.8246    0.8323\n",
       "roc_auc               0.7272    0.7411"
      ]
     },
     "execution_count": 85,
     "metadata": {},
     "output_type": "execute_result"
    }
   ],
   "source": [
    "# Summary of the production NB Model scores in Dataframe\n",
    "summary_df = pd.DataFrame({'accuracy' : [0.6593, 0.6733],\n",
    "                          'specificity' : [0.5088, 0.5286],\n",
    "                          'sensitivity' : [0.8246, 0.8323],\n",
    "                          'roc_auc' : [0.7272, 0.7411]})\n",
    "# Transpose dataframe\n",
    "summary_dft = summary_df.T\n",
    "# Rename columns\n",
    "summary_dft.columns = ['Whole Train set','Test set']\n",
    "summary_dft"
   ]
  },
  {
   "cell_type": "markdown",
   "metadata": {},
   "source": [
    "There is a slight increase in sensitivity (approx. 1%) and roc_auc (approx. 1%) for the test score of the production model. Model does not appear to be overfitted on the whole train dataset, since the test accuracy is higher than accuracy from the whole train set. We review the top features for positive and negative classifications."
   ]
  },
  {
   "cell_type": "code",
   "execution_count": 86,
   "metadata": {},
   "outputs": [],
   "source": [
    "# The Naive Bayes 'feature_log_prob_' is similar to '.coef_ for MultinomialNB' \n",
    "# Utilize this to find the top words (features) in the positive and negative class\n",
    "\n",
    "#prob for positive class\n",
    "pos_class_prob_sorted = nb.feature_log_prob_[1, :].argsort()\n",
    "#prob for negative class\n",
    "neg_class_prob_sorted = nb.feature_log_prob_[0, :].argsort()\n",
    "#getting the top features \n",
    "pos_top_features = np.take(cv.get_feature_names(), pos_class_prob_sorted)\n",
    "neg_top_features = np.take(cv.get_feature_names(), neg_class_prob_sorted)"
   ]
  },
  {
   "cell_type": "code",
   "execution_count": 87,
   "metadata": {},
   "outputs": [
    {
     "name": "stdout",
     "output_type": "stream",
     "text": [
      "['bangla' 'asg demand' 'maoist believ' 'to suspend' 'as upon' 'cloth'\n",
      " 'suspend oper' 'as suicid' 'as sectarian' 'to treat' 'of start'\n",
      " 'as protest' 'maoist accus' 'to util' 'to violenc' 'maoist abduct'\n",
      " 'close of' 'maoist chand' 'intent to' 'of tauseef' 'of theft'\n",
      " 'impetu for' 'impetu' 'follow citizen' 'follow militari'\n",
      " 'assail allegedli' 'to south' 'prosecut main' 'assail accus' 'romano an'\n",
      " 'aspir for' 'class' 'ask to' 'ask them' 'eight demand' 'follow their'\n",
      " 'to speak' 'nigeria presidenti' 'prosecut' 'collabor of' 'rwanda fdlr'\n",
      " 'eggon commun' 'man wa' 'promot within' 'supremacist narr' 'treason'\n",
      " 'treat' 'tree' 'man for' 'suprem court']\n"
     ]
    }
   ],
   "source": [
    "# List of top 50 words that helps in 'bomb' (positive) classification\n",
    "print(pos_top_features[:50])"
   ]
  },
  {
   "cell_type": "code",
   "execution_count": 88,
   "metadata": {},
   "outputs": [
    {
     "name": "stdout",
     "output_type": "stream",
     "text": [
      "['properti belong' 'birth an' 'birth' 'qud' 'rahami' 'rakhin includ'\n",
      " 'beyond' 'birthday of' 'receiv support' 'referendum which' 'reflect on'\n",
      " 'reinstat apartheid' 'rel littl' 'religi figur' 'remain unansw'\n",
      " 'recent violenc' 'public trust' 'public confid' 'provinc howev'\n",
      " 'price and' 'box match' 'prior furthermor' 'bomb target' 'bomb occur'\n",
      " 'bomb may' 'bomb had' 'pro unit' 'bomb at' 'filanbanco had' 'blown up'\n",
      " 'protest dure' 'protest republ' 'provinc face' 'blast wa' 'replac it'\n",
      " 'report thi' 'resist and' 'befor corsica' 'school becaus' 'school if'\n",
      " 'sdla' 'sdla claim' 'second year' 'sectarian and' 'secur campaign'\n",
      " 'be fight' 'be blown' 'seek vengeanc' 'seguimento' 'seguimento spain']\n"
     ]
    }
   ],
   "source": [
    "# List of top 50 words that helps in 'non-bomb' (negative) classification\n",
    "print(neg_top_features[:50])"
   ]
  },
  {
   "cell_type": "markdown",
   "metadata": {},
   "source": [
    "### Review Misclassified samples (NB model)"
   ]
  },
  {
   "cell_type": "markdown",
   "metadata": {},
   "source": [
    "Recap on the false classifications:\n",
    "\n",
    "**False Positive**: Predicted as bomb post but is actually non-bomb attack mode.\n",
    "**False Negative**: Predicted as non-bomb post but is actually bomb attack mode. \n",
    "To gain insights into what are the words that led to misclassification of attack mode, we further compare the words with the list of words that are strongly associated with the correct classes. \n",
    "\n",
    "Compare common words in :\n",
    "- false positive with the words in true positive class,\n",
    "- false negative with the words in true negative class"
   ]
  },
  {
   "cell_type": "code",
   "execution_count": 89,
   "metadata": {},
   "outputs": [
    {
     "data": {
      "text/html": [
       "<div>\n",
       "<style scoped>\n",
       "    .dataframe tbody tr th:only-of-type {\n",
       "        vertical-align: middle;\n",
       "    }\n",
       "\n",
       "    .dataframe tbody tr th {\n",
       "        vertical-align: top;\n",
       "    }\n",
       "\n",
       "    .dataframe thead th {\n",
       "        text-align: right;\n",
       "    }\n",
       "</style>\n",
       "<table border=\"1\" class=\"dataframe\">\n",
       "  <thead>\n",
       "    <tr style=\"text-align: right;\">\n",
       "      <th></th>\n",
       "      <th>bomb</th>\n",
       "      <th>predicted_bomb</th>\n",
       "      <th>motive</th>\n",
       "    </tr>\n",
       "  </thead>\n",
       "  <tbody>\n",
       "    <tr>\n",
       "      <th>15319</th>\n",
       "      <td>1</td>\n",
       "      <td>1</td>\n",
       "      <td>the specif motiv for the attack is unknown</td>\n",
       "    </tr>\n",
       "    <tr>\n",
       "      <th>13349</th>\n",
       "      <td>0</td>\n",
       "      <td>0</td>\n",
       "      <td>the headmast wa taken hostag in order to forc ...</td>\n",
       "    </tr>\n",
       "    <tr>\n",
       "      <th>18915</th>\n",
       "      <td>1</td>\n",
       "      <td>0</td>\n",
       "      <td>the specif motiv for the attack is unknown how...</td>\n",
       "    </tr>\n",
       "    <tr>\n",
       "      <th>15320</th>\n",
       "      <td>1</td>\n",
       "      <td>1</td>\n",
       "      <td>the specif motiv for the attack is unknown</td>\n",
       "    </tr>\n",
       "    <tr>\n",
       "      <th>5501</th>\n",
       "      <td>0</td>\n",
       "      <td>0</td>\n",
       "      <td>the attack wa meant to assassin the governor o...</td>\n",
       "    </tr>\n",
       "  </tbody>\n",
       "</table>\n",
       "</div>"
      ],
      "text/plain": [
       "       bomb  predicted_bomb                                             motive\n",
       "15319     1               1         the specif motiv for the attack is unknown\n",
       "13349     0               0  the headmast wa taken hostag in order to forc ...\n",
       "18915     1               0  the specif motiv for the attack is unknown how...\n",
       "15320     1               1         the specif motiv for the attack is unknown\n",
       "5501      0               0  the attack wa meant to assassin the governor o..."
      ]
     },
     "execution_count": 89,
     "metadata": {},
     "output_type": "execute_result"
    }
   ],
   "source": [
    "# Pass y_test (pandas series) into dataframe first\n",
    "# in order to use the original selftext indexes for traceability\n",
    "actual = pd.Series(y_test)\n",
    "df_rvw = actual.to_frame()\n",
    "\n",
    "# Create column of predicted classes from Naive Bayes model\n",
    "df_rvw['predicted_bomb'] = predictions\n",
    "\n",
    "# Include the selftext data\n",
    "df_rvw['motive'] = X_test_clean\n",
    "\n",
    "# Review the dataframe\n",
    "df_rvw.head()"
   ]
  },
  {
   "cell_type": "code",
   "execution_count": 90,
   "metadata": {},
   "outputs": [
    {
     "data": {
      "text/plain": [
       "Int64Index([18915,  8515, 13471,  8642,    88,  1767, 11863,  3922,   126,\n",
       "            19346,\n",
       "            ...\n",
       "             2311, 15827, 20020, 13124, 13614, 14932, 14740,  4135, 30284,\n",
       "             7187],\n",
       "           dtype='int64', length=2125)"
      ]
     },
     "execution_count": 90,
     "metadata": {},
     "output_type": "execute_result"
    }
   ],
   "source": [
    "# Index of misclassified classes\n",
    "row_ids = df_rvw[df_rvw['bomb'] != df_rvw['predicted_bomb']].index\n",
    "row_ids"
   ]
  },
  {
   "cell_type": "code",
   "execution_count": 91,
   "metadata": {},
   "outputs": [],
   "source": [
    "# Create sub-dataframes of false positive and false negative classifications\n",
    "df_msc = pd.DataFrame(df_rvw[df_rvw['bomb'] != df_rvw['predicted_bomb']])\n",
    "df_fp = pd.DataFrame(df_msc.loc[df_msc['predicted_bomb'] == 0])\n",
    "df_fn = pd.DataFrame(df_msc.loc[df_msc['predicted_bomb'] == 1])"
   ]
  },
  {
   "cell_type": "code",
   "execution_count": 92,
   "metadata": {},
   "outputs": [],
   "source": [
    "# Empty list to hold false positive words\n",
    "fp_words = []\n",
    "# Split string in false positive selftext to individual words\n",
    "# Populate the empty list\n",
    "for i in df_fp.index:\n",
    "    words = df_fp['motive'][i].split()\n",
    "    fp_words.extend(words)"
   ]
  },
  {
   "cell_type": "code",
   "execution_count": 93,
   "metadata": {},
   "outputs": [],
   "source": [
    "# Empty list to hold false negative words\n",
    "fn_words = []\n",
    "# Split string in false positive selftext to individual words\n",
    "# Populate the empty list\n",
    "for i in df_fn.index:\n",
    "    words = df_fn['motive'][i].split()\n",
    "    fn_words.extend(words)"
   ]
  },
  {
   "cell_type": "code",
   "execution_count": 94,
   "metadata": {},
   "outputs": [],
   "source": [
    "# Convert numpy array of words stongly associated with bomb text into a list\n",
    "pos_list = pos_top_features.tolist()\n",
    "# Convert numpy array of words stongly associated with non-bomb text into a list\n",
    "neg_list = neg_top_features.tolist()"
   ]
  },
  {
   "cell_type": "code",
   "execution_count": 95,
   "metadata": {},
   "outputs": [
    {
     "name": "stdout",
     "output_type": "stream",
     "text": [
      "{'heed', 'warn', 'util', 'rural', 'egyptian', 'child', 'suspens', 'cpn', 'aqim', 'serb', 'work', 'libya', 'jammu', 'balochi', 'ideal', 'tamil', 'morsi', 'respond', 'barack', 'second', 'houthi', 'belief', 'russian', 'fulfil', 'european', 'bu', 'arabian', 'mobil', 'news', 'mean', 'island', 'infertil', 'help', 'muslim', 'individu', 'remov', 'syria', 'suspicion', 'amid', 'enter', 'than', 'obama', 'clash', 'unclear', 'blast', 'link', 'leader', 'fellow', 'did', 'south', 'reduct', 'possibl', 'run', 'peshmerga', 'destabil', 'cephesi', 'florida', 'rebel', 'furthermor', 'civilian', 'drive', 'as', 'nepali', 'allegedli', 'off', 'implement', 'past', 'cite', 'man', 'seen', 'block', 'haq', 'regim', 'anoth', 'milit', 'hous', 'gave', 'faction', 'coerc', 'spokesman', 'martyr', 'poster', 'no', 'pro', 'taliban', 'wa', 'illeg', 'activ', 'garo', 'distract', 'mend', 'kenyan', 'jihad', 'explos', 'polici', 'even', 'serv', 'basqu', 'milf', 'negoti', 'although', 'actual', 'issu', 'evid', 'equip', 'chapter', 'ha', 'front', 'sheikh', 'british', 'base', 'intend', 'written', 'price', 'by', 'insult', 'resist', 'point', 'sunni', 'dismiss', 'central', 'refer', 'dissatisfact', 'truck', 'least', 'trip', 'jail', 'mujahid', 'product', 'ministri', 'hizbul', 'paper', 'whom', 'peacekeep', 'led', 'unifi', 'volunt', 'betray', 'get', 'attack', 'erad', 'bangladesh', 'leadership', 'hartal', 'engag', 'colombia', 'counterterror', 'innoc', 'thu', 'evacu', 'further', 'haram', 'govern', 'month', 'film', 'opposit', 'denounc', 'incid', 'neo', 'iraqi', 'harm', 'andr', 'ill', 'citizen', 'airstrik', 'owner', 'indian', 'malik', 'certain', 'grand', 'follow', 'supremacist', 'achiev', 'nationalist', 'detail', 'rise', 'ten', 'locat', 'to', 'libyan', 'ii', 'hate', 'search', 'jtmm', 'minor', 'us', 'will', 'him', 'cover', 'produc', 'speaker', 'halk', 'project', 'abu', 'for', 'middl', 'appear', 'complet', 'and', 'financ', 'becaus', 'sell', 'terai', 'soviet', 'elimin', 'day', 'seven', 'afghanistan', 'yemen', 'albanian', 'improv', 'afghan', 'moreov', 'deal', 'particip', 'move', 'littl', 'rel', 'cut', 'yemeni', 'behind', 'patriot', 'punish', 'stole', 'septemb', 'barangay', 'your', 'treatment', 'larger', 'author', 'spanish', 'nazi', 'mine', 'shop', 'provok', 'halt', 'parad', 'imprison', 'gnla', 'indonesian', 'ali', 'oper', 'militia', 'templ', 'key', 'commun', 'arm', 'typic', 'rican', 'turn', 'seizur', 'na', 'marxist', 'ahm', 'injur', 'polic', 'juli', 'countri', 'aqap', 'aqsa', 'on', 'agent', 'anniversari', 'immedi', 'kabul', 'entri', 'detent', 'charli', 'year', 'fbi', 'legal', 'superintend', 'all', 'farmer', 'devrimici', 'media', 'hostil', 'addit', 'republ', 'some', 'enforc', 'french', 'unit', 'suicid', 'situat', 'extens', 'outfit', 'sinai', 'sinc', 'spi', 'despit', 'radic', 'resourc', 'bring', 'fund', 'shabaab', 'mali', 'effort', 'befor', 'fatah', 'kenya', 'host', 'embassi', 'movement', 'call', 'turkey', 'discourag', 'jewish', 'discoveri', 'hotel', 'whether', 'mujao', 'thi', 'histori', 'mayor', 'meant', 'alli', 'establish', 'deputi', 'societi', 'aim', 'protest', 'christian', 'iraq', 'somali', 'europ', 'pakistani', 'gener', 'brotherhood', 'depos', 'assert', 'their', 'control', 'lord', 'york', 'alleg', 'panchayat', 'rule', 'support', 'state', 'suspect', 'soldier', 'graffiti', 'gunmen', 'crusad', 'report', 'over', 'announc', 'guard', 'public', 'carri', 'out', 'omar', 'set', 'took', 'network', 'young', 'june', 'pressur', 'prior', 'peopl', 'court', 'deton', 'about', 'maghreb', 'same', 'ceasefir', 'hebdo', 'arrest', 'wife', 'tribe', 'prostitut', 'ransom', 'ansar', 'sentenc', 'plantat', 'justic', 'reveng', 'grant', 'time', 'sabha', 'member', 'continu', 'extremist', 'human', 'algerian', 'subsidi', 'voter', 'other', 'there', 'ongo', 'bastar', 'town', 'khel', 'hunt', 'who', 'pass', 'regularli', 'good', 'poppi', 'social', 'krishna', 'video', 'shutdown', 'more', 'polit', 'show', 'perceiv', 'highway', 'suggest', 'th', 'green', 'accus', 'vote', 'smuggl', 'khat', 'thailand', 'which', 'school', 'joint', 'assault', 'comment', 'hussein', 'flee', 'religi', 'bank', 'bnp', 'nscn', 'filipino', 'blow', 'india', 'nepal', 'refus', 'pay', 'spring', 'kumar', 'intent', 'fake', 'return', 'fail', 'also', 'missil', 'vaccin', 'financi', 'result', 'famili', 'made', 'maoist', 'organ', 'econom', 'tortur', 'find', 'minist', 'shrine', 'contractor', 'flag', 'februari', 'involv', 'children', 'poll', 'safe', 'factori', 'address', 'corrupt', 'wall', 'been', 'arab', 'disagr', 'citi', 'mr', 'kangleipak', 'heireann', 'shout', 'ethnic', 'group', 'becom', 'releas', 'forc', 'occupi', 'deter', 'shah', 'talk', 'demand', 'polio', 'escal', 'radio', 'previous', 'in', 'sharia', 'emancip', 'singh', 'power', 'respect', 'everi', 'sectarian', 'pose', 'an', 'alia', 'sahwa', 'defens', 'where', 'npa', 'goodluck', 'jonathan', 'have', 'kurtulu', 'most', 'northern', 'inform', 'how', 'whi', 'close', 'eight', 'danger', 'el', 'destroy', 'worker', 'play', 'persuad', 'coalit', 'intern', 'dam', 'tension', 'san', 'plan', 'coup', 'capitalist', 'sultan', 'hama', 'reform', 'rival', 'kurdistan', 'outlet', 'bomb', 'five', 'still', 'pamphlet', 'mass', 'bifm', 'test', 'warfar', 'wealth', 'phase', 'well', 'not', 'take', 'mujahideen', 'back', 'first', 'agreement', 'rao', 'exil', 'investig', 'one', 'threat', 'detaine', 'violenc', 'checkpoint', 'steril', 'al', 'extort', 'islamist', 'articl', 'given', 'cia', 'they', 'sentiment', 'offici', 'claim', 'sanjay', 'lack', 'muttahida', 'beard', 'derna', 'mohammad', 'sabotag', 'be', 'receiv', 'newspap', 'kidnap', 'weekend', 'damag', 'nc', 'assassin', 'allow', 'aveng', 'regard', 'two', 'both', 'facil', 'few', 'iran', 'loss', 'mosqu', 'offic', 'ask', 'build', 'delta', 'go', 'passag', 'exploit', 'came', 'hezbollah', 'propos', 'had', 'women', 'tribal', 'amidst', 'agenc', 'would', 'son', 'boko', 'push', 'unaffili', 'defend', 'strike', 'privat', 'demonstr', 'parti', 'movi', 'look', 'when', 'our', 'troop', 'reject', 'abdullah', 'inspector', 'prayer', 'sulawesi', 'money', 'promin', 'stop', 'ahead', 'octob', 'governor', 'intellig', 'among', 'rage', 'death', 'republican', 'mainstream', 'rs', 'maintain', 'north', 'so', 'west', 'drug', 'separatist', 'view', 'anti', 'campaign', 'compani', 'behalf', 'islam', 'under', 'palestinian', 'separ', 'congress', 'neighborhood', 'multin', 'africa', 'wave', 'nation', 'traffick', 'lankan', 'save', 'those', 'marak', 'monitor', 'ehsan', 'ahrar', 'home', 'name', 'wide', 'contest', 'element', 'crime', 'girl', 'pkk', 'accord', 'democraci', 'black', 'railway', 'orchestr', 'peac', 'ehsanullah', 'reaction', 'tehrik', 'kill', 'land', 'local', 'refuge', 'ttp', 'assembl', 'bomber', 'disrupt', 'question', 'raid', 'disput', 'natur', 'prastuti', 'jharkhand', 'captur', 'algeria', 'cooper', 'chechen', 'ani', 'order', 'music', 'ireland', 'away', 'differ', 'camp', 'brigad', 'trial', 'told', 'practic', 'lok', 'philippin', 'with', 'sexual', 'jagdish', 'subject', 'isil', 'khorasan', 'live', 'labor', 'mountain', 'battalion', 'dusk', 'oglaigh', 'sri', 'insurg', 'leaflet', 'theft', 'is', 'increas', 'jaish', 'fighter', 'start', 'includ', 'mukti', 'meet', 'somalia', 'area', 'self', 'near', 'tiger', 'serbian', 'enemi', 'farc', 'between', 'gain', 'saudi', 'monarchi', 'ga', 'relat', 'especi', 'larg', 'abdallah', 'elect', 'kunduz', 'novemb', 'counter', 'busi', 'shelter', 'less', 'document', 'new', 'director', 'strict', 'freedom', 'spot', 'prepak', 'hill', 'launch', 'solidar', 'vietnam', 'sourc', 'sever', 'ago', 'charg', 'univers', 'attract', 'fundamentalist', 'communist', 'ralli', 'grenad', 'earlier', 'puerto', 'anarchist', 'encount', 'want', 'of', 'anp', 'hinder', 'part', 'airport', 'fear', 'suppli', 'spokesperson', 'yadav', 'jew', 'armi', 'stronghold', 'atroc', 'recent', 'three', 'god', 'sign', 'hi', 'advoc', 'join', 'consist', 'connect', 'pakistan', 'abus', 'contain', 'foreign', 'mqm', 'qa', 'down', 'dawn', 'taiba', 'contract', 'road', 'bargain', 'council', 'from', 'process', 'decis', 'irish', 'are', 'southern', 'third', 'ban', 'agre', 'we', 'prison', 'open', 'reconcili', 'depart', 'assad', 'held', 'environ', 'eelam', 'instruct', 'particularli', 'purportedli', 'site', 'execut', 'brother', 'caus', 'paul', 'nicaragua', 'stori', 'bandh', 'liber', 'against', 'guerrilla', 'mani', 'bridg', 'muhammad', 'war', 'peninsula', 'lead', 'plant', 'expos', 'huthi', 'colombian', 'due', 'safeti', 'co', 'allegi', 'bangsamoro', 'toward', 'kashmir', 'associ', 'morcha', 'ahl', 'levant', 'america', 'victim', 'committe', 'critic', 'through', 'visit', 'chief', 'program', 'presid', 'act', 'resign', 'ltte', 'muammar', 'retribut', 'them', 'unrest', 'perpetr', 'payment', 'similar', 'qaida', 'restaur', 'task', 'case', 'draft', 'believ', 'while', 'import', 'decemb', 'espionag', 'poor', 'form', 'april', 'lawmak', 'ugandan', 'predominantli', 'telecommun', 'now', 'violent', 'unknown', 'waziristan', 'distribut', 'abdul', 'strategi', 'let', 'militari', 'action', 'agenda', 'bihar', 'provid', 'oil', 'maulana', 'leagu', 'hassan', 'shia', 'sympath', 'fuel', 'schedul', 'scene', 'target', 'islami', 'motiv', 'escort', 'hope', 'franc', 'non', 'specul', 'robberi', 'develop', 'bashar', 'firm', 'assail', 'failur', 'nationwid', 'face', 'could', 'use', 'anwar', 'recruit', 'headquart', 'law', 'personnel', 'dhkp', 'sudan', 'tourism', 'east', 'life', 'celebr', 'post', 'resid', 'castro', 'like', 'string', 'sub', 'reason', 'conduct', 'terrorist', 'week', 'said', 'feder', 'bashir', 'blockad', 'right', 'threaten', 'protect', 'express', 'master', 'offens', 'olymp', 'unless', 'aid', 'inspir', 'food', 'construct', 'educ', 'shiit', 'priest', 'attent', 'teach', 'send', 'district', 'goal', 'until', 'properti', 'put', 'attempt', 'command', 'howev', 'inaugur', 'tripoli', 'haftar', 'pledg', 'taken', 'interest', 'eln', 'letter', 'instead', 'ram', 'weaken', 'strife', 'chand', 'indic', 'declar', 'divert', 'free', 'treati', 'white', 'describ', 'after', 'balochistan', 'allianc', 'symbol', 'hm', 'prepar', 'mission', 'secur', 'suprem', 'within', 'nigerian', 'major', 'way', 'phone', 'awami', 'were', 'moham', 'ul', 'abort', 'revolutionari', 'left', 'instabl', 'tax', 'parliamentari', 'affili', 'step', 'tri', 'apost', 'ida', 'extradit', 'into', 'sought', 'servic', 'activist', 'industri', 'suffer', 'note', 'languag', 'januari', 'candid', 'restor', 'woman', 'german', 'desir', 'kosovo', 'sunnat', 'conflict', 'cpi', 'employe', 'if', 'tactic', 'khan', 'prophet', 'musab', 'place', 'popul', 'african', 'injustic', 'saw', 'themselv', 'jamaat', 'teacher', 'pipelin', 'retaliatori', 'hold', 'un', 'fate', 'isra', 'municip', 'that', 'baloch', 'train', 'bra', 'region', 'retali', 'corpor', 'sympathet', 'oppos', 'may', 'end', 'american', 'instal', 'seek', 'niger', 'ucpn', 'sayyaf', 'leav', 'head', 'journalist', 'race', 'but', 'trend', 'mistreat', 'elder', 'occur', 'shut', 'staff', 'unfair', 'date', 'august', 'gaya', 'parliament', 'preach', 'ukrainian', 'hour', 'sit', 'make', 'david', 'barqa', 'union', 'sanaa', 'stand', 'nigeria', 'prevent', 'intimid', 'convoy', 'former', 'bara', 'futur', 'controversi', 'march', 'capit', 'blame', 'posit', 'mosul', 'villag', 'church', 'moder', 'blood', 'cleric', 'qaumi', 'baghdad', 'western', 'fazlullah', 'chhattisgarh', 'respons', 'fire', 'asg', 'night', 'virginia', 'tie', 'pre', 'kandahar', 'person', 'gun', 'job', 'presenc', 'or', 'haqqani', 'frequent', 'presidenti', 'store', 'janatantrik', 'trade', 'known', 'gaddafi', 'anger', 'design', 'invest', 'station', 'quit', 'manipur', 'loyalist', 'oppress', 'mandat', 'fight', 'hit', 'cultur', 'sent', 'zone', 'allah', 'bla', 'previou', 'spread', 'at', 'karuna', 'spike', 'hand', 'bodi', 'ppp', 'consid', 'tool', 'bengal', 'transport', 'discov', 'men', 'defeat', 'paid', 'specif', 'share', 'sufi', 'nuclear', 'condemn', 'up', 'constitu', 'wed', 'upcom', 'commit', 'reserv', 'intensifi', 'accept', 'draw', 'often', 'promis', 'israel', 'publish', 'racial', 'he', 'ceremoni', 'nawaz', 'dure', 'shot', 'rank', 'independ', 'provinc', 'it', 'oust', 'secular', 'indonesia', 'lashkar', 'identifi'}\n"
     ]
    }
   ],
   "source": [
    "# Print the words that likely contributed to false positive classification\n",
    "print(set(fp_words) & set(pos_list))"
   ]
  },
  {
   "cell_type": "code",
   "execution_count": 96,
   "metadata": {},
   "outputs": [
    {
     "name": "stdout",
     "output_type": "stream",
     "text": [
      "{'heed', 'warn', 'histor', 'governor', 'pakistani', 'turkish', 'intellig', 'auster', 'gener', 'east', 'ite', 'among', 'rage', 'life', 'celebr', 'death', 'republican', 'assert', 'egyptian', 'maintain', 'their', 'post', 'control', 'resid', 'north', 'so', 'calcul', 'string', 'pattani', 'work', 'libya', 'york', 'west', 'jammu', 'arabia', 'statement', 'arafat', 'laden', 'alleg', 'panchayat', 'drug', 'separatist', 'burn', 'support', 'tamil', 'campaign', 'anti', 'mazioti', 'islam', 'cotabato', 'divis', 'morsi', 'belt', 'state', 'conduct', 'pij', 'second', 'belief', 'week', 'suspect', 'soldier', 'russian', 'rohingya', 'said', 'pattern', 'desh', 'feder', 'direct', 'palestinian', 'under', 'blockad', 'sweep', 'separ', 'report', 'over', 'arabian', 'congress', 'neighborhood', 'threaten', 'oklahoma', 'protect', 'news', 'express', 'wave', 'offens', 'interior', 'colleg', 'nation', 'announc', 'newli', 'chang', 'guard', 'public', 'carri', 'muslim', 'out', 'aid', 'stanc', 'myanmar', 'those', 'individu', 'remov', 'immigr', 'sindh', 'chines', 'construct', 'sindhu', 'ehsan', 'took', 'educ', 'shiit', 'syria', 'network', 'home', 'attent', 'teach', 'booth', 'send', 'wide', 'amid', 'district', 'name', 'pressur', 'prove', 'until', 'dozen', 'properti', 'attempt', 'crime', 'prior', 'peopl', 'violat', 'court', 'command', 'suresh', 'greek', 'autonomi', 'than', 'saint', 'howev', 'aqlim', 'pkk', 'clash', 'same', 'maghreb', 'about', 'prosecutor', 'moro', 'hindu', 'unclear', 'pledg', 'link', 'black', 'air', 'arrest', 'hazara', 'peac', 'ehsanullah', 'leader', 'weaken', 'south', 'strife', 'ansar', 'declar', 'appoint', 'repress', 'tehrik', 'divert', 'kill', 'indic', 'plantat', 'land', 'local', 'onc', 'ttp', 'coordin', 'assembl', 'possibl', 'free', 'bomber', 'disrupt', 'reveng', 'format', 'after', 'raid', 'white', 'time', 'long', 'top', 'just', 'natur', 'balochistan', 'allianc', 'member', 'destabil', 'continu', 'extremist', 'figur', 'rebel', 'mission', 'stem', 'unit', 'give', 'prepar', 'furthermor', 'civilian', 'captur', 'algerian', 'drive', 'algeria', 'mapuch', 'lower', 'secur', 'voter', 'paramilitari', 'ani', 'as', 'order', 'though', 'other', 'music', 'jsmm', 'there', 'within', 'sudan', 'major', 'ireland', 'ongo', 'away', 'way', 'camp', 'allegedli', 'phone', 'awami', 'alway', 'brigad', 'town', 'internet', 'were', 'common', 'possess', 'who', 'trial', 'implement', 'border', 'hunt', 'moham', 'practic', 'philippin', 'revolutionari', 'past', 'overthrow', 'left', 'gia', 'cite', 'reclaim', 'youth', 'with', 'man', 'tax', 'rico', 'shutdown', 'more', 'hawijah', 'ghazni', 'step', 'isil', 'tri', 'polit', 'secret', 'russia', 'regim', 'anoth', 'strip', 'apost', 'milit', 'live', 'show', 'perceiv', 'encourag', 'highway', 'labor', 'hous', 'faction', 'ida', 'democrat', 'memori', 'spokesman', 'th', 'expir', 'green', 'salvat', 'murder', 'martyr', 'sri', 'rail', 'no', 'insurg', 'pro', 'lost', 'taliban', 'into', 'sikh', 'wa', 'is', 'illeg', 'box', 'vote', 'malian', 'increas', 'christma', 'fighter', 'distract', 'start', 'mombasa', 'evict', 'kenyan', 'which', 'thailand', 'school', 'pilgrim', 'jihad', 'crisi', 'includ', 'assault', 'polici', 'explos', 'mukti', 'electr', 'withdraw', 'serv', 'fallujah', 'meet', 'note', 'kirkuk', 'measur', 'negoti', 'went', 'although', 'boycott', 'area', 'typic', 'tiger', 'januari', 'am', 'farc', 'fact', 'evid', 'kishan', 'between', 'religi', 'messag', 'jeay', 'gain', 'salafist', 'light', 'bank', 'bnp', 'ha', 'front', 'saudi', 'candid', 'india', 'especi', 'relat', 'nepal', 'ga', 'sheikh', 'elect', 'detain', 'departur', 'base', 'intend', 'main', 'spring', 'price', 'by', 'novemb', 'imperi', 'counter', 'sector', 'say', 'busi', 'interpret', 'sunni', 'conflict', 'central', 'less', 'ihsan', 'refer', 'fail', 'rkk', 'emir', 'employe', 'least', 'purpos', 'ashura', 'new', 'also', 'intervent', 'water', 'complex', 'dine', 'kecil', 'tactic', 'mujahid', 'arson', 'result', 'daili', 'strict', 'revolusi', 'elector', 'famili', 'freedom', 'narathiwat', 'whom', 'invas', 'undermin', 'made', 'musab', 'professor', 'maoist', 'aqi', 'peacekeep', 'led', 'organ', 'place', 'popul', 'launch', 'holi', 'buddhist', 'econom', 'constitut', 'african', 'tortur', 'websit', 'summari', 'influenc', 'minist', 'shrine', 'solidar', 'themselv', 'teacher', 'sourc', 'februari', 'sever', 'approxim', 'involv', 'univers', 'senior', 'split', 'terror', 'poll', 'bin', 'pipelin', 'get', 'attack', 'ramadan', 'bangladesh', 'settler', 'belong', 'earlier', 'pulo', 'effect', 'retaliatori', 'hartal', 'repris', 'corrupt', 'counterterror', 'wall', 'puerto', 'un', 'evacu', 'anarchist', 'nearbi', 'commiss', 'uighur', 'further', 'highlight', 'haram', 'nasion', 'been', 'govern', 'arab', 'jerusalem', 'consequ', 'want', 'month', 'opposit', 'easter', 'incid', 'citi', 'isra', 'iraqi', 'that', 'baloch', 'of', 'train', 'ethnic', 'anp', 'group', 'releas', 'region', 'room', 'forc', 'occupi', 'part', 'fear', 'suppli', 'spokesperson', 'persecut', 'assam', 'talk', 'lanka', 'retali', 'demand', 'oppos', 'tribesmen', 'may', 'escal', 'shaykh', 'american', 'end', 'radio', 'instal', 'jew', 'previous', 'seek', 'in', 'niger', 'armi', 'stronghold', 'devic', 'atroc', 'sharia', 'citizen', 'han', 'recent', 'songkhla', 'airstrik', 'three', 'shepherd', 'leav', 'owner', 'indian', 'head', 'journalist', 'around', 'but', 'singh', 'trend', 'hi', 'mistreat', 'power', 'advoc', 'respect', 'began', 'follow', 'occur', 'happen', 'consist', 'sectarian', 'connect', 'da', 'referendum', 'nationalist', 'pakistan', 'rise', 'popular', 'cairo', 'date', 'to', 'august', 'an', 'foreign', 'karachi', 'niko', 'thought', 'qa', 'mehsud', 'parliament', 'dawn', 'function', 'where', 'jtmm', 'minor', 'hour', 'road', 'stoke', 'npa', 'us', 'statewid', 'have', 'predomin', 'northern', 'mnlf', 'from', 'event', 'process', 'registr', 'thai', 'union', 'observ', 'advanc', 'commemor', 'are', 'nigeria', 'alawit', 'such', 'southern', 'momentum', 'prevent', 'destroy', 'abu', 'for', 'middl', 'intimid', 'we', 'prison', 'civil', 'lebanon', 'worker', 'coalit', 'convoy', 'appear', 'intern', 'and', 'former', 'ulfa', 'reconcili', 'clame', 'becaus', 'creat', 'neg', 'wrote', 'sell', 'terai', 'assad', 'soviet', 'elimin', 'six', 'tension', 'held', 'vehicl', 'day', 'territori', 'seven', 'afghanistan', 'harvest', 'yemen', 'albanian', 'plan', 'femal', 'regist', 'last', 'moreov', 'coup', 'sultan', 'outskirt', 'deal', 'execut', 'particip', 'whose', 'kumpulan', 'come', 'cadr', 'sdla', 'blame', 'rel', 'yemeni', 'reform', 'caus', 'caucasu', 'bomb', 'gaza', 'bandh', 'five', 'liber', 'posit', 'shortli', 'bid', 'against', 'disturb', 'guerrilla', 'villag', 'heighten', 'church', 'muhammad', 'ballot', 'tourist', 'phase', 'deni', 'cleric', 'anticip', 'rais', 'war', 'mahaz', 'septemb', 'peninsula', 'azawad', 'amnesti', 'washington', 'can', 'baghdad', 'lead', 'western', 'larger', 'not', 'chhattisgarh', 'derail', 'plant', 'settlement', 'respons', 'author', 'promot', 'frequenc', 'jamiat', 'due', 'nazi', 'golden', 'italian', 'concern', 'first', 'toward', 'remain', 'shop', 'break', 'investig', 'one', 'coincid', 'period', 'job', 'presenc', 'or', 'kashmir', 'haqqani', 'violenc', 'checkpoint', 'associ', 'al', 'attribut', 'ouster', 'extort', 'frequent', 'indonesian', 'islamist', 'presidenti', 'morcha', 'ali', 'oper', 'mark', 'marin', 'store', 'hurt', 'cell', 'levant', 'america', 'commun', 'they', 'arm', 'discuss', 'trade', 'claim', 'offici', 'sentiment', 'janatantrik', 'affect', 'victim', 'rican', 'committe', 'turn', 'inmat', 'critic', 'muttahida', 'marxist', 'lebanes', 'see', 'festiv', 'nato', 'number', 'known', 'chief', 'institut', 'steven', 'koran', 'yala', 'presid', 'campu', 'sabotag', 'be', 'act', 'polic', 'ltte', 'incit', 'juli', 'design', 'barisan', 'them', 'countri', 'unrest', 'aqap', 'egypt', 'perpetr', 'across', 'exact', 'runda', 'on', 'anniversari', 'four', 'similar', 'station', 'qaida', 'detent', 'gspc', 'believ', 'necessari', 'year', 'abyan', 'newspap', 'confer', 'while', 'suppress', 'damag', 'assassin', 'decemb', 'fight', 'arriv', 'cultur', 'struggl', 'these', 'zone', 'aveng', 'all', 'form', 'onlin', 'indigen', 'salafi', 'april', 'previou', 'need', 'patrol', 'spread', 'media', 'predominantli', 'at', 'two', 'addit', 'republ', 'both', 'comrad', 'few', 'facil', 'karuna', 'spike', 'some', 'enforc', 'french', 'inabl', 'upris', 'confisc', 'suicid', 'mexico', 'now', 'syrian', 'violent', 'unknown', 'brn', 'seri', 'loss', 'waziristan', 'provis', 'consid', 'surround', 'mosqu', 'kind', 'militari', 'offic', 'sinai', 'bengal', 'transport', 'nusrah', 'build', 'later', 'men', 'defeat', 'action', 'specif', 'sufi', 'convent', 'sinc', 'bihar', 'exploit', 'provid', 'nuclear', 'hezbollah', 'came', 'oil', 'despit', 'resourc', 'osama', 'had', 'chairman', 'shia', 'shabaab', 'mali', 'select', 'women', 'schedul', 'student', 'effort', 'tribal', 'zamboanga', 'up', 'amidst', 'itali', 'target', 'befor', 'world', 'would', 'upcom', 'kenya', 'massacr', 'son', 'motiv', 'boko', 'embassi', 'movement', 'call', 'rape', 'found', 'discourag', 'defend', 'non', 'specul', 'explain', 'jewish', 'strike', 'demonstr', 'develop', 'research', 'vow', 'spell', 'often', 'parti', 'shi', 'israel', 'racial', 'he', 'our', 'repres', 'whether', 'dure', 'assail', 'shot', 'fsa', 'prime', 'along', 'thi', 'troop', 'independ', 'bahrain', 'neighbor', 'meant', 'panic', 'provinc', 'it', 'leftist', 'nationwid', 'could', 'deputi', 'prayer', 'money', 'law', 'promin', 'stop', 'secular', 'aim', 'protest', 'random', 'nimr', 'embargo', 'christian', 'discrimin', 'iraq', 'ahead'}\n"
     ]
    }
   ],
   "source": [
    "# Print the words that likely contributed to false negative classification\n",
    "print(set(fn_words) & set(neg_list))"
   ]
  },
  {
   "cell_type": "markdown",
   "metadata": {},
   "source": [
    "The removal of such words could help in reduction of false positives and false negatives. However, there is a limit to how much of these words can be removed. Care should be excercised to not overtune the model such that it loses it's generalizability and ends up with increased false positives and false negatives in the predictions. Explore the effects of removing 100 such words (leading to misclassification) for both false positive and false negative classes.\n"
   ]
  },
  {
   "cell_type": "markdown",
   "metadata": {},
   "source": [
    "Examine effect of model performance with removal of the identified words leading to false classifications?"
   ]
  },
  {
   "cell_type": "code",
   "execution_count": 97,
   "metadata": {},
   "outputs": [],
   "source": [
    "# Create 1st set stopword\n",
    "own_stopfp = ['heed', 'warn', 'util', 'rural', 'egyptian', 'child', 'suspens', 'cpn', 'aqim', 'serb', 'work', 'libya',\\\n",
    "             'jammu', 'balochi', 'ideal', 'tamil', 'morsi', 'respond', 'barack', 'second', 'houthi', 'belief', 'russian',\\\n",
    "             'fulfil', 'european', 'bu', 'arabian', 'mobil', 'news', 'mean', 'island', 'infertil', 'help', 'muslim',\\\n",
    "             'individu', 'remov', 'syria', 'suspicion', 'amid', 'enter', 'than', 'obama', 'clash', 'unclear', 'blast',\\\n",
    "             'link', 'leader', 'fellow', 'did', 'south', 'reduct', 'possibl', 'run', 'peshmerga', 'destabil', 'cephesi',\\\n",
    "             'florida', 'rebel', 'furthermor', 'civilian', 'drive', 'as', 'nepali', 'allegedli', 'off', 'implement',\\\n",
    "             'past', 'cite', 'man', 'seen', 'block', 'haq', 'regim', 'anoth', 'milit', 'hous', 'gave', 'faction',\\\n",
    "             'coerc', 'spokesman', 'martyr', 'poster', 'no', 'pro', 'taliban', 'wa', 'illeg', 'activ', 'garo', 'distract',\\\n",
    "             'mend', 'kenyan', 'jihad', 'explos', 'polici', 'even', 'serv', 'basqu', 'milf', 'negoti']"
   ]
  },
  {
   "cell_type": "code",
   "execution_count": 98,
   "metadata": {},
   "outputs": [],
   "source": [
    "# Create 2nd set stopword\n",
    "own_stopfn = ['heed', 'warn', 'histor', 'governor', 'pakistani', 'turkish', 'intellig', 'auster', 'gener', 'east',\\\n",
    "              'ite', 'among', 'rage', 'life', 'celebr', 'death', 'republican', 'assert', 'egyptian', 'maintain',\\\n",
    "              'their', 'post', 'control', 'resid', 'north', 'so', 'calcul', 'string', 'pattani', 'work', 'libya',\\\n",
    "              'york', 'west', 'jammu', 'arabia', 'statement', 'arafat', 'laden', 'alleg', 'panchayat', 'drug',\\\n",
    "              'separatist', 'burn', 'support', 'tamil', 'campaign', 'anti', 'mazioti', 'islam', 'cotabato', 'divis',\\\n",
    "              'morsi', 'belt', 'state', 'conduct', 'pij', 'second', 'belief', 'week', 'suspect', 'soldier', 'russian',\\\n",
    "              'rohingya', 'said', 'pattern', 'desh', 'feder', 'direct', 'palestinian', 'under', 'blockad', 'sweep',\\\n",
    "              'separ', 'report', 'over', 'arabian', 'congress', 'neighborhood', 'threaten', 'oklahoma', 'protect',\\\n",
    "              'news', 'express', 'wave', 'offens', 'interior', 'colleg', 'nation', 'announc', 'newli', 'chang', 'guard',\\\n",
    "              'public', 'carri', 'muslim', 'out', 'aid', 'stanc', 'myanmar', 'those']"
   ]
  },
  {
   "cell_type": "code",
   "execution_count": 99,
   "metadata": {},
   "outputs": [
    {
     "data": {
      "text/plain": [
       "['out', 'aid', 'stanc', 'myanmar', 'those']"
      ]
     },
     "execution_count": 99,
     "metadata": {},
     "output_type": "execute_result"
    }
   ],
   "source": [
    "# Extend the Stop words\n",
    "s_words.extend(own_stopfp)\n",
    "s_words.extend(own_stopfn)\n",
    "# Check the addition of firstset_words\n",
    "s_words[-5:]"
   ]
  },
  {
   "cell_type": "code",
   "execution_count": 106,
   "metadata": {},
   "outputs": [],
   "source": [
    "def selftext_to_wordsr(motive_text):\n",
    "    \n",
    "    # 1. Remove non-letters.\n",
    "    letters_only = re.sub(\"[^a-zA-Z]\", \" \", motive_text)\n",
    "    \n",
    "    # 2. Split into individual words\n",
    "    words = letters_only.split()\n",
    "    \n",
    "    # 3. In Python, searching a set is much faster than searching\n",
    "    # a list, so convert the stopwords to a set.\n",
    "    stops = set(s_words)\n",
    "\n",
    "    # 5. Remove stopwords.\n",
    "    meaningful_words = [w for w in words if w not in stops]\n",
    "    \n",
    "    # 5.5 Stemming of words\n",
    "    meaningful_words = [p_stemmer.stem(w) for w in words]\n",
    "    \n",
    "    # 6. Join the words back into one string separated by space, \n",
    "    # and return the result\n",
    "    return(\" \".join(meaningful_words))"
   ]
  },
  {
   "cell_type": "code",
   "execution_count": 107,
   "metadata": {},
   "outputs": [],
   "source": [
    "#Initialize an empty list to hold the clean test text.\n",
    "X_train_cleanr = []\n",
    "X_test_cleanr = []\n",
    "\n",
    "# Using whole of train set (i.e. trainsub and validate set)\n",
    "for text in X_train['motive']:\n",
    "    \"\"\"Convert text to words, then append to X_trainf_cleanr.\"\"\"\n",
    "    X_train_cleanr.append(selftext_to_wordsr(text))\n",
    "    \n",
    "# For test set\n",
    "for text in X_test['motive']:\n",
    "    \"\"\"Convert text to words, then append to X_test_cleanr.\"\"\"\n",
    "    X_test_cleanr.append(selftext_to_wordsr(text))"
   ]
  },
  {
   "cell_type": "code",
   "execution_count": 108,
   "metadata": {},
   "outputs": [],
   "source": [
    "# Instantiate our CountVectorizer\n",
    "cv = CountVectorizer(ngram_range=(1,2),max_df=0.9,min_df=3,max_features=10000)\n",
    "\n",
    "# Fit and transform on whole training data\n",
    "X_train_cleancvr = cv.fit_transform(X_train_cleanr)\n",
    "\n",
    "# Transform test data\n",
    "X_test_cleancvr = cv.transform(X_test_cleanr)"
   ]
  },
  {
   "cell_type": "code",
   "execution_count": 122,
   "metadata": {},
   "outputs": [
    {
     "name": "stdout",
     "output_type": "stream",
     "text": [
      "Accuracy on whole test set: 0.6733282090699462\n"
     ]
    }
   ],
   "source": [
    "# Instantiate model\n",
    "nb_prod = MultinomialNB()\n",
    "\n",
    "# Fit model on whole training data\n",
    "model_nbprod = nb_prod.fit(X_train_cleancvr,y_train)\n",
    "\n",
    "# Generate predictions from test set\n",
    "pred_nbprod = nb_prod.predict(X_test_cleancvr)\n",
    "print(f\"Accuracy on whole test set: {model_nbprod.score(X_test_cleancvr, y_test)}\")"
   ]
  },
  {
   "cell_type": "code",
   "execution_count": 123,
   "metadata": {},
   "outputs": [
    {
     "data": {
      "text/html": [
       "<div>\n",
       "<style scoped>\n",
       "    .dataframe tbody tr th:only-of-type {\n",
       "        vertical-align: middle;\n",
       "    }\n",
       "\n",
       "    .dataframe tbody tr th {\n",
       "        vertical-align: top;\n",
       "    }\n",
       "\n",
       "    .dataframe thead th {\n",
       "        text-align: right;\n",
       "    }\n",
       "</style>\n",
       "<table border=\"1\" class=\"dataframe\">\n",
       "  <thead>\n",
       "    <tr style=\"text-align: right;\">\n",
       "      <th></th>\n",
       "      <th>pred non-bomb</th>\n",
       "      <th>pred bomb</th>\n",
       "    </tr>\n",
       "  </thead>\n",
       "  <tbody>\n",
       "    <tr>\n",
       "      <th>Actual non-bomb</th>\n",
       "      <td>1800</td>\n",
       "      <td>1605</td>\n",
       "    </tr>\n",
       "    <tr>\n",
       "      <th>Actual bomb</th>\n",
       "      <td>520</td>\n",
       "      <td>2580</td>\n",
       "    </tr>\n",
       "  </tbody>\n",
       "</table>\n",
       "</div>"
      ],
      "text/plain": [
       "                 pred non-bomb  pred bomb\n",
       "Actual non-bomb           1800       1605\n",
       "Actual bomb                520       2580"
      ]
     },
     "execution_count": 123,
     "metadata": {},
     "output_type": "execute_result"
    }
   ],
   "source": [
    "# Confusion matrix for test set using NB model\n",
    "# Pass in true values, predicted values to confusion matrix\n",
    "# Convert Confusion matrix into dataframe\n",
    "# Positive class (class 1) is googlehome\n",
    "cm = confusion_matrix(y_test, pred_nbprod)\n",
    "cm_df = pd.DataFrame(cm,columns=['pred non-bomb','pred bomb'], index=['Actual non-bomb','Actual bomb'])\n",
    "cm_df"
   ]
  },
  {
   "cell_type": "code",
   "execution_count": 124,
   "metadata": {},
   "outputs": [
    {
     "name": "stdout",
     "output_type": "stream",
     "text": [
      "Specificity: 0.5286\n",
      "Sensitivity: 0.8323\n",
      "roc_auc: 0.7411\n"
     ]
    }
   ],
   "source": [
    "# return nparray as a 1-D array.\n",
    "confusion_matrix(y_test, pred_nbprod).ravel()\n",
    "\n",
    "# Save TN/FP/FN/TP values.\n",
    "tn, fp, fn, tp = confusion_matrix(y_test, pred_nbprod).ravel()\n",
    "\n",
    "# Summary of metrics for naive bayes model\n",
    "spec = tn/(tn+fp)\n",
    "sens = tp/(tp+fn)\n",
    "print(f\"Specificity: {round(spec,4)}\")\n",
    "print(f\"Sensitivity: {round(sens,4)}\")\n",
    "\n",
    "# To compute the ROC AUC curve, first\n",
    "# Create a dataframe called pred_df that contains:\n",
    "# 1. The list of true values of our test set.\n",
    "# 2. The list of predicted probabilities based on our model.\n",
    "\n",
    "pred_proba = [i[1] for i in nb_prod.predict_proba(X_test_cleancvr)]\n",
    "\n",
    "pred_df = pd.DataFrame({'test_values': y_test,\n",
    "                        'pred_probs':pred_proba})\n",
    "\n",
    "# Calculate ROC AUC.\n",
    "print(f\"roc_auc: {round(roc_auc_score(pred_df['test_values'],pred_df['pred_probs']),4)}\")"
   ]
  },
  {
   "cell_type": "code",
   "execution_count": 125,
   "metadata": {},
   "outputs": [
    {
     "data": {
      "text/html": [
       "<div>\n",
       "<style scoped>\n",
       "    .dataframe tbody tr th:only-of-type {\n",
       "        vertical-align: middle;\n",
       "    }\n",
       "\n",
       "    .dataframe tbody tr th {\n",
       "        vertical-align: top;\n",
       "    }\n",
       "\n",
       "    .dataframe thead th {\n",
       "        text-align: right;\n",
       "    }\n",
       "</style>\n",
       "<table border=\"1\" class=\"dataframe\">\n",
       "  <thead>\n",
       "    <tr style=\"text-align: right;\">\n",
       "      <th></th>\n",
       "      <th>NB model</th>\n",
       "      <th>NB model (addn stpwrds removed)</th>\n",
       "    </tr>\n",
       "  </thead>\n",
       "  <tbody>\n",
       "    <tr>\n",
       "      <th>accuracy</th>\n",
       "      <td>0.6733</td>\n",
       "      <td>0.6733</td>\n",
       "    </tr>\n",
       "    <tr>\n",
       "      <th>specificity</th>\n",
       "      <td>0.5286</td>\n",
       "      <td>0.5286</td>\n",
       "    </tr>\n",
       "    <tr>\n",
       "      <th>sensitivity</th>\n",
       "      <td>0.8323</td>\n",
       "      <td>0.8323</td>\n",
       "    </tr>\n",
       "    <tr>\n",
       "      <th>roc_auc</th>\n",
       "      <td>0.7411</td>\n",
       "      <td>0.7411</td>\n",
       "    </tr>\n",
       "  </tbody>\n",
       "</table>\n",
       "</div>"
      ],
      "text/plain": [
       "             NB model  NB model (addn stpwrds removed)\n",
       "accuracy       0.6733                           0.6733\n",
       "specificity    0.5286                           0.5286\n",
       "sensitivity    0.8323                           0.8323\n",
       "roc_auc        0.7411                           0.7411"
      ]
     },
     "execution_count": 125,
     "metadata": {},
     "output_type": "execute_result"
    }
   ],
   "source": [
    "# Summary of the production NB Model scores in Dataframe\n",
    "summary_df = pd.DataFrame({'accuracy' : [0.6733, 0.6733],\n",
    "                          'specificity' : [0.5286, 0.5286],\n",
    "                          'sensitivity' : [0.8323, 0.8323],\n",
    "                          'roc_auc' : [0.7411, 0.7411]})\n",
    "# Transpose dataframe\n",
    "summary_dft = summary_df.T\n",
    "# Rename columns\n",
    "summary_dft.columns = ['NB model','NB model (addn stpwrds removed)']\n",
    "summary_dft"
   ]
  },
  {
   "cell_type": "markdown",
   "metadata": {},
   "source": [
    "The NB model with the 100 misclassed word features removed has negligible effect to the model performance. In this aspect, review the performance of the log reg model as the production model."
   ]
  },
  {
   "cell_type": "code",
   "execution_count": 131,
   "metadata": {},
   "outputs": [
    {
     "name": "stdout",
     "output_type": "stream",
     "text": [
      "Accuracy on whole test set: 0.6898\n"
     ]
    }
   ],
   "source": [
    "# Instantiate model\n",
    "lr_prod = LogisticRegression(random_state=42,solver='lbfgs',max_iter=500)\n",
    "\n",
    "# Fit model on whole training data (without addn set of stopwords removed in NB model)\n",
    "model_lrprod = lr_prod.fit(X_train_cleancv,y_train)\n",
    "\n",
    "# Generate predictions from test set\n",
    "pred_lrprod = lr_prod.predict(X_test_cleancv)\n",
    "print(f\"Accuracy on whole test set: {round(model_lrprod.score(X_test_cleancv, y_test),4)}\")"
   ]
  },
  {
   "cell_type": "code",
   "execution_count": 129,
   "metadata": {},
   "outputs": [
    {
     "data": {
      "text/html": [
       "<div>\n",
       "<style scoped>\n",
       "    .dataframe tbody tr th:only-of-type {\n",
       "        vertical-align: middle;\n",
       "    }\n",
       "\n",
       "    .dataframe tbody tr th {\n",
       "        vertical-align: top;\n",
       "    }\n",
       "\n",
       "    .dataframe thead th {\n",
       "        text-align: right;\n",
       "    }\n",
       "</style>\n",
       "<table border=\"1\" class=\"dataframe\">\n",
       "  <thead>\n",
       "    <tr style=\"text-align: right;\">\n",
       "      <th></th>\n",
       "      <th>pred non-bomb</th>\n",
       "      <th>pred bomb</th>\n",
       "    </tr>\n",
       "  </thead>\n",
       "  <tbody>\n",
       "    <tr>\n",
       "      <th>Actual non-bomb</th>\n",
       "      <td>1826</td>\n",
       "      <td>1579</td>\n",
       "    </tr>\n",
       "    <tr>\n",
       "      <th>Actual bomb</th>\n",
       "      <td>439</td>\n",
       "      <td>2661</td>\n",
       "    </tr>\n",
       "  </tbody>\n",
       "</table>\n",
       "</div>"
      ],
      "text/plain": [
       "                 pred non-bomb  pred bomb\n",
       "Actual non-bomb           1826       1579\n",
       "Actual bomb                439       2661"
      ]
     },
     "execution_count": 129,
     "metadata": {},
     "output_type": "execute_result"
    }
   ],
   "source": [
    "# Confusion matrix for test set using NB model\n",
    "# Pass in true values, predicted values to confusion matrix\n",
    "# Convert Confusion matrix into dataframe\n",
    "# Positive class (class 1) is bomb\n",
    "cm = confusion_matrix(y_test, pred_lrprod)\n",
    "cm_df = pd.DataFrame(cm,columns=['pred non-bomb','pred bomb'], index=['Actual non-bomb','Actual bomb'])\n",
    "cm_df"
   ]
  },
  {
   "cell_type": "code",
   "execution_count": 130,
   "metadata": {},
   "outputs": [
    {
     "name": "stdout",
     "output_type": "stream",
     "text": [
      "Specificity: 0.5363\n",
      "Sensitivity: 0.8584\n",
      "roc_auc: 0.762\n"
     ]
    }
   ],
   "source": [
    "# return nparray as a 1-D array.\n",
    "confusion_matrix(y_test, pred_lrprod).ravel()\n",
    "\n",
    "# Save TN/FP/FN/TP values.\n",
    "tn, fp, fn, tp = confusion_matrix(y_test, pred_lrprod).ravel()\n",
    "\n",
    "# Summary of metrics for naive bayes model\n",
    "spec = tn/(tn+fp)\n",
    "sens = tp/(tp+fn)\n",
    "print(f\"Specificity: {round(spec,4)}\")\n",
    "print(f\"Sensitivity: {round(sens,4)}\")\n",
    "\n",
    "# To compute the ROC AUC curve, first\n",
    "# Create a dataframe called pred_df that contains:\n",
    "# 1. The list of true values of our test set.\n",
    "# 2. The list of predicted probabilities based on our model.\n",
    "\n",
    "pred_proba = [i[1] for i in lr_prod.predict_proba(X_test_cleancv)]\n",
    "\n",
    "pred_df = pd.DataFrame({'test_values': y_test,\n",
    "                        'pred_probs':pred_proba})\n",
    "\n",
    "# Calculate ROC AUC.\n",
    "print(f\"roc_auc: {round(roc_auc_score(pred_df['test_values'],pred_df['pred_probs']),4)}\")"
   ]
  },
  {
   "cell_type": "code",
   "execution_count": 134,
   "metadata": {},
   "outputs": [
    {
     "data": {
      "image/png": "[encoded data removed]",
      "text/plain": [
       "<Figure size 720x504 with 1 Axes>"
      ]
     },
     "metadata": {},
     "output_type": "display_data"
    }
   ],
   "source": [
    "#Create figure\n",
    "plt.figure(figsize = (10,7))\n",
    "\n",
    "# Create threshold values. (Dashed blue line in plot.)\n",
    "thresholds = np.linspace(0, 1, 200)\n",
    "\n",
    "# Define function to calculate sensitivity. (True positive rate.)\n",
    "def TPR(df, true_col, pred_prob_col, threshold):\n",
    "    true_positive = df[(df[true_col] == 1) & (df[pred_prob_col] >= threshold)].shape[0]\n",
    "    false_negative = df[(df[true_col] == 1) & (df[pred_prob_col] < threshold)].shape[0]\n",
    "    return true_positive / (true_positive + false_negative)\n",
    "    \n",
    "# Define function to calculate 1 - specificity. (False positive rate.)\n",
    "def FPR(df, true_col, pred_prob_col, threshold):\n",
    "    true_negative = df[(df[true_col] == 0) & (df[pred_prob_col] <= threshold)].shape[0]\n",
    "    false_positive = df[(df[true_col] == 0) & (df[pred_prob_col] > threshold)].shape[0]\n",
    "    return 1 - (true_negative / (true_negative + false_positive))\n",
    "    \n",
    "# Calculate sensitivity & 1-specificity for each threshold between 0 and 1.\n",
    "tpr_values = [TPR(pred_df, 'test_values', 'pred_probs', prob) for prob in thresholds]\n",
    "fpr_values = [FPR(pred_df, 'test_values', 'pred_probs', prob) for prob in thresholds]\n",
    "\n",
    "# Plot ROC curve.\n",
    "plt.plot(fpr_values, # False Positive Rate on X-axis\n",
    "         tpr_values, # True Positive Rate on Y-axis\n",
    "         label='ROC Curve')\n",
    "\n",
    "# Plot baseline. (Perfect overlap between the two populations.)\n",
    "plt.plot(np.linspace(0, 1, 200),\n",
    "         np.linspace(0, 1, 200),\n",
    "         label='baseline',\n",
    "         linestyle='--')\n",
    "\n",
    "# Label axes.\n",
    "plt.title(f'ROC Curve with AUC = {round(roc_auc_score(pred_df[\"test_values\"], pred_df[\"pred_probs\"]),4)}', fontsize=22)\n",
    "plt.ylabel('Sensitivity', fontsize=18)\n",
    "plt.xlabel('1 - Specificity', fontsize=18)\n",
    "\n",
    "# Create legend.\n",
    "plt.legend(fontsize=16);"
   ]
  },
  {
   "cell_type": "code",
   "execution_count": 132,
   "metadata": {
    "scrolled": true
   },
   "outputs": [
    {
     "data": {
      "text/html": [
       "<div>\n",
       "<style scoped>\n",
       "    .dataframe tbody tr th:only-of-type {\n",
       "        vertical-align: middle;\n",
       "    }\n",
       "\n",
       "    .dataframe tbody tr th {\n",
       "        vertical-align: top;\n",
       "    }\n",
       "\n",
       "    .dataframe thead th {\n",
       "        text-align: right;\n",
       "    }\n",
       "</style>\n",
       "<table border=\"1\" class=\"dataframe\">\n",
       "  <thead>\n",
       "    <tr style=\"text-align: right;\">\n",
       "      <th></th>\n",
       "      <th>NB model</th>\n",
       "      <th>NB model (addn stpwrds removed)</th>\n",
       "      <th>LogReg model</th>\n",
       "    </tr>\n",
       "  </thead>\n",
       "  <tbody>\n",
       "    <tr>\n",
       "      <th>accuracy</th>\n",
       "      <td>0.6733</td>\n",
       "      <td>0.6733</td>\n",
       "      <td>0.6898</td>\n",
       "    </tr>\n",
       "    <tr>\n",
       "      <th>specificity</th>\n",
       "      <td>0.5286</td>\n",
       "      <td>0.5286</td>\n",
       "      <td>0.5363</td>\n",
       "    </tr>\n",
       "    <tr>\n",
       "      <th>sensitivity</th>\n",
       "      <td>0.8323</td>\n",
       "      <td>0.8323</td>\n",
       "      <td>0.8584</td>\n",
       "    </tr>\n",
       "    <tr>\n",
       "      <th>roc_auc</th>\n",
       "      <td>0.7411</td>\n",
       "      <td>0.7411</td>\n",
       "      <td>0.7620</td>\n",
       "    </tr>\n",
       "  </tbody>\n",
       "</table>\n",
       "</div>"
      ],
      "text/plain": [
       "             NB model  NB model (addn stpwrds removed)  LogReg model\n",
       "accuracy       0.6733                           0.6733        0.6898\n",
       "specificity    0.5286                           0.5286        0.5363\n",
       "sensitivity    0.8323                           0.8323        0.8584\n",
       "roc_auc        0.7411                           0.7411        0.7620"
      ]
     },
     "execution_count": 132,
     "metadata": {},
     "output_type": "execute_result"
    }
   ],
   "source": [
    "# Summary of the production NB Model scores in Dataframe\n",
    "summary_df = pd.DataFrame({'accuracy' : [0.6733, 0.6733,0.6898],\n",
    "                          'specificity' : [0.5286, 0.5286,0.5363],\n",
    "                          'sensitivity' : [0.8323, 0.8323,0.8584],\n",
    "                          'roc_auc' : [0.7411, 0.7411,0.762]})\n",
    "# Transpose dataframe\n",
    "summary_dft = summary_df.T\n",
    "# Rename columns\n",
    "summary_dft.columns = ['NB model','NB model (addn stpwrds removed)','LogReg model']\n",
    "summary_dft"
   ]
  },
  {
   "cell_type": "code",
   "execution_count": null,
   "metadata": {},
   "outputs": [],
   "source": []
  },
  {
   "cell_type": "markdown",
   "metadata": {},
   "source": [
    "### Topic Modelling using LDA"
   ]
  },
  {
   "cell_type": "code",
   "execution_count": 2,
   "metadata": {},
   "outputs": [],
   "source": [
    "import sys\n",
    "import re\n",
    "from pprint import pprint\n",
    "\n",
    "# Gensim\n",
    "import gensim, spacy, logging, warnings\n",
    "import gensim.corpora as corpora\n",
    "from gensim.utils import lemmatize, simple_preprocess\n",
    "from gensim.models import CoherenceModel\n",
    "\n",
    "# NLTK Stop words\n",
    "from nltk.corpus import stopwords\n",
    "stop_words = stopwords.words('english')\n",
    "#stop_words.extend(['from', 'subject', 're', 'edu', 'use', 'not', 'would', 'say', 'could', '_', 'be', 'know', 'good', 'go', 'get', 'do', 'done', 'try', 'many', 'some', 'nice', 'thank', 'think', 'see', 'rather', 'easy', 'easily', 'lot', 'lack', 'make', 'want', 'seem', 'run', 'need', 'even', 'right', 'line', 'even', 'also', 'may', 'take', 'come'])"
   ]
  },
  {
   "cell_type": "markdown",
   "metadata": {},
   "source": [
    "## ?? should i have remove these stop words?"
   ]
  },
  {
   "cell_type": "code",
   "execution_count": 3,
   "metadata": {},
   "outputs": [],
   "source": [
    "# Instantiate the custom list of stopwords for modelling from P5_01\n",
    "own_stop = ['shiite','police', 'iraq' 'sunni', 'npa', 'maoist', 'day', 'maoists', 'ida', 'qa', 'islamic', 'isil',\\\n",
    "            'shabaab','levant','bombing','hartal','communist','bangladesh','cpi','2015','january','bangdad','iraqi',\\\n",
    "            'pakistan','united','aqi','india','bombings','thailand','tripoli','shiites','janmukti','puerto','bomb',\\\n",
    "            'morcha','planted','ttp','israeli','african', \n",
    "            'revenge','attempting','peace','upcoming','said','recent','attempt','time','religious','war','general',\\\n",
    "            'station','note','liberation','officials','president','groups','ltte','april','extremists','armed',\\\n",
    "            'leave','states','operations','2014','called','algeria','2013','related','authorities','algerian',\\\n",
    "            'parliamentary','national','alleged','source','death','recently','spokesperson','speculate',\\\n",
    "            'reported','area','province','boko','tehrik','al','target','haram','support','protest','held']\n",
    "# Extend the stop words\n",
    "stop_words.extend(own_stop)"
   ]
  },
  {
   "cell_type": "code",
   "execution_count": 14,
   "metadata": {},
   "outputs": [
    {
     "name": "stdout",
     "output_type": "stream",
     "text": [
      "[['to', 'protest', 'the', 'cairo', 'illinois', 'police', 'deparment']]\n"
     ]
    }
   ],
   "source": [
    "def sent_to_words(sentences):\n",
    "    for sent in sentences:\n",
    "        sent = re.sub('\\s+', ' ', sent)  # remove newline chars\n",
    "        sent = re.sub(\"\\'\", \"\", sent)  # remove single quotes\n",
    "        sent = gensim.utils.simple_preprocess(str(sent), deacc=True) \n",
    "        yield(sent)  \n",
    "\n",
    "# Convert to list\n",
    "data = dframe.motive.values.tolist()\n",
    "data_words = list(sent_to_words(data))\n",
    "print(data_words[:1])"
   ]
  },
  {
   "cell_type": "code",
   "execution_count": null,
   "metadata": {},
   "outputs": [],
   "source": []
  },
  {
   "cell_type": "code",
   "execution_count": 15,
   "metadata": {},
   "outputs": [],
   "source": [
    "# Build the bigram and trigram models\n",
    "bigram = gensim.models.Phrases(data_words, min_count=5, threshold=100) # higher threshold fewer phrases.\n",
    "trigram = gensim.models.Phrases(bigram[data_words], threshold=100)  \n",
    "bigram_mod = gensim.models.phrases.Phraser(bigram)\n",
    "trigram_mod = gensim.models.phrases.Phraser(trigram)\n",
    "\n",
    "def process_words(texts, stop_words=stop_words, allowed_postags=['NOUN', 'ADJ', 'VERB', 'ADV']):\n",
    "    \"\"\"Remove Stopwords, Form Bigrams, Trigrams and Lemmatization\"\"\"\n",
    "    texts = [[word for word in simple_preprocess(str(doc)) if word not in stop_words] for doc in texts]\n",
    "    texts = [bigram_mod[doc] for doc in texts]\n",
    "    texts = [trigram_mod[bigram_mod[doc]] for doc in texts]\n",
    "    texts_out = []\n",
    "    # use 'en_core_web_sm' in place of 'en' \n",
    "    nlp = spacy.load('en_core_web_sm', disable=['parser', 'ner'])\n",
    "    for sent in texts:\n",
    "        doc = nlp(\" \".join(sent)) \n",
    "        texts_out.append([token.lemma_ for token in doc if token.pos_ in allowed_postags])\n",
    "    # remove stopwords once more after lemmatization\n",
    "    texts_out = [[word for word in simple_preprocess(str(doc)) if word not in stop_words] for doc in texts_out]    \n",
    "    return texts_out\n",
    "\n",
    "data_ready = process_words(data_words)  # processed Text Data!"
   ]
  },
  {
   "cell_type": "code",
   "execution_count": 16,
   "metadata": {},
   "outputs": [
    {
     "data": {
      "text/plain": [
       "32521"
      ]
     },
     "execution_count": 16,
     "metadata": {},
     "output_type": "execute_result"
    }
   ],
   "source": [
    "len(data_ready)"
   ]
  },
  {
   "cell_type": "markdown",
   "metadata": {},
   "source": [
    "### ?? Change the number of topics below here"
   ]
  },
  {
   "cell_type": "code",
   "execution_count": 17,
   "metadata": {},
   "outputs": [
    {
     "name": "stdout",
     "output_type": "stream",
     "text": [
      "[(0,\n",
      "  '0.136*\"state\" + 0.072*\"claim\" + 0.059*\"victim\" + 0.059*\"attack\" + '\n",
      "  '0.059*\"carry\" + 0.055*\"incident\" + 0.047*\"responsibility\" + 0.035*\"also\" + '\n",
      "  '0.026*\"accuse\" + 0.024*\"response\"'),\n",
      " (1,\n",
      "  '0.312*\"however\" + 0.070*\"suspect\" + 0.069*\"election\" + 0.040*\"violence\" + '\n",
      "  '0.038*\"large\" + 0.038*\"trend\" + 0.036*\"part\" + 0.031*\"may\" + '\n",
      "  '0.030*\"schedule\" + 0.025*\"member\"'),\n",
      " (2,\n",
      "  '0.055*\"government\" + 0.055*\"occur\" + 0.043*\"assailant\" + 0.043*\"demand\" + '\n",
      "  '0.028*\"order\" + 0.019*\"leader\" + 0.018*\"ransom\" + 0.017*\"warn\" + '\n",
      "  '0.014*\"follow\" + 0.014*\"arrest\"'),\n",
      " (3,\n",
      "  '0.241*\"unknown\" + 0.239*\"specific\" + 0.238*\"motive\" + 0.120*\"attack\" + '\n",
      "  '0.050*\"posit\" + 0.007*\"coincide\" + 0.004*\"noted\" + 0.004*\"posited\" + '\n",
      "  '0.003*\"provincial\" + 0.003*\"army\"')]\n"
     ]
    }
   ],
   "source": [
    "# Create Dictionary\n",
    "id2word = corpora.Dictionary(data_ready)\n",
    "\n",
    "# Create Corpus: Term Document Frequency\n",
    "corpus = [id2word.doc2bow(text) for text in data_ready]\n",
    "\n",
    "# Build LDA model\n",
    "lda_model = gensim.models.ldamodel.LdaModel(corpus=corpus,\n",
    "                                           id2word=id2word,\n",
    "                                           num_topics=4, \n",
    "                                           random_state=100,\n",
    "                                           update_every=1,\n",
    "                                           chunksize=10,\n",
    "                                           passes=10,\n",
    "                                           alpha='symmetric',\n",
    "                                           iterations=100,\n",
    "                                           per_word_topics=True)\n",
    "\n",
    "pprint(lda_model.print_topics())"
   ]
  },
  {
   "cell_type": "code",
   "execution_count": 18,
   "metadata": {},
   "outputs": [
    {
     "data": {
      "text/html": [
       "<div>\n",
       "<style scoped>\n",
       "    .dataframe tbody tr th:only-of-type {\n",
       "        vertical-align: middle;\n",
       "    }\n",
       "\n",
       "    .dataframe tbody tr th {\n",
       "        vertical-align: top;\n",
       "    }\n",
       "\n",
       "    .dataframe thead th {\n",
       "        text-align: right;\n",
       "    }\n",
       "</style>\n",
       "<table border=\"1\" class=\"dataframe\">\n",
       "  <thead>\n",
       "    <tr style=\"text-align: right;\">\n",
       "      <th></th>\n",
       "      <th>Document_No</th>\n",
       "      <th>Dominant_Topic</th>\n",
       "      <th>Topic_Perc_Contrib</th>\n",
       "      <th>Keywords</th>\n",
       "      <th>Text</th>\n",
       "    </tr>\n",
       "  </thead>\n",
       "  <tbody>\n",
       "    <tr>\n",
       "      <th>0</th>\n",
       "      <td>0</td>\n",
       "      <td>0.0</td>\n",
       "      <td>0.2500</td>\n",
       "      <td>state, claim, victim, attack, carry, incident,...</td>\n",
       "      <td>[]</td>\n",
       "    </tr>\n",
       "    <tr>\n",
       "      <th>1</th>\n",
       "      <td>1</td>\n",
       "      <td>0.0</td>\n",
       "      <td>0.2500</td>\n",
       "      <td>state, claim, victim, attack, carry, incident,...</td>\n",
       "      <td>[]</td>\n",
       "    </tr>\n",
       "    <tr>\n",
       "      <th>2</th>\n",
       "      <td>2</td>\n",
       "      <td>0.0</td>\n",
       "      <td>0.2500</td>\n",
       "      <td>state, claim, victim, attack, carry, incident,...</td>\n",
       "      <td>[]</td>\n",
       "    </tr>\n",
       "    <tr>\n",
       "      <th>3</th>\n",
       "      <td>3</td>\n",
       "      <td>2.0</td>\n",
       "      <td>0.3567</td>\n",
       "      <td>government, occur, assailant, demand, order, l...</td>\n",
       "      <td>[suspect, motive, show, black, panther, party,...</td>\n",
       "    </tr>\n",
       "    <tr>\n",
       "      <th>4</th>\n",
       "      <td>4</td>\n",
       "      <td>2.0</td>\n",
       "      <td>0.7090</td>\n",
       "      <td>government, occur, assailant, demand, order, l...</td>\n",
       "      <td>[store, owner, shot, kill, robbery, store]</td>\n",
       "    </tr>\n",
       "    <tr>\n",
       "      <th>5</th>\n",
       "      <td>5</td>\n",
       "      <td>0.0</td>\n",
       "      <td>0.6219</td>\n",
       "      <td>state, claim, victim, attack, carry, incident,...</td>\n",
       "      <td>[disturbance]</td>\n",
       "    </tr>\n",
       "    <tr>\n",
       "      <th>6</th>\n",
       "      <td>6</td>\n",
       "      <td>2.0</td>\n",
       "      <td>0.3507</td>\n",
       "      <td>government, occur, assailant, demand, order, l...</td>\n",
       "      <td>[incident, heighten, antiwar, sentiment]</td>\n",
       "    </tr>\n",
       "    <tr>\n",
       "      <th>7</th>\n",
       "      <td>7</td>\n",
       "      <td>0.0</td>\n",
       "      <td>0.6250</td>\n",
       "      <td>state, claim, victim, attack, carry, incident,...</td>\n",
       "      <td>[party]</td>\n",
       "    </tr>\n",
       "    <tr>\n",
       "      <th>8</th>\n",
       "      <td>8</td>\n",
       "      <td>2.0</td>\n",
       "      <td>0.4224</td>\n",
       "      <td>government, occur, assailant, demand, order, l...</td>\n",
       "      <td>[occur, strike]</td>\n",
       "    </tr>\n",
       "    <tr>\n",
       "      <th>9</th>\n",
       "      <td>9</td>\n",
       "      <td>0.0</td>\n",
       "      <td>0.6250</td>\n",
       "      <td>state, claim, victim, attack, carry, incident,...</td>\n",
       "      <td>[kill]</td>\n",
       "    </tr>\n",
       "  </tbody>\n",
       "</table>\n",
       "</div>"
      ],
      "text/plain": [
       "   Document_No  Dominant_Topic  Topic_Perc_Contrib  \\\n",
       "0            0             0.0              0.2500   \n",
       "1            1             0.0              0.2500   \n",
       "2            2             0.0              0.2500   \n",
       "3            3             2.0              0.3567   \n",
       "4            4             2.0              0.7090   \n",
       "5            5             0.0              0.6219   \n",
       "6            6             2.0              0.3507   \n",
       "7            7             0.0              0.6250   \n",
       "8            8             2.0              0.4224   \n",
       "9            9             0.0              0.6250   \n",
       "\n",
       "                                            Keywords  \\\n",
       "0  state, claim, victim, attack, carry, incident,...   \n",
       "1  state, claim, victim, attack, carry, incident,...   \n",
       "2  state, claim, victim, attack, carry, incident,...   \n",
       "3  government, occur, assailant, demand, order, l...   \n",
       "4  government, occur, assailant, demand, order, l...   \n",
       "5  state, claim, victim, attack, carry, incident,...   \n",
       "6  government, occur, assailant, demand, order, l...   \n",
       "7  state, claim, victim, attack, carry, incident,...   \n",
       "8  government, occur, assailant, demand, order, l...   \n",
       "9  state, claim, victim, attack, carry, incident,...   \n",
       "\n",
       "                                                Text  \n",
       "0                                                 []  \n",
       "1                                                 []  \n",
       "2                                                 []  \n",
       "3  [suspect, motive, show, black, panther, party,...  \n",
       "4         [store, owner, shot, kill, robbery, store]  \n",
       "5                                      [disturbance]  \n",
       "6           [incident, heighten, antiwar, sentiment]  \n",
       "7                                            [party]  \n",
       "8                                    [occur, strike]  \n",
       "9                                             [kill]  "
      ]
     },
     "execution_count": 18,
     "metadata": {},
     "output_type": "execute_result"
    }
   ],
   "source": [
    "def format_topics_sentences(ldamodel=None, corpus=corpus, texts=data):\n",
    "    # Init output\n",
    "    sent_topics_df = pd.DataFrame()\n",
    "\n",
    "    # Get main topic in each document\n",
    "    for i, row_list in enumerate(ldamodel[corpus]):\n",
    "        row = row_list[0] if ldamodel.per_word_topics else row_list            \n",
    "        # print(row)\n",
    "        row = sorted(row, key=lambda x: (x[1]), reverse=True)\n",
    "        # Get the Dominant topic, Perc Contribution and Keywords for each document\n",
    "        for j, (topic_num, prop_topic) in enumerate(row):\n",
    "            if j == 0:  # => dominant topic\n",
    "                wp = ldamodel.show_topic(topic_num)\n",
    "                topic_keywords = \", \".join([word for word, prop in wp])\n",
    "                sent_topics_df = sent_topics_df.append(pd.Series([int(topic_num), round(prop_topic,4), topic_keywords]), ignore_index=True)\n",
    "            else:\n",
    "                break\n",
    "    sent_topics_df.columns = ['Dominant_Topic', 'Perc_Contribution', 'Topic_Keywords']\n",
    "\n",
    "    # Add original text to the end of the output\n",
    "    contents = pd.Series(texts)\n",
    "    sent_topics_df = pd.concat([sent_topics_df, contents], axis=1)\n",
    "    return(sent_topics_df)\n",
    "\n",
    "\n",
    "df_topic_sents_keywords = format_topics_sentences(ldamodel=lda_model, corpus=corpus, texts=data_ready)\n",
    "\n",
    "# Format\n",
    "df_dominant_topic = df_topic_sents_keywords.reset_index()\n",
    "df_dominant_topic.columns = ['Document_No', 'Dominant_Topic', 'Topic_Perc_Contrib', 'Keywords', 'Text']\n",
    "df_dominant_topic.head(10)"
   ]
  },
  {
   "cell_type": "code",
   "execution_count": 23,
   "metadata": {},
   "outputs": [
    {
     "data": {
      "text/html": [
       "<div>\n",
       "<style scoped>\n",
       "    .dataframe tbody tr th:only-of-type {\n",
       "        vertical-align: middle;\n",
       "    }\n",
       "\n",
       "    .dataframe tbody tr th {\n",
       "        vertical-align: top;\n",
       "    }\n",
       "\n",
       "    .dataframe thead th {\n",
       "        text-align: right;\n",
       "    }\n",
       "</style>\n",
       "<table border=\"1\" class=\"dataframe\">\n",
       "  <thead>\n",
       "    <tr style=\"text-align: right;\">\n",
       "      <th></th>\n",
       "      <th>Topic_Num</th>\n",
       "      <th>Topic_Perc_Contrib</th>\n",
       "      <th>Keywords</th>\n",
       "      <th>Representative Text</th>\n",
       "    </tr>\n",
       "  </thead>\n",
       "  <tbody>\n",
       "    <tr>\n",
       "      <th>0</th>\n",
       "      <td>0.0</td>\n",
       "      <td>0.9592</td>\n",
       "      <td>state, claim, victim, attack, carry, incident, responsibility, also, accuse, response</td>\n",
       "      <td>[claim, responsibility, attack, military, intelligence, building, state, protect, resident, also...</td>\n",
       "    </tr>\n",
       "    <tr>\n",
       "      <th>1</th>\n",
       "      <td>1.0</td>\n",
       "      <td>0.8796</td>\n",
       "      <td>however, suspect, election, violence, large, trend, part, may, schedule, member</td>\n",
       "      <td>[part, campaign, destabilize, vital, nation, economy]</td>\n",
       "    </tr>\n",
       "    <tr>\n",
       "      <th>2</th>\n",
       "      <td>2.0</td>\n",
       "      <td>0.9431</td>\n",
       "      <td>government, occur, assailant, demand, order, leader, ransom, warn, follow, arrest</td>\n",
       "      <td>[demand, salary, get, pay, promotion, give, demand, government, issue, taxi, license, fatah, act...</td>\n",
       "    </tr>\n",
       "    <tr>\n",
       "      <th>3</th>\n",
       "      <td>3.0</td>\n",
       "      <td>0.8905</td>\n",
       "      <td>unknown, specific, motive, attack, posit, coincide, noted, posited, provincial, army</td>\n",
       "      <td>[motive, attack, unknown, multiple, attack, pilgrim]</td>\n",
       "    </tr>\n",
       "  </tbody>\n",
       "</table>\n",
       "</div>"
      ],
      "text/plain": [
       "   Topic_Num  Topic_Perc_Contrib  \\\n",
       "0        0.0              0.9592   \n",
       "1        1.0              0.8796   \n",
       "2        2.0              0.9431   \n",
       "3        3.0              0.8905   \n",
       "\n",
       "                                                                                Keywords  \\\n",
       "0  state, claim, victim, attack, carry, incident, responsibility, also, accuse, response   \n",
       "1        however, suspect, election, violence, large, trend, part, may, schedule, member   \n",
       "2      government, occur, assailant, demand, order, leader, ransom, warn, follow, arrest   \n",
       "3   unknown, specific, motive, attack, posit, coincide, noted, posited, provincial, army   \n",
       "\n",
       "                                                                                   Representative Text  \n",
       "0  [claim, responsibility, attack, military, intelligence, building, state, protect, resident, also...  \n",
       "1                                                [part, campaign, destabilize, vital, nation, economy]  \n",
       "2  [demand, salary, get, pay, promotion, give, demand, government, issue, taxi, license, fatah, act...  \n",
       "3                                                 [motive, attack, unknown, multiple, attack, pilgrim]  "
      ]
     },
     "execution_count": 23,
     "metadata": {},
     "output_type": "execute_result"
    }
   ],
   "source": [
    "# Display setting to show more characters in column\n",
    "pd.options.display.max_colwidth = 100\n",
    "\n",
    "sent_topics_sorteddf_mallet = pd.DataFrame()\n",
    "sent_topics_outdf_grpd = df_topic_sents_keywords.groupby('Dominant_Topic')\n",
    "\n",
    "for i, grp in sent_topics_outdf_grpd:\n",
    "    sent_topics_sorteddf_mallet = pd.concat([sent_topics_sorteddf_mallet, \n",
    "                                             grp.sort_values(['Perc_Contribution'], ascending=False).head(1)], \n",
    "                                            axis=0)\n",
    "\n",
    "# Reset Index    \n",
    "sent_topics_sorteddf_mallet.reset_index(drop=True, inplace=True)\n",
    "\n",
    "# Format\n",
    "sent_topics_sorteddf_mallet.columns = ['Topic_Num', \"Topic_Perc_Contrib\", \"Keywords\", \"Representative Text\"]\n",
    "\n",
    "# Show\n",
    "sent_topics_sorteddf_mallet.head(10)"
   ]
  },
  {
   "cell_type": "code",
   "execution_count": 20,
   "metadata": {},
   "outputs": [
    {
     "data": {
      "image/png": "[encoded data removed]",
      "text/plain": [
       "<Figure size 720x720 with 4 Axes>"
      ]
     },
     "metadata": {},
     "output_type": "display_data"
    }
   ],
   "source": [
    "# 1. Wordcloud of Top N words in each topic\n",
    "from matplotlib import pyplot as plt\n",
    "from wordcloud import WordCloud, STOPWORDS\n",
    "import matplotlib.colors as mcolors\n",
    "\n",
    "cols = [color for name, color in mcolors.TABLEAU_COLORS.items()]  # more colors: 'mcolors.XKCD_COLORS'\n",
    "\n",
    "cloud = WordCloud(stopwords=stop_words,\n",
    "                  background_color='white',\n",
    "                  width=2500,\n",
    "                  height=1800,\n",
    "                  max_words=10,\n",
    "                  colormap='tab10',\n",
    "                  color_func=lambda *args, **kwargs: cols[i],\n",
    "                  prefer_horizontal=1.0)\n",
    "\n",
    "topics = lda_model.show_topics(formatted=False)\n",
    "\n",
    "fig, axes = plt.subplots(2, 2, figsize=(10,10), sharex=True, sharey=True)\n",
    "\n",
    "for i, ax in enumerate(axes.flatten()):\n",
    "    fig.add_subplot(ax)\n",
    "    topic_words = dict(topics[i][1])\n",
    "    cloud.generate_from_frequencies(topic_words, max_font_size=300)\n",
    "    plt.gca().imshow(cloud)\n",
    "    plt.gca().set_title('Topic ' + str(i), fontdict=dict(size=16))\n",
    "    plt.gca().axis('off')\n",
    "\n",
    "\n",
    "plt.subplots_adjust(wspace=0, hspace=0)\n",
    "plt.axis('off')\n",
    "plt.margins(x=0, y=0)\n",
    "plt.tight_layout()\n",
    "plt.show()"
   ]
  },
  {
   "cell_type": "code",
   "execution_count": 21,
   "metadata": {},
   "outputs": [
    {
     "data": {
      "image/png": "[encoded data removed]",
      "text/plain": [
       "<Figure size 3200x1976 with 13 Axes>"
      ]
     },
     "metadata": {},
     "output_type": "display_data"
    }
   ],
   "source": [
    "# Sentence Coloring of N Sentences\n",
    "from matplotlib.patches import Rectangle\n",
    "\n",
    "def sentences_chart(lda_model=lda_model, corpus=corpus, start = 0, end = 13):\n",
    "    corp = corpus[start:end]\n",
    "    mycolors = [color for name, color in mcolors.TABLEAU_COLORS.items()]\n",
    "\n",
    "    fig, axes = plt.subplots(end-start, 1, figsize=(20, (end-start)*0.95), dpi=160)       \n",
    "    axes[0].axis('off')\n",
    "    for i, ax in enumerate(axes):\n",
    "        if i > 0:\n",
    "            corp_cur = corp[i-1] \n",
    "            topic_percs, wordid_topics, wordid_phivalues = lda_model[corp_cur]\n",
    "            word_dominanttopic = [(lda_model.id2word[wd], topic[0]) for wd, topic in wordid_topics]    \n",
    "            ax.text(0.01, 0.5, \"Doc \" + str(i-1) + \": \", verticalalignment='center',\n",
    "                    fontsize=16, color='black', transform=ax.transAxes, fontweight=700)\n",
    "\n",
    "            # Draw Rectange\n",
    "            topic_percs_sorted = sorted(topic_percs, key=lambda x: (x[1]), reverse=True)\n",
    "            ax.add_patch(Rectangle((0.0, 0.05), 0.99, 0.90, fill=None, alpha=1, \n",
    "                                   color=mycolors[topic_percs_sorted[0][0]], linewidth=2))\n",
    "\n",
    "            word_pos = 0.06\n",
    "            for j, (word, topics) in enumerate(word_dominanttopic):\n",
    "                if j < 14:\n",
    "                    ax.text(word_pos, 0.5, word,\n",
    "                            horizontalalignment='left',\n",
    "                            verticalalignment='center',\n",
    "                            fontsize=16, color=mycolors[topics],\n",
    "                            transform=ax.transAxes, fontweight=700)\n",
    "                    word_pos += .009 * len(word)  # to move the word for the next iter\n",
    "                    ax.axis('off')\n",
    "            ax.text(word_pos, 0.5, '. . .',\n",
    "                    horizontalalignment='left',\n",
    "                    verticalalignment='center',\n",
    "                    fontsize=16, color='black',\n",
    "                    transform=ax.transAxes)       \n",
    "\n",
    "    plt.subplots_adjust(wspace=0, hspace=0)\n",
    "    plt.suptitle('Sentence Topic Coloring for Documents: ' + str(start) + ' to ' + str(end-2), fontsize=22, y=0.95, fontweight=700)\n",
    "    plt.tight_layout()\n",
    "    plt.show()\n",
    "\n",
    "sentences_chart()"
   ]
  },
  {
   "cell_type": "code",
   "execution_count": 30,
   "metadata": {},
   "outputs": [
    {
     "data": {
      "text/html": [
       "<div>\n",
       "<style scoped>\n",
       "    .dataframe tbody tr th:only-of-type {\n",
       "        vertical-align: middle;\n",
       "    }\n",
       "\n",
       "    .dataframe tbody tr th {\n",
       "        vertical-align: top;\n",
       "    }\n",
       "\n",
       "    .dataframe thead th {\n",
       "        text-align: right;\n",
       "    }\n",
       "</style>\n",
       "<table border=\"1\" class=\"dataframe\">\n",
       "  <thead>\n",
       "    <tr style=\"text-align: right;\">\n",
       "      <th></th>\n",
       "      <th>Document_No</th>\n",
       "      <th>Dominant_Topic</th>\n",
       "      <th>Topic_Perc_Contrib</th>\n",
       "      <th>Keywords</th>\n",
       "      <th>Text</th>\n",
       "    </tr>\n",
       "  </thead>\n",
       "  <tbody>\n",
       "    <tr>\n",
       "      <th>1</th>\n",
       "      <td>1</td>\n",
       "      <td>0.0</td>\n",
       "      <td>0.25</td>\n",
       "      <td>state, claim, victim, attack, carry, incident, responsibility, also, accuse, response</td>\n",
       "      <td>[]</td>\n",
       "    </tr>\n",
       "  </tbody>\n",
       "</table>\n",
       "</div>"
      ],
      "text/plain": [
       "   Document_No  Dominant_Topic  Topic_Perc_Contrib  \\\n",
       "1            1             0.0                0.25   \n",
       "\n",
       "                                                                                Keywords  \\\n",
       "1  state, claim, victim, attack, carry, incident, responsibility, also, accuse, response   \n",
       "\n",
       "  Text  \n",
       "1   []  "
      ]
     },
     "execution_count": 30,
     "metadata": {},
     "output_type": "execute_result"
    }
   ],
   "source": [
    "df_dominant_topic[df_dominant_topic['Document_No']==1]"
   ]
  },
  {
   "cell_type": "code",
   "execution_count": 25,
   "metadata": {},
   "outputs": [
    {
     "data": {
      "text/html": [
       "\n",
       "<link rel=\"stylesheet\" type=\"text/css\" href=\"https://cdn.rawgit.com/bmabey/pyLDAvis/files/ldavis.v1.0.0.css\">\n",
       "\n",
       "\n",
       "<div id=\"ldavis_el334022524110450644514630734\"></div>\n",
       "<script type=\"text/javascript\">\n",
       "\n",
       "var ldavis_el334022524110450644514630734_data = {\"mdsDat\": {\"x\": [-0.2535404129357919, -0.19397198717810626, 0.2809812086507423, 0.1665311914631557], \"y\": [-0.1299258552176472, 0.06632689703115639, -0.2679519496687806, 0.3315509078552713], \"topics\": [1, 2, 3, 4], \"cluster\": [1, 1, 1, 1], \"Freq\": [41.437320709228516, 23.8812198638916, 19.928844451904297, 14.752613067626953]}, \"tinfo\": {\"Term\": [\"however\", \"unknown\", \"specific\", \"motive\", \"state\", \"attack\", \"claim\", \"suspect\", \"election\", \"victim\", \"carry\", \"incident\", \"posit\", \"responsibility\", \"government\", \"occur\", \"violence\", \"large\", \"assailant\", \"trend\", \"demand\", \"part\", \"also\", \"may\", \"schedule\", \"accuse\", \"member\", \"response\", \"order\", \"community\", \"unknown\", \"specific\", \"motive\", \"posit\", \"army\", \"center\", \"noted\", \"critical\", \"festivity\", \"coincide\", \"connect\", \"shop\", \"wall\", \"disturb\", \"mayor\", \"anti_semitic\", \"shutdown\", \"imam\", \"food\", \"smuggling\", \"speak\", \"possess\", \"posited\", \"jewish\", \"hinder\", \"pilgrim\", \"reference\", \"parade\", \"host\", \"livestock\", \"supportive\", \"attack\", \"affiliate\", \"elect\", \"politic\", \"controversial\", \"opposed\", \"trump\", \"capital\", \"kenyas\", \"divert\", \"provincial\", \"brother\", \"nepal\", \"transport\", \"opposition\", \"belong\", \"nepals_federal\", \"previously\", \"separate\", \"voting\", \"dissuade\", \"however\", \"state\", \"claim\", \"carry\", \"responsibility\", \"victim\", \"accuse\", \"retaliation\", \"group\", \"informant\", \"security\", \"military\", \"force\", \"personnel\", \"people\", \"kill\", \"work\", \"civilian\", \"threaten\", \"operation\", \"party\", \"believe\", \"local\", \"family\", \"use\", \"officer\", \"spy\", \"collaborate\", \"would\", \"prevent\", \"response\", \"incident\", \"also\", \"school\", \"member\", \"attack\", \"intend\", \"suspect\", \"election\", \"violence\", \"large\", \"trend\", \"part\", \"may\", \"community\", \"sectarian\", \"begin\", \"candidate\", \"minority\", \"majority\", \"muslim\", \"participate\", \"christian\", \"polling\", \"egypt\", \"vote\", \"separatist\", \"however\", \"region\", \"residence\", \"lead\", \"several\", \"independence\", \"report\", \"sunni\", \"campaign\", \"presidential\", \"schedule\", \"representative\", \"targeted\", \"serve\", \"separate\", \"nepal\", \"nepals_federal\", \"provincial\", \"member\", \"rally\", \"publication\", \"occur\", \"government\", \"demand\", \"assailant\", \"order\", \"leader\", \"ransom\", \"warn\", \"arrest\", \"follow\", \"exchange\", \"land\", \"vehicle\", \"steal\", \"refuse\", \"release\", \"construction\", \"hostage\", \"make\", \"want\", \"farmer\", \"pay\", \"district\", \"take\", \"abduction\", \"week\", \"abduct\", \"flag\", \"mapuche\", \"somali\", \"early\", \"project\", \"celebrate\", \"previously\"], \"Freq\": [14302.0, 22753.0, 22553.0, 22525.0, 7395.0, 14516.0, 3894.0, 3171.0, 3132.0, 3232.0, 3192.0, 3002.0, 4690.0, 2534.0, 1849.0, 1846.0, 1825.0, 1736.0, 1457.0, 1720.0, 1447.0, 1628.0, 1918.0, 1419.0, 1388.0, 1407.0, 2190.0, 1290.0, 942.0, 1069.0, 22752.59765625, 22552.6015625, 22525.220703125, 4687.134765625, 284.8270568847656, 266.6872253417969, 402.540283203125, 164.951416015625, 110.0068359375, 666.5726928710938, 68.47186279296875, 137.3778533935547, 36.32976531982422, 76.4908447265625, 35.095943450927734, 31.044532775878906, 44.29848098754883, 28.378738403320312, 48.256221771240234, 40.131080627441406, 22.614938735961914, 23.19136619567871, 395.1556091308594, 18.13646125793457, 17.05637550354004, 10.97348690032959, 49.4466438293457, 14.015116691589355, 33.963809967041016, 35.603721618652344, 49.13360595703125, 11302.1875, 26.15864372253418, 95.98283386230469, 47.63716125488281, 61.836151123046875, 129.2491912841797, 105.69994354248047, 149.47059631347656, 49.395660400390625, 49.20161056518555, 305.66033935546875, 47.59632110595703, 239.21815490722656, 72.49082946777344, 104.46825408935547, 80.62786102294922, 108.08677673339844, 96.74528503417969, 97.12522888183594, 65.11541748046875, 55.51893997192383, 116.83927154541016, 7395.32763671875, 3894.338134765625, 3192.169677734375, 2534.1865234375, 3231.55322265625, 1406.4171142578125, 1108.5882568359375, 1061.0313720703125, 823.9085083007812, 826.85205078125, 805.3516235351562, 631.615966796875, 582.1350708007812, 575.8668823242188, 484.9989318847656, 468.0581970214844, 313.158935546875, 370.9407958984375, 288.4408874511719, 428.5278015136719, 282.3482360839844, 299.2403869628906, 251.36534118652344, 307.7692565917969, 233.56277465820312, 205.78822326660156, 361.14068603515625, 190.95997619628906, 161.19342041015625, 1285.440185546875, 2977.10986328125, 1883.334228515625, 242.8616943359375, 1064.6368408203125, 3214.044677734375, 289.1204833984375, 3171.139892578125, 3131.7236328125, 1825.4130859375, 1735.89892578125, 1719.5128173828125, 1627.9638671875, 1418.6722412109375, 1068.6051025390625, 585.2998046875, 511.4696960449219, 412.5767517089844, 298.9597473144531, 277.24420166015625, 214.9285888671875, 221.46588134765625, 90.79231262207031, 81.10332489013672, 108.49710845947266, 132.89794921875, 85.4727554321289, 14185.765625, 119.15604400634766, 74.13623809814453, 144.50970458984375, 89.80367279052734, 96.73098754882812, 360.1603698730469, 56.80768585205078, 152.07981872558594, 51.83335876464844, 1344.959716796875, 113.23084259033203, 782.3678588867188, 339.815673828125, 471.4752502441406, 619.9188842773438, 384.2137451171875, 651.7263793945312, 1125.0185546875, 139.0342559814453, 154.64881896972656, 1845.9056396484375, 1848.5003662109375, 1447.2532958984375, 1456.61865234375, 941.9530639648438, 639.5365600585938, 603.4696044921875, 575.2625122070312, 468.0209045410156, 471.6826477050781, 394.8289489746094, 351.72845458984375, 353.29571533203125, 323.2389831542969, 329.5169982910156, 314.40570068359375, 288.6674499511719, 236.15585327148438, 270.0371398925781, 228.54449462890625, 240.13681030273438, 211.8683624267578, 235.2100372314453, 186.11724853515625, 177.15992736816406, 191.6930694580078, 152.57528686523438, 155.45388793945312, 172.0782470703125, 229.45118713378906, 169.8025665283203, 280.030517578125, 178.30709838867188, 330.3554382324219], \"Total\": [14302.0, 22753.0, 22553.0, 22525.0, 7395.0, 14516.0, 3894.0, 3171.0, 3132.0, 3232.0, 3192.0, 3002.0, 4690.0, 2534.0, 1849.0, 1846.0, 1825.0, 1736.0, 1457.0, 1720.0, 1447.0, 1628.0, 1918.0, 1419.0, 1388.0, 1407.0, 2190.0, 1290.0, 942.0, 1069.0, 22753.107421875, 22553.111328125, 22525.73046875, 4690.8818359375, 285.4956970214844, 267.38116455078125, 404.12799072265625, 165.7284698486328, 111.00108337402344, 673.4175415039062, 69.33204650878906, 139.13328552246094, 36.8671760559082, 77.63047790527344, 35.66594696044922, 31.63136100769043, 45.178863525390625, 28.987520217895508, 49.30670928955078, 41.06108474731445, 23.165184020996094, 23.79993438720703, 407.3638610839844, 18.86848258972168, 17.83499526977539, 11.476242065429688, 51.820953369140625, 14.799678802490234, 35.931758880615234, 37.79463195800781, 53.18566131591797, 14516.619140625, 28.0411376953125, 112.29937744140625, 53.7009162902832, 71.69366455078125, 168.49427795410156, 137.8734588623047, 246.91677856445312, 58.733089447021484, 59.81147766113281, 957.9385986328125, 57.595947265625, 866.6181030273438, 123.74861145019531, 379.1614685058594, 209.5685577392578, 494.0303039550781, 438.6863708496094, 571.6631469726562, 186.7718963623047, 93.9325180053711, 14302.99609375, 7395.9541015625, 3894.93701171875, 3192.79345703125, 2534.782470703125, 3232.323974609375, 1407.0157470703125, 1109.1951904296875, 1061.6451416015625, 824.5172119140625, 827.4646606445312, 805.96240234375, 632.2364501953125, 582.7632446289062, 576.5145263671875, 485.6216125488281, 468.6597595214844, 313.7762756347656, 371.69854736328125, 289.0538024902344, 429.467041015625, 282.9780578613281, 299.93438720703125, 251.98085021972656, 308.5310363769531, 234.21096801757812, 206.3872833251953, 362.30633544921875, 191.65377807617188, 161.81187438964844, 1290.3958740234375, 3002.126953125, 1918.5091552734375, 244.2959747314453, 2190.124267578125, 14516.619140625, 406.5642395019531, 3171.732666015625, 3132.322998046875, 1825.9908447265625, 1736.475830078125, 1720.089111328125, 1628.54052734375, 1419.25634765625, 1069.1842041015625, 585.8721923828125, 512.1127319335938, 413.1768493652344, 299.53271484375, 277.81658935546875, 215.51211547851562, 222.0883331298828, 91.38138580322266, 81.68144226074219, 109.28041076660156, 133.8617706298828, 86.17359924316406, 14302.99609375, 120.14241027832031, 74.75348663330078, 145.74603271484375, 90.61858367919922, 97.62679290771484, 363.7352294921875, 57.377357482910156, 153.74107360839844, 52.41526412963867, 1388.79248046875, 114.9911117553711, 828.0847778320312, 354.14300537109375, 571.6631469726562, 866.6181030273438, 494.0303039550781, 957.9385986328125, 2190.124267578125, 159.04412841796875, 337.2441711425781, 1846.4415283203125, 1849.10205078125, 1447.76123046875, 1457.1331787109375, 942.4744262695312, 640.0517578125, 603.974365234375, 575.88330078125, 468.5636901855469, 472.27105712890625, 395.3294982910156, 352.23712158203125, 353.85089111328125, 323.75030517578125, 330.0410461425781, 314.9100341796875, 289.1954345703125, 236.66506958007812, 270.62310791015625, 229.06942749023438, 240.70498657226562, 212.38116455078125, 235.8055419921875, 186.631591796875, 177.6711883544922, 192.261962890625, 153.09085083007812, 155.9828643798828, 172.6810760498047, 230.26441955566406, 170.70970153808594, 286.1934509277344, 180.26446533203125, 438.6863708496094], \"Category\": [\"Default\", \"Default\", \"Default\", \"Default\", \"Default\", \"Default\", \"Default\", \"Default\", \"Default\", \"Default\", \"Default\", \"Default\", \"Default\", \"Default\", \"Default\", \"Default\", \"Default\", \"Default\", \"Default\", \"Default\", \"Default\", \"Default\", \"Default\", \"Default\", \"Default\", \"Default\", \"Default\", \"Default\", \"Default\", \"Default\", \"Topic1\", \"Topic1\", \"Topic1\", \"Topic1\", \"Topic1\", \"Topic1\", \"Topic1\", \"Topic1\", \"Topic1\", \"Topic1\", \"Topic1\", \"Topic1\", \"Topic1\", \"Topic1\", \"Topic1\", \"Topic1\", \"Topic1\", \"Topic1\", \"Topic1\", \"Topic1\", \"Topic1\", \"Topic1\", \"Topic1\", \"Topic1\", \"Topic1\", \"Topic1\", \"Topic1\", \"Topic1\", \"Topic1\", \"Topic1\", \"Topic1\", \"Topic1\", \"Topic1\", \"Topic1\", \"Topic1\", \"Topic1\", \"Topic1\", \"Topic1\", \"Topic1\", \"Topic1\", \"Topic1\", \"Topic1\", \"Topic1\", \"Topic1\", \"Topic1\", \"Topic1\", \"Topic1\", \"Topic1\", \"Topic1\", \"Topic1\", \"Topic1\", \"Topic1\", \"Topic1\", \"Topic2\", \"Topic2\", \"Topic2\", \"Topic2\", \"Topic2\", \"Topic2\", \"Topic2\", \"Topic2\", \"Topic2\", \"Topic2\", \"Topic2\", \"Topic2\", \"Topic2\", \"Topic2\", \"Topic2\", \"Topic2\", \"Topic2\", \"Topic2\", \"Topic2\", \"Topic2\", \"Topic2\", \"Topic2\", \"Topic2\", \"Topic2\", \"Topic2\", \"Topic2\", \"Topic2\", \"Topic2\", \"Topic2\", \"Topic2\", \"Topic2\", \"Topic2\", \"Topic2\", \"Topic2\", \"Topic2\", \"Topic2\", \"Topic3\", \"Topic3\", \"Topic3\", \"Topic3\", \"Topic3\", \"Topic3\", \"Topic3\", \"Topic3\", \"Topic3\", \"Topic3\", \"Topic3\", \"Topic3\", \"Topic3\", \"Topic3\", \"Topic3\", \"Topic3\", \"Topic3\", \"Topic3\", \"Topic3\", \"Topic3\", \"Topic3\", \"Topic3\", \"Topic3\", \"Topic3\", \"Topic3\", \"Topic3\", \"Topic3\", \"Topic3\", \"Topic3\", \"Topic3\", \"Topic3\", \"Topic3\", \"Topic3\", \"Topic3\", \"Topic3\", \"Topic3\", \"Topic3\", \"Topic3\", \"Topic3\", \"Topic3\", \"Topic3\", \"Topic4\", \"Topic4\", \"Topic4\", \"Topic4\", \"Topic4\", \"Topic4\", \"Topic4\", \"Topic4\", \"Topic4\", \"Topic4\", \"Topic4\", \"Topic4\", \"Topic4\", \"Topic4\", \"Topic4\", \"Topic4\", \"Topic4\", \"Topic4\", \"Topic4\", \"Topic4\", \"Topic4\", \"Topic4\", \"Topic4\", \"Topic4\", \"Topic4\", \"Topic4\", \"Topic4\", \"Topic4\", \"Topic4\", \"Topic4\", \"Topic4\", \"Topic4\", \"Topic4\", \"Topic4\"], \"logprob\": [30.0, 29.0, 28.0, 27.0, 26.0, 25.0, 24.0, 23.0, 22.0, 21.0, 20.0, 19.0, 18.0, 17.0, 16.0, 15.0, 14.0, 13.0, 12.0, 11.0, 10.0, 9.0, 8.0, 7.0, 6.0, 5.0, 4.0, 3.0, 2.0, 1.0, -1.4234999418258667, -1.4322999715805054, -1.433500051498413, -3.0032999515533447, -5.803999900817871, -5.869800090789795, -5.458099842071533, -6.350200176239014, -6.755300045013428, -4.953700065612793, -7.229499816894531, -6.533199787139893, -7.8632001876831055, -7.11870002746582, -7.897799968719482, -8.020500183105469, -7.664899826049805, -8.110199928283691, -7.579400062561035, -7.763700008392334, -8.337300300598145, -8.312100410461426, -5.476600170135498, -8.557999610900879, -8.619400024414062, -9.060400009155273, -7.554999828338623, -8.815799713134766, -7.930600166320801, -7.883399963378906, -7.561299800872803, -2.1231000423431396, -8.191699981689453, -6.89169979095459, -7.592299938201904, -7.331399917602539, -6.594099998474121, -6.795300006866455, -6.448800086975098, -7.556000232696533, -7.559999942779541, -5.733399868011475, -7.593100070953369, -5.978499889373779, -7.172399997711182, -6.807000160217285, -7.065999984741211, -6.7729997634887695, -6.883800029754639, -6.879899978637695, -7.279699802398682, -7.439199924468994, -6.695099830627441, -1.9961999654769897, -2.637500047683716, -2.8362998962402344, -3.067199945449829, -2.8241000175476074, -3.6559998989105225, -3.8940000534057617, -3.9377999305725098, -4.190700054168701, -4.18720006942749, -4.213500022888184, -4.456500053405762, -4.538099765777588, -4.548900127410889, -4.720699787139893, -4.756199836730957, -5.158100128173828, -4.988800048828125, -5.240300178527832, -4.844399929046631, -5.26170015335083, -5.203499794006348, -5.377900123596191, -5.1753997802734375, -5.451300144195557, -5.577899932861328, -5.015500068664551, -5.652699947357178, -5.822199821472168, -3.7458999156951904, -2.906100034713745, -3.364000082015991, -5.412300109863281, -3.9344000816345215, -2.8294999599456787, -5.23799991607666, -2.6619999408721924, -2.674499988555908, -3.2142999172210693, -3.2646000385284424, -3.2741000652313232, -3.3287999629974365, -3.466399908065796, -3.749799966812134, -4.3516998291015625, -4.486599922180176, -4.701499938964844, -5.023600101470947, -5.098999977111816, -5.353600025177002, -5.323599815368652, -6.2153000831604, -6.328100204467773, -6.037099838256836, -5.8343000411987305, -6.275700092315674, -1.1639000177383423, -5.943399906158447, -6.418000221252441, -5.750500202178955, -6.226200103759766, -6.151899814605713, -4.837299823760986, -6.684199810028076, -5.69950008392334, -6.7758002281188965, -3.5197999477386475, -5.9944000244140625, -4.061500072479248, -4.895500183105469, -4.567999839782715, -4.294300079345703, -4.77269983291626, -4.244200229644775, -3.6982998847961426, -5.7891998291015625, -5.682700157165527, -2.902400016784668, -2.9010000228881836, -3.145699977874756, -3.1393001079559326, -3.575200080871582, -3.962399959564209, -4.020400047302246, -4.068299770355225, -4.274600028991699, -4.2667999267578125, -4.444699764251709, -4.560299873352051, -4.555799961090088, -4.644700050354004, -4.625500202178955, -4.672399997711182, -4.757800102233887, -4.958600044250488, -4.8246002197265625, -4.991399765014648, -4.94189977645874, -5.067200183868408, -4.962600231170654, -5.196700096130371, -5.246099948883057, -5.167200088500977, -5.395500183105469, -5.376800060272217, -5.275199890136719, -4.987400054931641, -5.28849983215332, -4.7881999015808105, -5.23960018157959, -4.623000144958496], \"loglift\": [30.0, 29.0, 28.0, 27.0, 26.0, 25.0, 24.0, 23.0, 22.0, 21.0, 20.0, 19.0, 18.0, 17.0, 16.0, 15.0, 14.0, 13.0, 12.0, 11.0, 10.0, 9.0, 8.0, 7.0, 6.0, 5.0, 4.0, 3.0, 2.0, 1.0, 0.8809999823570251, 0.8809999823570251, 0.8809999823570251, 0.8802000284194946, 0.878600001335144, 0.8784000277519226, 0.8770999908447266, 0.8762999773025513, 0.871999979019165, 0.8708000183105469, 0.8684999942779541, 0.8683000206947327, 0.8662999868392944, 0.8661999702453613, 0.8648999929428101, 0.8622999787330627, 0.861299991607666, 0.8597999811172485, 0.859499990940094, 0.8580999970436096, 0.8568999767303467, 0.8550999760627747, 0.850600004196167, 0.8414000272750854, 0.8363000154495239, 0.8361999988555908, 0.8341000080108643, 0.8264999985694885, 0.8246999979019165, 0.8213000297546387, 0.8016999959945679, 0.6306999921798706, 0.8115000128746033, 0.7239999771118164, 0.7612000107765198, 0.7330999970436096, 0.6158000230789185, 0.6152999997138977, 0.3790000081062317, 0.7077999711036682, 0.685699999332428, -0.2612999975681305, 0.6902999877929688, -0.40619999170303345, 0.34619998931884766, -0.4081000089645386, -0.07419999688863754, -0.638700008392334, -0.6306999921798706, -0.8916000127792358, -0.17270000278949738, 0.35510000586509705, -3.9263999462127686, 1.4320000410079956, 1.4319000244140625, 1.4319000244140625, 1.4318000078201294, 1.4318000078201294, 1.4316999912261963, 1.43149995803833, 1.43149995803833, 1.4313000440597534, 1.4313000440597534, 1.4313000440597534, 1.4311000108718872, 1.430999994277954, 1.430999994277954, 1.430799961090088, 1.430799961090088, 1.4300999641418457, 1.4299999475479126, 1.4299999475479126, 1.429900050163269, 1.429800033569336, 1.429800033569336, 1.4296000003814697, 1.4296000003814697, 1.4292999505996704, 1.4292000532150269, 1.4289000034332275, 1.4285000562667847, 1.4282000064849854, 1.4282000064849854, 1.423699975013733, 1.413599967956543, 1.426200032234192, 0.7107999920845032, -0.07569999992847443, 1.0911999940872192, 1.6128000020980835, 1.6128000020980835, 1.6126999855041504, 1.6126999855041504, 1.6126999855041504, 1.6125999689102173, 1.6125999689102173, 1.6124999523162842, 1.6119999885559082, 1.6117000579833984, 1.6115000247955322, 1.6110999584197998, 1.6109000444412231, 1.6102999448776245, 1.610200047492981, 1.6065000295639038, 1.6059000492095947, 1.6058000326156616, 1.6058000326156616, 1.6047999858856201, 1.6047999858856201, 1.6047999858856201, 1.604699969291687, 1.6045000553131104, 1.6039999723434448, 1.6038000583648682, 1.6030999422073364, 1.6030000448226929, 1.6021000146865845, 1.6017999649047852, 1.580899953842163, 1.597599983215332, 1.5562000274658203, 1.5716999769210815, 1.420300006866455, 1.277999997138977, 1.3616000413894653, 1.2278000116348267, 0.9467999935150146, 1.4785000085830688, 0.8334000110626221, 1.9134999513626099, 1.9134000539779663, 1.9134000539779663, 1.9134000539779663, 1.9132000207901, 1.9128999710083008, 1.9128999710083008, 1.9127000570297241, 1.912600040435791, 1.912500023841858, 1.912500023841858, 1.9122999906539917, 1.9121999740600586, 1.9121999740600586, 1.9121999740600586, 1.9120999574661255, 1.9119000434875488, 1.9115999937057495, 1.9115999937057495, 1.9114999771118164, 1.9113999605178833, 1.9112999439239502, 1.9112000465393066, 1.9110000133514404, 1.9108999967575073, 1.9107999801635742, 1.9104000329971313, 1.9104000329971313, 1.9103000164031982, 1.9101999998092651, 1.908400058746338, 1.8919999599456787, 1.9027999639511108, 1.6301000118255615]}, \"token.table\": {\"Topic\": [4, 4, 2, 1, 3, 4, 2, 4, 1, 1, 4, 4, 1, 2, 3, 2, 1, 2, 3, 1, 2, 3, 2, 3, 3, 1, 2, 3, 2, 1, 4, 1, 3, 2, 2, 1, 2, 3, 2, 4, 3, 1, 4, 1, 3, 1, 4, 1, 2, 3, 4, 1, 3, 1, 4, 1, 4, 3, 1, 3, 3, 4, 2, 4, 1, 4, 4, 4, 1, 2, 2, 4, 2, 1, 1, 3, 4, 1, 3, 1, 2, 4, 3, 2, 2, 3, 4, 1, 1, 2, 3, 4, 2, 4, 3, 3, 4, 4, 1, 2, 3, 2, 3, 4, 4, 3, 1, 2, 3, 2, 3, 1, 3, 1, 2, 3, 4, 1, 2, 3, 1, 3, 4, 2, 2, 1, 2, 3, 4, 1, 2, 3, 4, 1, 3, 3, 2, 4, 2, 2, 1, 1, 3, 3, 1, 2, 1, 2, 1, 3, 2, 1, 2, 3, 4, 2, 4, 1, 3, 1, 2, 3, 4, 1, 2, 3, 4, 1, 2, 3, 4, 1, 3, 4, 2, 3, 4, 1, 3, 3, 2, 4, 2, 2, 3, 4, 2, 3, 3, 2, 1, 2, 3, 4, 3, 2, 3, 4, 3, 1, 2, 1, 1, 4, 1, 1, 2, 2, 4, 3, 1, 2, 3, 3, 4, 1, 3, 2, 1, 2, 3, 4, 3, 1, 2, 3, 4, 1, 2, 4, 2, 3, 3, 1, 3, 1, 4, 4, 4, 2, 2], \"Freq\": [0.9994065761566162, 0.9962223172187805, 0.9992780685424805, 0.927209198474884, 0.03566189110279083, 0.03566189110279083, 0.9814912676811218, 0.01824333146214485, 0.9800400137901306, 0.9982637166976929, 0.9987969994544983, 0.9999086260795593, 0.7785559296607971, 0.2214014083147049, 0.9978271722793579, 0.9965437054634094, 0.38650837540626526, 0.11452099680900574, 0.501029372215271, 0.8333919644355774, 0.03472466394305229, 0.13889865577220917, 0.006504442542791367, 0.9886752963066101, 0.9995719790458679, 0.6034421920776367, 0.15389800071716309, 0.23894689977169037, 0.9997515082359314, 0.01109481044113636, 0.9874380826950073, 0.998574435710907, 0.9958264231681824, 0.9975260496139526, 0.9997594356536865, 0.9904701709747314, 0.0014849627623334527, 0.00890977680683136, 0.9963943958282471, 0.002760095288977027, 0.9998277425765991, 0.980787456035614, 0.9993242025375366, 0.8647904992103577, 0.12553410232067108, 0.9956044554710388, 0.9994742274284363, 0.5961726903915405, 0.35131603479385376, 0.05322970077395439, 0.996583878993988, 0.9789969325065613, 0.012881538830697536, 0.8192407488822937, 0.1671919971704483, 0.00585789792239666, 0.9958426356315613, 0.9882832765579224, 0.8548578023910522, 0.14247630536556244, 0.9998968839645386, 0.9991665482521057, 0.9961074590682983, 0.9970711469650269, 0.9909813404083252, 0.00900892075151205, 0.9936988949775696, 0.9994260668754578, 0.9734983444213867, 0.020281216129660606, 0.9996259808540344, 0.999944806098938, 0.9993923306465149, 0.9531822204589844, 0.946238100528717, 0.02783053368330002, 0.9971898198127747, 0.008180104196071625, 0.9918201565742493, 0.9659329056739807, 0.9916302561759949, 0.008327429182827473, 0.9935796856880188, 0.9993727207183838, 0.710834801197052, 0.28285813331604004, 0.00737890787422657, 0.953971803188324, 0.8342826962471008, 0.017026176676154137, 0.10215706378221512, 0.03405235335230827, 0.9987199902534485, 0.9993268251419067, 0.9997259974479675, 0.994881272315979, 0.006861250381916761, 0.9999191164970398, 0.9525161981582642, 0.026458783075213432, 0.026458783075213432, 0.9968847036361694, 0.9970607161521912, 0.9976975321769714, 0.9960559010505676, 0.9998193979263306, 0.9813281893730164, 0.48627376556396484, 0.513669490814209, 0.9988058805465698, 0.9982215166091919, 0.9999675750732422, 0.9976237416267395, 0.2757846713066101, 0.0023078215308487415, 0.7154247164726257, 0.0057695540599524975, 0.21861007809638977, 0.0020241672173142433, 0.7772802710533142, 0.997208833694458, 0.0024744635447859764, 0.9997608661651611, 0.9990992546081543, 0.9963542819023132, 0.7656046152114868, 0.011869839392602444, 0.005934919696301222, 0.21365711092948914, 0.27428948879241943, 0.6408879160881042, 0.08439676463603973, 0.9994966387748718, 0.9459664821624756, 0.9996680617332458, 0.9950995445251465, 0.998912513256073, 0.998205304145813, 0.9991075396537781, 0.9986903071403503, 0.958501935005188, 0.8938394784927368, 0.09310828149318695, 0.9916573166847229, 0.9991724491119385, 0.000639538571704179, 0.969649076461792, 0.02945769391953945, 0.9663892388343811, 0.9920774102210999, 0.9949826002120972, 0.22111469507217407, 0.013677197508513927, 0.011397664435207844, 0.7522458434104919, 0.020964840427041054, 0.9783592224121094, 0.3194359242916107, 0.6806281805038452, 0.11267800629138947, 0.39733821153640747, 0.45960766077041626, 0.029652105644345284, 0.10060101002454758, 0.018862688913941383, 0.8739712834358215, 0.9983867406845093, 0.9455634355545044, 0.019297214224934578, 0.019297214224934578, 0.9998756051063538, 0.008323455229401588, 0.9904912114143372, 0.9971101880073547, 0.008247757330536842, 0.9897308945655823, 0.00274925259873271, 0.008696324191987514, 0.9826846718788147, 0.9899203777313232, 0.9958184361457825, 0.003874779911711812, 0.9996913075447083, 0.999824047088623, 0.9684672355651855, 0.030962148681282997, 0.9946950674057007, 0.004093395546078682, 0.9985113143920898, 0.999438464641571, 0.16968034207820892, 0.001749281887896359, 0.8239117860794067, 0.003498563775792718, 0.9863809943199158, 0.031060898676514626, 0.9600641131401062, 0.008471154607832432, 0.9931737780570984, 0.9846673011779785, 0.007187352515757084, 0.9739067554473877, 0.9741584062576294, 0.9945088624954224, 0.9928693175315857, 0.9999950528144836, 0.9981235265731812, 0.999871015548706, 0.9976824522018433, 0.9934232234954834, 0.9213009476661682, 0.018802059814333916, 0.056406181305646896, 0.9997689723968506, 0.9966158270835876, 0.05434226244688034, 0.9443477392196655, 0.9981206655502319, 0.5818247199058533, 0.00808089878410101, 0.08888988941907883, 0.3070741593837738, 0.9999482035636902, 0.7688209414482117, 0.007253027521073818, 0.06527724862098694, 0.16681963205337524, 0.9999952912330627, 0.998278796672821, 0.9975953102111816, 0.9998997449874878, 0.9994573593139648, 0.9935622215270996, 0.3480181097984314, 0.6478490829467773, 0.9764783978462219, 0.9996969103813171, 0.9984661936759949, 0.9986374974250793, 0.9985922574996948, 0.9965887665748596], \"Term\": [\"abduct\", \"abduction\", \"accuse\", \"affiliate\", \"affiliate\", \"affiliate\", \"also\", \"also\", \"anti_semitic\", \"army\", \"arrest\", \"assailant\", \"attack\", \"attack\", \"begin\", \"believe\", \"belong\", \"belong\", \"belong\", \"brother\", \"brother\", \"brother\", \"campaign\", \"campaign\", \"candidate\", \"capital\", \"capital\", \"capital\", \"carry\", \"celebrate\", \"celebrate\", \"center\", \"christian\", \"civilian\", \"claim\", \"coincide\", \"coincide\", \"coincide\", \"collaborate\", \"collaborate\", \"community\", \"connect\", \"construction\", \"controversial\", \"controversial\", \"critical\", \"demand\", \"dissuade\", \"dissuade\", \"dissuade\", \"district\", \"disturb\", \"disturb\", \"divert\", \"divert\", \"early\", \"early\", \"egypt\", \"elect\", \"elect\", \"election\", \"exchange\", \"family\", \"farmer\", \"festivity\", \"festivity\", \"flag\", \"follow\", \"food\", \"food\", \"force\", \"government\", \"group\", \"hinder\", \"host\", \"host\", \"hostage\", \"however\", \"however\", \"imam\", \"incident\", \"incident\", \"independence\", \"informant\", \"intend\", \"intend\", \"intend\", \"jewish\", \"kenyas\", \"kenyas\", \"kenyas\", \"kenyas\", \"kill\", \"land\", \"large\", \"lead\", \"lead\", \"leader\", \"livestock\", \"livestock\", \"livestock\", \"local\", \"majority\", \"make\", \"mapuche\", \"may\", \"mayor\", \"member\", \"member\", \"military\", \"minority\", \"motive\", \"muslim\", \"nepal\", \"nepal\", \"nepal\", \"nepal\", \"nepals_federal\", \"nepals_federal\", \"nepals_federal\", \"noted\", \"noted\", \"occur\", \"officer\", \"operation\", \"opposed\", \"opposed\", \"opposed\", \"opposed\", \"opposition\", \"opposition\", \"opposition\", \"order\", \"parade\", \"part\", \"participate\", \"party\", \"pay\", \"people\", \"personnel\", \"pilgrim\", \"politic\", \"politic\", \"polling\", \"posit\", \"posit\", \"posited\", \"posited\", \"possess\", \"presidential\", \"prevent\", \"previously\", \"previously\", \"previously\", \"previously\", \"project\", \"project\", \"provincial\", \"provincial\", \"publication\", \"publication\", \"publication\", \"publication\", \"rally\", \"rally\", \"rally\", \"ransom\", \"reference\", \"reference\", \"reference\", \"refuse\", \"region\", \"region\", \"release\", \"report\", \"report\", \"report\", \"representative\", \"representative\", \"residence\", \"response\", \"response\", \"responsibility\", \"retaliation\", \"schedule\", \"schedule\", \"school\", \"school\", \"sectarian\", \"security\", \"separate\", \"separate\", \"separate\", \"separate\", \"separatist\", \"serve\", \"serve\", \"serve\", \"several\", \"shop\", \"shop\", \"shutdown\", \"smuggling\", \"somali\", \"speak\", \"specific\", \"spy\", \"state\", \"steal\", \"sunni\", \"supportive\", \"supportive\", \"supportive\", \"suspect\", \"take\", \"targeted\", \"targeted\", \"threaten\", \"transport\", \"transport\", \"transport\", \"transport\", \"trend\", \"trump\", \"trump\", \"trump\", \"trump\", \"unknown\", \"use\", \"vehicle\", \"victim\", \"violence\", \"vote\", \"voting\", \"voting\", \"wall\", \"want\", \"warn\", \"week\", \"work\", \"would\"]}, \"R\": 30, \"lambda.step\": 0.01, \"plot.opts\": {\"xlab\": \"PC1\", \"ylab\": \"PC2\"}, \"topic.order\": [4, 1, 2, 3]};\n",
       "\n",
       "function LDAvis_load_lib(url, callback){\n",
       "  var s = document.createElement('script');\n",
       "  s.src = url;\n",
       "  s.async = true;\n",
       "  s.onreadystatechange = s.onload = callback;\n",
       "  s.onerror = function(){console.warn(\"failed to load library \" + url);};\n",
       "  document.getElementsByTagName(\"head\")[0].appendChild(s);\n",
       "}\n",
       "\n",
       "if(typeof(LDAvis) !== \"undefined\"){\n",
       "   // already loaded: just create the visualization\n",
       "   !function(LDAvis){\n",
       "       new LDAvis(\"#\" + \"ldavis_el334022524110450644514630734\", ldavis_el334022524110450644514630734_data);\n",
       "   }(LDAvis);\n",
       "}else if(typeof define === \"function\" && define.amd){\n",
       "   // require.js is available: use it to load d3/LDAvis\n",
       "   require.config({paths: {d3: \"https://cdnjs.cloudflare.com/ajax/libs/d3/3.5.5/d3.min\"}});\n",
       "   require([\"d3\"], function(d3){\n",
       "      window.d3 = d3;\n",
       "      LDAvis_load_lib(\"https://cdn.rawgit.com/bmabey/pyLDAvis/files/ldavis.v1.0.0.js\", function(){\n",
       "        new LDAvis(\"#\" + \"ldavis_el334022524110450644514630734\", ldavis_el334022524110450644514630734_data);\n",
       "      });\n",
       "    });\n",
       "}else{\n",
       "    // require.js not available: dynamically load d3 & LDAvis\n",
       "    LDAvis_load_lib(\"https://cdnjs.cloudflare.com/ajax/libs/d3/3.5.5/d3.min.js\", function(){\n",
       "         LDAvis_load_lib(\"https://cdn.rawgit.com/bmabey/pyLDAvis/files/ldavis.v1.0.0.js\", function(){\n",
       "                 new LDAvis(\"#\" + \"ldavis_el334022524110450644514630734\", ldavis_el334022524110450644514630734_data);\n",
       "            })\n",
       "         });\n",
       "}\n",
       "</script>"
      ],
      "text/plain": [
       "PreparedData(topic_coordinates=              x         y  topics  cluster       Freq\n",
       "topic                                                \n",
       "3     -0.253540 -0.129926       1        1  41.437321\n",
       "0     -0.193972  0.066327       2        1  23.881220\n",
       "1      0.280981 -0.267952       3        1  19.928844\n",
       "2      0.166531  0.331551       4        1  14.752613, topic_info=            Term          Freq         Total Category  logprob  loglift\n",
       "209      however  14302.000000  14302.000000  Default  30.0000  30.0000\n",
       "215      unknown  22753.000000  22753.000000  Default  29.0000  29.0000\n",
       "214     specific  22553.000000  22553.000000  Default  28.0000  28.0000\n",
       "2         motive  22525.000000  22525.000000  Default  27.0000  27.0000\n",
       "447        state   7395.000000   7395.000000  Default  26.0000  26.0000\n",
       "...          ...           ...           ...      ...      ...      ...\n",
       "2231      somali    229.451187    230.264420   Topic4  -4.9874   1.9102\n",
       "739        early    169.802567    170.709702   Topic4  -5.2885   1.9084\n",
       "1450     project    280.030518    286.193451   Topic4  -4.7882   1.8920\n",
       "1044   celebrate    178.307098    180.264465   Topic4  -5.2396   1.9028\n",
       "555   previously    330.355438    438.686371   Topic4  -4.6230   1.6301\n",
       "\n",
       "[194 rows x 6 columns], token_table=      Topic      Freq       Term\n",
       "term                            \n",
       "1905      4  0.999407     abduct\n",
       "1355      4  0.996222  abduction\n",
       "535       2  0.999278     accuse\n",
       "539       1  0.927209  affiliate\n",
       "539       3  0.035662  affiliate\n",
       "...     ...       ...        ...\n",
       "289       4  0.999697       want\n",
       "890       4  0.998466       warn\n",
       "528       4  0.998637       week\n",
       "435       2  0.998592       work\n",
       "416       2  0.996589      would\n",
       "\n",
       "[241 rows x 3 columns], R=30, lambda_step=0.01, plot_opts={'xlab': 'PC1', 'ylab': 'PC2'}, topic_order=[4, 1, 2, 3])"
      ]
     },
     "execution_count": 25,
     "metadata": {},
     "output_type": "execute_result"
    }
   ],
   "source": [
    "import pyLDAvis.gensim\n",
    "pyLDAvis.enable_notebook()\n",
    "vis = pyLDAvis.gensim.prepare(lda_model, corpus, dictionary=lda_model.id2word)\n",
    "vis"
   ]
  },
  {
   "cell_type": "code",
   "execution_count": null,
   "metadata": {},
   "outputs": [],
   "source": []
  },
  {
   "cell_type": "code",
   "execution_count": null,
   "metadata": {},
   "outputs": [],
   "source": []
  },
  {
   "cell_type": "code",
   "execution_count": null,
   "metadata": {},
   "outputs": [],
   "source": []
  },
  {
   "cell_type": "code",
   "execution_count": null,
   "metadata": {},
   "outputs": [],
   "source": []
  },
  {
   "cell_type": "code",
   "execution_count": null,
   "metadata": {},
   "outputs": [],
   "source": []
  },
  {
   "cell_type": "code",
   "execution_count": null,
   "metadata": {},
   "outputs": [],
   "source": []
  },
  {
   "cell_type": "code",
   "execution_count": null,
   "metadata": {},
   "outputs": [],
   "source": []
  },
  {
   "cell_type": "markdown",
   "metadata": {},
   "source": [
    "#### Thoughts on way forward for modeling\n",
    "- Data cleaning **[Done]**\n",
    "**Note: Laptop unable to handle full dataset (181,691) word vectorizatn, able to handle remaining rows (drop null and motive unknown)**\n",
    "- Research (concurrent) credibility of using motive to classify bombing and non-bombing **[Done]**\n",
    "    -Target `atkmode` Variable `Vectorized Words in motive`.\n",
    "- Review class balance **[Done]**\n",
    "- SMOTE if imbalance **[Current balance seems adequate. Unexpected that bombing incidents can so high]**\n",
    "\n",
    "- Review the words in bomb and non-bomb atkmodes **[Done]**\n",
    "- Explore **Spacy** - Entity identification **[Dependency and Visualisation Done]**\n",
    "- Explore extract noun and adjective \n",
    "- Read the motive to understand the structure **[Prelim done]**\n",
    "\n",
    "\n",
    "- Oriented understanding \n",
    "    - model insights extraction (besides NB, such as log reg, or decision tree), top positive / negative words **[Done]**\n",
    "    - LDA standalone model first\n",
    "    - LDA drill deeper\n",
    "- Build Models workflow. How it groups motives (is there a temporal aspect to it?)\n",
    "- How many words on average in a motive? Primary motive words?\n",
    "\n",
    "\n",
    "- 1. Classifiers (best of lot)?\n",
    "- 2. Ensemble?"
   ]
  },
  {
   "cell_type": "markdown",
   "metadata": {},
   "source": [
    "**!!!Own notes!!!** \n",
    "We could review the overlap words and remove them via stopwords to improve the classification capability of the classifier model. The other approach is to utilise LDA (an unsupervised learning technique) to uncover underlying topics in `motive` data, based on word frequency within a document set. Latent topics would be generated for both the \"training\" and \"testing\" dataset, to classify text in a documents into topics. **still not too sure how it can fit towards atk mode classification.**"
   ]
  },
  {
   "cell_type": "code",
   "execution_count": null,
   "metadata": {},
   "outputs": [],
   "source": []
  }
 ],
 "metadata": {
  "kernelspec": {
   "display_name": "Python 3",
   "language": "python",
   "name": "python3"
  },
  "language_info": {
   "codemirror_mode": {
    "name": "ipython",
    "version": 3
   },
   "file_extension": ".py",
   "mimetype": "text/x-python",
   "name": "python",
   "nbconvert_exporter": "python",
   "pygments_lexer": "ipython3",
   "version": "3.7.6"
  }
 },
 "nbformat": 4,
 "nbformat_minor": 4
}
